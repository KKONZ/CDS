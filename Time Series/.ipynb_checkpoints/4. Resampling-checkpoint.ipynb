{
 "cells": [
  {
   "cell_type": "code",
   "execution_count": 1,
   "metadata": {
    "collapsed": true
   },
   "outputs": [],
   "source": [
    "import pandas as pd\n",
    "import numpy as np"
   ]
  },
  {
   "cell_type": "code",
   "execution_count": 2,
   "metadata": {
    "collapsed": true
   },
   "outputs": [],
   "source": [
    "rng = pd.date_range('1/1/2011', periods=72, freq='H')\n",
    "ts = pd.Series(np.random.randn(len(rng)), index=rng)"
   ]
  },
  {
   "cell_type": "code",
   "execution_count": 3,
   "metadata": {
    "collapsed": true
   },
   "outputs": [],
   "source": [
    "converted = ts.asfreq('45Min', method='pad')"
   ]
  },
  {
   "cell_type": "markdown",
   "metadata": {
    "collapsed": true
   },
   "source": [
    "# Does asfreq change the # of rows?"
   ]
  },
  {
   "cell_type": "markdown",
   "metadata": {},
   "source": [
    "Yes because the frequency is now smaller, there will be more number of rows"
   ]
  },
  {
   "cell_type": "markdown",
   "metadata": {},
   "source": [
    "# What do the different methods do?\n",
    "\n",
    "## method : {‘backfill’, ‘bfill’, ‘pad’, ‘ffill’, None}\n",
    "\n",
    "Method to use for filling holes in reindexed Series (note this does not fill NaNs that already were present):\n",
    "\n",
    "* ‘pad’ / ‘ffill’: propagate last valid observation forward to next valid\n",
    "\n",
    "* ‘backfill’ / ‘bfill’: use NEXT valid observation to fill"
   ]
  },
  {
   "cell_type": "markdown",
   "metadata": {},
   "source": [
    "# Might any of these methods have pitfalls from a logical point of view?"
   ]
  },
  {
   "cell_type": "markdown",
   "metadata": {},
   "source": [
    "Backfill is not used as much as forward fill because it in essence is looking into the future, this can result in overfitting and should be used with caution."
   ]
  },
  {
   "cell_type": "markdown",
   "metadata": {
    "collapsed": true
   },
   "source": [
    "# What's the difference between going to a higher frequency and a lower frequency?"
   ]
  },
  {
   "cell_type": "markdown",
   "metadata": {},
   "source": [
    "A higher frequency will mean that you are taking more frequent observations, there will be more records and the time slices will be closer together in high frequencies in general."
   ]
  },
  {
   "cell_type": "code",
   "execution_count": 5,
   "metadata": {
    "collapsed": true
   },
   "outputs": [],
   "source": [
    "converted = ts.asfreq('90Min', method = 'bfill')"
   ]
  },
  {
   "cell_type": "markdown",
   "metadata": {
    "collapsed": true
   },
   "source": [
    "# What's different logically about going to a higher frequency vs a lower frequency? \n",
    "# What do you want to do when switching to a lower freqeuncy that is not logical when switching to a higher frequency?"
   ]
  },
  {
   "cell_type": "markdown",
   "metadata": {},
   "source": [
    "If you are using a higher frequency then you have more data to work with. An example of a low frequency model would be if the data that is being recorded only change over a long period of time, or if you only care about a particular period in an irregular series."
   ]
  },
  {
   "cell_type": "code",
   "execution_count": 6,
   "metadata": {},
   "outputs": [
    {
     "data": {
      "text/plain": [
       "2011-01-01   -6.231686\n",
       "2011-01-02    4.821490\n",
       "2011-01-03    0.953290\n",
       "Freq: D, dtype: float64"
      ]
     },
     "execution_count": 6,
     "metadata": {},
     "output_type": "execute_result"
    }
   ],
   "source": [
    "ts.resample('D').sum()"
   ]
  },
  {
   "cell_type": "markdown",
   "metadata": {
    "collapsed": true
   },
   "source": [
    "# What if you want to downsample and you don't want to ffill or bfill?\n"
   ]
  },
  {
   "cell_type": "markdown",
   "metadata": {},
   "source": [
    "Another option would be to use .resample()"
   ]
  },
  {
   "cell_type": "markdown",
   "metadata": {
    "collapsed": true
   },
   "source": [
    "# What is the difference between .resample() and .asfreq()?"
   ]
  },
  {
   "cell_type": "markdown",
   "metadata": {},
   "source": [
    ".resample() is used to sample sections of the data were as .asfreq() is the time frequency of the data and is just an 'up/down' read of the ts data."
   ]
  },
  {
   "cell_type": "markdown",
   "metadata": {
    "collapsed": true
   },
   "source": [
    "# What are some special things you can do with .resample() you can't do with .asfreq()?\n"
   ]
  },
  {
   "cell_type": "markdown",
   "metadata": {
    "collapsed": true
   },
   "source": [
    ".resample() has more dynamic aggregation functions."
   ]
  },
  {
   "cell_type": "code",
   "execution_count": null,
   "metadata": {
    "collapsed": true
   },
   "outputs": [],
   "source": []
  }
 ],
 "metadata": {
  "kernelspec": {
   "display_name": "Python 3",
   "language": "python",
   "name": "python3"
  },
  "language_info": {
   "codemirror_mode": {
    "name": "ipython",
    "version": 3
   },
   "file_extension": ".py",
   "mimetype": "text/x-python",
   "name": "python",
   "nbconvert_exporter": "python",
   "pygments_lexer": "ipython3",
   "version": "3.6.1"
  },
  "widgets": {
   "state": {},
   "version": "1.1.1"
  }
 },
 "nbformat": 4,
 "nbformat_minor": 1
}
