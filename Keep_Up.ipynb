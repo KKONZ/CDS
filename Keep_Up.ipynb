{
 "cells": [
  {
   "cell_type": "markdown",
   "metadata": {},
   "source": [
    "## Keep Up Interview Challenge"
   ]
  },
  {
   "cell_type": "markdown",
   "metadata": {},
   "source": [
    "### 1.) Trustworthiness of ratings\n",
    "\n",
    "Ratings are susceptible to manipulation, bias etc. What can you say (quantitatively\n",
    "speaking) about the ratings in this dataset?"
   ]
  },
  {
   "cell_type": "markdown",
   "metadata": {},
   "source": [
    "For this exercise, you will analyze a dataset from Amazon. The data format and a\n",
    "sample entry are shown on the next page. "
   ]
  },
  {
   "cell_type": "code",
   "execution_count": 1,
   "metadata": {
    "collapsed": true
   },
   "outputs": [],
   "source": [
    "# load the needed packages\n",
    "import pandas as pd\n",
    "import numpy as np\n",
    "import matplotlib.pyplot as plt\n",
    "%matplotlib inline\n",
    "import re"
   ]
  },
  {
   "cell_type": "code",
   "execution_count": 43,
   "metadata": {},
   "outputs": [],
   "source": [
    "with open(\"C:\\\\Users\\\\karlk\\\\amazon-meta.txt\", \"r\", encoding=\"utf8\") as f:\n",
    "    ProductPerLine = f.read().split('\\n\\n')"
   ]
  },
  {
   "cell_type": "code",
   "execution_count": 3,
   "metadata": {},
   "outputs": [
    {
     "data": {
      "text/plain": [
       "'Id:   49999\\nASIN: B00004TGQX\\n  title: Party Tyme Karaoke: Country\\n  group: Music\\n  salesrank: 44630\\n  similar: 5  B00004TGQW  B000059T05  B00004ZBD9  B000068UZZ  B000068V01\\n  categories: 6\\n   |Music[5174]|Styles[301668]|Country[16]|General[63695]\\n   |Music[5174]|Styles[301668]|Miscellaneous[35]|Karaoke[63945]\\n   |Music[5174]|Styles[301668]|Miscellaneous[35]|General[170942]\\n   |Music[5174]|Styles[301668]|Country[16]|Compilations[466016]|General[466018]\\n   |Music[5174]|Specialty Stores[468040]|Indie Music[266023]|Country[171242]|General[520136]\\n   |Music[5174]|Specialty Stores[468040]|Indie Music[266023]|Miscellaneous[171247]|Karaoke[560746]\\n  reviews: total: 1  downloaded: 1  avg rating: 4\\n    2001-1-2  cutomer: A3JN4KASA6S550  rating: 4  votes:  10  helpful:  10'"
      ]
     },
     "execution_count": 3,
     "metadata": {},
     "output_type": "execute_result"
    }
   ],
   "source": [
    "ProductPerLine[50000]"
   ]
  },
  {
   "cell_type": "code",
   "execution_count": 4,
   "metadata": {},
   "outputs": [],
   "source": [
    "tot = len(ProductPerLine) -1 # first line is a description, last line is just a space"
   ]
  },
  {
   "cell_type": "code",
   "execution_count": 5,
   "metadata": {},
   "outputs": [
    {
     "data": {
      "text/plain": [
       "548553"
      ]
     },
     "execution_count": 5,
     "metadata": {},
     "output_type": "execute_result"
    }
   ],
   "source": [
    "tot"
   ]
  },
  {
   "cell_type": "code",
   "execution_count": 6,
   "metadata": {},
   "outputs": [
    {
     "data": {
      "text/plain": [
       "'Id:   1\\nASIN: 0827229534\\n  title: Patterns of Preaching: A Sermon Sampler\\n  group: Book\\n  salesrank: 396585\\n  similar: 5  0804215715  156101074X  0687023955  0687074231  082721619X\\n  categories: 2\\n   |Books[283155]|Subjects[1000]|Religion & Spirituality[22]|Christianity[12290]|Clergy[12360]|Preaching[12368]\\n   |Books[283155]|Subjects[1000]|Religion & Spirituality[22]|Christianity[12290]|Clergy[12360]|Sermons[12370]\\n  reviews: total: 2  downloaded: 2  avg rating: 5\\n    2000-7-28  cutomer: A2JW67OY8U6HHK  rating: 5  votes:  10  helpful:   9\\n    2003-12-14  cutomer: A2VE83MZF98ITY  rating: 5  votes:   6  helpful:   5'"
      ]
     },
     "execution_count": 6,
     "metadata": {},
     "output_type": "execute_result"
    }
   ],
   "source": [
    "ProductPerLine[2]"
   ]
  },
  {
   "cell_type": "code",
   "execution_count": 7,
   "metadata": {},
   "outputs": [],
   "source": [
    "# This cell takes a very long time to run, skip and read from csv after first run\n",
    "\n",
    "# Instantiate lists for Products Table\n",
    "IdStringList = []\n",
    "AsinStringList = []\n",
    "titleStringList = []\n",
    "salesRnkStringList = []\n",
    "groupStringList = []\n",
    "catStringList = []\n",
    "\n",
    "# Instantiate lists for Reviews Table\n",
    "CustomerList = []\n",
    "RatingList = []\n",
    "VoteList = []\n",
    "IdList = []\n",
    "HelpfulList = []\n",
    "\n",
    "\n",
    "# set up regex expressions\n",
    "Id = r'Id:\\s*(\\d+)'\n",
    "Asin = r'ASIN:\\s*(\\w+)'\n",
    "title = r'title:\\s*((.*?)\\n)'\n",
    "Group = r'group:\\s*((.*?)\\n)'\n",
    "Customer = r'cutomer:\\s*((.*?) )'\n",
    "Rating = r'rating:\\s*(\\d+)'\n",
    "SalesRank = r'salesrank:\\s*(\\d+)'\n",
    "Total = r'downloaded:\\s*(\\d+)'\n",
    "Vote = r'votes:\\s*(\\d+)'\n",
    "Helpful = r'helpful:\\s*(\\d+)'\n",
    "Cat = r'categories:\\s*(\\d+)'\n",
    "\n",
    "\n",
    "# Iterate through each element to pull relevant data for products and reviews into lists\n",
    "for i in range(1, tot):#tot):\n",
    "    try:\n",
    "        Id_temp = re.search(Id, ProductPerLine[i])\n",
    "        IdStringList.append(Id_temp.group(1))\n",
    "    except:\n",
    "        IdStringList.append('')\n",
    "    try:\n",
    "        Asin_temp = re.search(Asin, ProductPerLine[i])\n",
    "        AsinStringList.append(Asin_temp.group(1))\n",
    "    except:\n",
    "        AsinStringList.append('')\n",
    "    try:\n",
    "        title_temp = re.search(title, ProductPerLine[i])\n",
    "        titleStringList.append(title_temp.group(1))\n",
    "    except:\n",
    "        titleStringList.append('')\n",
    "    try:\n",
    "        Group_temp = re.search(Group, ProductPerLine[i])\n",
    "        groupStringList.append(Group_temp.group(1))\n",
    "    except:\n",
    "        groupStringList.append('')\n",
    "    try:\n",
    "        SaleRnk_temp = re.search(SalesRank, ProductPerLine[i])\n",
    "        salesRnkStringList.append(SaleRnk_temp.group(1))\n",
    "    except:\n",
    "        salesRnkStringList.append('')       \n",
    "\n",
    "    try:\n",
    "        Total_temp = re.search(Total, ProductPerLine[i])\n",
    "        TotalRnkString = Total_temp.group(1)\n",
    "    except:\n",
    "        TotalRnkString = None        \n",
    "\n",
    "    try:\n",
    "        cat_temp = re.search(Cat, ProductPerLine[2])\n",
    "        catStringList.append(cat_temp.group(1))\n",
    "    except:\n",
    "        catStringList.append('') \n",
    "\n",
    "\n",
    "    if TotalRnkString is not None and TotalRnkString != '0':\n",
    "        for j in range(0, int(TotalRnkString)):\n",
    "            try:\n",
    "                Customer_temp = list(re.finditer(Customer, ProductPerLine[i]))\n",
    "                CustomerList.append(Customer_temp[j].group(1))\n",
    "            except:\n",
    "                CustomerList.append('')  \n",
    "\n",
    "            try:\n",
    "                Rating_temp = list(re.finditer(Rating, ProductPerLine[i]))\n",
    "                RatingList.append(Rating_temp[j].group(1))\n",
    "            except:\n",
    "                RatingList.append('')  \n",
    "            \n",
    "            try:\n",
    "                Vote_temp = list(re.finditer(Vote, ProductPerLine[i]))\n",
    "                VoteList.append(Vote_temp[j].group(1))\n",
    "            except:\n",
    "                VoteList.append('')  \n",
    "            try:\n",
    "                Helpful_temp = list(re.finditer(Helpful, ProductPerLine[i]))\n",
    "                HelpfulList.append(Helpful_temp[j].group(1))\n",
    "            except:\n",
    "                HelpfulList.append('')  \n",
    "                \n",
    "            IdList.append(i-1)\n"
   ]
  },
  {
   "cell_type": "code",
   "execution_count": null,
   "metadata": {
    "collapsed": true
   },
   "outputs": [],
   "source": [
    "Products = pd.DataFrame({\n",
    "        'Id':  IdStringList,\n",
    "        'Title': [s.strip('\\n') for s in titleStringList],\n",
    "        'Salesrank': salesRnkStringList,\n",
    "        'Group': [s.strip('\\n') for s in groupStringList],\n",
    "        'CatCount': catStringList\n",
    "    })\n",
    "Products.head()"
   ]
  },
  {
   "cell_type": "code",
   "execution_count": null,
   "metadata": {
    "collapsed": true
   },
   "outputs": [],
   "source": [
    "Products.to_csv('Products.csv')"
   ]
  },
  {
   "cell_type": "code",
   "execution_count": 8,
   "metadata": {},
   "outputs": [
    {
     "data": {
      "text/html": [
       "<div>\n",
       "<style scoped>\n",
       "    .dataframe tbody tr th:only-of-type {\n",
       "        vertical-align: middle;\n",
       "    }\n",
       "\n",
       "    .dataframe tbody tr th {\n",
       "        vertical-align: top;\n",
       "    }\n",
       "\n",
       "    .dataframe thead th {\n",
       "        text-align: right;\n",
       "    }\n",
       "</style>\n",
       "<table border=\"1\" class=\"dataframe\">\n",
       "  <thead>\n",
       "    <tr style=\"text-align: right;\">\n",
       "      <th></th>\n",
       "      <th>Customer</th>\n",
       "      <th>Helpful</th>\n",
       "      <th>Id</th>\n",
       "      <th>Rating</th>\n",
       "      <th>Vote</th>\n",
       "    </tr>\n",
       "  </thead>\n",
       "  <tbody>\n",
       "    <tr>\n",
       "      <th>0</th>\n",
       "      <td>A2JW67OY8U6HHK</td>\n",
       "      <td>9</td>\n",
       "      <td>1</td>\n",
       "      <td>5</td>\n",
       "      <td>10</td>\n",
       "    </tr>\n",
       "    <tr>\n",
       "      <th>1</th>\n",
       "      <td>A2VE83MZF98ITY</td>\n",
       "      <td>5</td>\n",
       "      <td>1</td>\n",
       "      <td>5</td>\n",
       "      <td>6</td>\n",
       "    </tr>\n",
       "    <tr>\n",
       "      <th>2</th>\n",
       "      <td>A11NCO6YTE4BTJ</td>\n",
       "      <td>4</td>\n",
       "      <td>2</td>\n",
       "      <td>4</td>\n",
       "      <td>5</td>\n",
       "    </tr>\n",
       "    <tr>\n",
       "      <th>3</th>\n",
       "      <td>A9CQ3PLRNIR83</td>\n",
       "      <td>5</td>\n",
       "      <td>2</td>\n",
       "      <td>5</td>\n",
       "      <td>5</td>\n",
       "    </tr>\n",
       "    <tr>\n",
       "      <th>4</th>\n",
       "      <td>A13SG9ACZ9O5IM</td>\n",
       "      <td>8</td>\n",
       "      <td>2</td>\n",
       "      <td>4</td>\n",
       "      <td>8</td>\n",
       "    </tr>\n",
       "  </tbody>\n",
       "</table>\n",
       "</div>"
      ],
      "text/plain": [
       "          Customer Helpful  Id Rating Vote\n",
       "0  A2JW67OY8U6HHK        9   1      5   10\n",
       "1  A2VE83MZF98ITY        5   1      5    6\n",
       "2  A11NCO6YTE4BTJ        4   2      4    5\n",
       "3   A9CQ3PLRNIR83        5   2      5    5\n",
       "4  A13SG9ACZ9O5IM        8   2      4    8"
      ]
     },
     "execution_count": 8,
     "metadata": {},
     "output_type": "execute_result"
    }
   ],
   "source": [
    "Reviews = pd.DataFrame({\n",
    "        'Customer':  CustomerList,\n",
    "        'Rating': RatingList,\n",
    "        'Vote': VoteList,\n",
    "        'Id': IdList, \n",
    "        'Helpful': HelpfulList\n",
    "    })\n",
    "Reviews.head()"
   ]
  },
  {
   "cell_type": "code",
   "execution_count": 12,
   "metadata": {
    "collapsed": true
   },
   "outputs": [],
   "source": [
    "Reviews.to_csv('Keep_Up_Reviews.csv')"
   ]
  },
  {
   "cell_type": "markdown",
   "metadata": {},
   "source": [
    "If the data has already been cleaned then read as csv file."
   ]
  },
  {
   "cell_type": "code",
   "execution_count": 59,
   "metadata": {},
   "outputs": [
    {
     "data": {
      "text/html": [
       "<div>\n",
       "<style>\n",
       "    .dataframe thead tr:only-child th {\n",
       "        text-align: right;\n",
       "    }\n",
       "\n",
       "    .dataframe thead th {\n",
       "        text-align: left;\n",
       "    }\n",
       "\n",
       "    .dataframe tbody tr th {\n",
       "        vertical-align: top;\n",
       "    }\n",
       "</style>\n",
       "<table border=\"1\" class=\"dataframe\">\n",
       "  <thead>\n",
       "    <tr style=\"text-align: right;\">\n",
       "      <th></th>\n",
       "      <th>Group</th>\n",
       "      <th>Id</th>\n",
       "      <th>CatCount</th>\n",
       "      <th>Salesrank</th>\n",
       "      <th>Title</th>\n",
       "    </tr>\n",
       "  </thead>\n",
       "  <tbody>\n",
       "    <tr>\n",
       "      <th>0</th>\n",
       "      <td>NaN</td>\n",
       "      <td>0</td>\n",
       "      <td>NaN</td>\n",
       "      <td>NaN</td>\n",
       "      <td>NaN</td>\n",
       "    </tr>\n",
       "    <tr>\n",
       "      <th>1</th>\n",
       "      <td>Book</td>\n",
       "      <td>1</td>\n",
       "      <td>2.0</td>\n",
       "      <td>396585.0</td>\n",
       "      <td>Patterns of Preaching: A Sermon Sampler</td>\n",
       "    </tr>\n",
       "    <tr>\n",
       "      <th>2</th>\n",
       "      <td>Book</td>\n",
       "      <td>2</td>\n",
       "      <td>2.0</td>\n",
       "      <td>168596.0</td>\n",
       "      <td>Candlemas: Feast of Flames</td>\n",
       "    </tr>\n",
       "    <tr>\n",
       "      <th>3</th>\n",
       "      <td>Book</td>\n",
       "      <td>3</td>\n",
       "      <td>1.0</td>\n",
       "      <td>1270652.0</td>\n",
       "      <td>World War II Allied Fighter Planes Trading Cards</td>\n",
       "    </tr>\n",
       "    <tr>\n",
       "      <th>4</th>\n",
       "      <td>Book</td>\n",
       "      <td>4</td>\n",
       "      <td>5.0</td>\n",
       "      <td>631289.0</td>\n",
       "      <td>Life Application Bible Commentary: 1 and 2 Tim...</td>\n",
       "    </tr>\n",
       "  </tbody>\n",
       "</table>\n",
       "</div>"
      ],
      "text/plain": [
       "  Group  Id  CatCount  Salesrank  \\\n",
       "0   NaN   0       NaN        NaN   \n",
       "1  Book   1       2.0   396585.0   \n",
       "2  Book   2       2.0   168596.0   \n",
       "3  Book   3       1.0  1270652.0   \n",
       "4  Book   4       5.0   631289.0   \n",
       "\n",
       "                                               Title  \n",
       "0                                                NaN  \n",
       "1            Patterns of Preaching: A Sermon Sampler  \n",
       "2                         Candlemas: Feast of Flames  \n",
       "3   World War II Allied Fighter Planes Trading Cards  \n",
       "4  Life Application Bible Commentary: 1 and 2 Tim...  "
      ]
     },
     "execution_count": 59,
     "metadata": {},
     "output_type": "execute_result"
    }
   ],
   "source": [
    "# read csv into Products object\n",
    "Products = pd.read_csv(\"C:/Users/karlk/Keep_Up_Products.csv\", encoding = 'latin1')\n",
    "# select all relevant columns, remove the row_name columns\n",
    "Products = Products[['Group', 'Id', 'CatCount', 'Salesrank', 'Title']]\n",
    "# Examine first rows of Products table\n",
    "Products.head()"
   ]
  },
  {
   "cell_type": "code",
   "execution_count": 29,
   "metadata": {
    "scrolled": true
   },
   "outputs": [
    {
     "data": {
      "text/html": [
       "<div>\n",
       "<style>\n",
       "    .dataframe thead tr:only-child th {\n",
       "        text-align: right;\n",
       "    }\n",
       "\n",
       "    .dataframe thead th {\n",
       "        text-align: left;\n",
       "    }\n",
       "\n",
       "    .dataframe tbody tr th {\n",
       "        vertical-align: top;\n",
       "    }\n",
       "</style>\n",
       "<table border=\"1\" class=\"dataframe\">\n",
       "  <thead>\n",
       "    <tr style=\"text-align: right;\">\n",
       "      <th></th>\n",
       "      <th>Customer</th>\n",
       "      <th>Helpful</th>\n",
       "      <th>Id</th>\n",
       "      <th>Rating</th>\n",
       "      <th>Vote</th>\n",
       "    </tr>\n",
       "  </thead>\n",
       "  <tbody>\n",
       "    <tr>\n",
       "      <th>0</th>\n",
       "      <td>A2JW67OY8U6HHK</td>\n",
       "      <td>9</td>\n",
       "      <td>1</td>\n",
       "      <td>5</td>\n",
       "      <td>10</td>\n",
       "    </tr>\n",
       "    <tr>\n",
       "      <th>1</th>\n",
       "      <td>A2VE83MZF98ITY</td>\n",
       "      <td>5</td>\n",
       "      <td>1</td>\n",
       "      <td>5</td>\n",
       "      <td>6</td>\n",
       "    </tr>\n",
       "    <tr>\n",
       "      <th>2</th>\n",
       "      <td>A11NCO6YTE4BTJ</td>\n",
       "      <td>4</td>\n",
       "      <td>2</td>\n",
       "      <td>4</td>\n",
       "      <td>5</td>\n",
       "    </tr>\n",
       "    <tr>\n",
       "      <th>3</th>\n",
       "      <td>A9CQ3PLRNIR83</td>\n",
       "      <td>5</td>\n",
       "      <td>2</td>\n",
       "      <td>5</td>\n",
       "      <td>5</td>\n",
       "    </tr>\n",
       "    <tr>\n",
       "      <th>4</th>\n",
       "      <td>A13SG9ACZ9O5IM</td>\n",
       "      <td>8</td>\n",
       "      <td>2</td>\n",
       "      <td>4</td>\n",
       "      <td>8</td>\n",
       "    </tr>\n",
       "  </tbody>\n",
       "</table>\n",
       "</div>"
      ],
      "text/plain": [
       "          Customer  Helpful  Id  Rating  Vote\n",
       "0  A2JW67OY8U6HHK         9   1       5    10\n",
       "1  A2VE83MZF98ITY         5   1       5     6\n",
       "2  A11NCO6YTE4BTJ         4   2       4     5\n",
       "3   A9CQ3PLRNIR83         5   2       5     5\n",
       "4  A13SG9ACZ9O5IM         8   2       4     8"
      ]
     },
     "execution_count": 29,
     "metadata": {},
     "output_type": "execute_result"
    }
   ],
   "source": [
    "# read csv into Products object\n",
    "Reviews = pd.read_csv(\"C:/Users/karlk/Keep_Up_Reviews.csv\", encoding = 'latin1')\n",
    "# select all relevant columns, remove the row_name columns\n",
    "Reviews = Reviews[['Customer', 'Helpful', 'Id', 'Rating', 'Vote']]\n",
    "# Examine first rows of Products table\n",
    "Reviews.head()"
   ]
  },
  {
   "cell_type": "code",
   "execution_count": 30,
   "metadata": {},
   "outputs": [
    {
     "data": {
      "text/plain": [
       "7593244"
      ]
     },
     "execution_count": 30,
     "metadata": {},
     "output_type": "execute_result"
    }
   ],
   "source": [
    "len(Reviews)"
   ]
  },
  {
   "cell_type": "code",
   "execution_count": 31,
   "metadata": {},
   "outputs": [
    {
     "data": {
      "text/plain": [
       "0"
      ]
     },
     "execution_count": 31,
     "metadata": {},
     "output_type": "execute_result"
    }
   ],
   "source": [
    "# Make sure every record has a customer id\n",
    "len(Reviews[Reviews['Customer'] == ''])"
   ]
  },
  {
   "cell_type": "markdown",
   "metadata": {},
   "source": [
    "## Check if the reviews are trustworthy"
   ]
  },
  {
   "cell_type": "markdown",
   "metadata": {},
   "source": [
    "Now that the data has been cleaned, lets count the number of times a given customer has reviewed a given product. "
   ]
  },
  {
   "cell_type": "code",
   "execution_count": 32,
   "metadata": {
    "scrolled": true
   },
   "outputs": [],
   "source": [
    "# Count the number of times a given customer reviewed a product\n",
    "t = Reviews[['Customer', 'Id']].groupby(['Customer', 'Id'])\n",
    "t = pd.DataFrame(t.Id.count().sort_values(ascending=False))\n",
    "t.columns = ['Count']"
   ]
  },
  {
   "cell_type": "code",
   "execution_count": 34,
   "metadata": {},
   "outputs": [
    {
     "data": {
      "text/html": [
       "<div>\n",
       "<style>\n",
       "    .dataframe thead tr:only-child th {\n",
       "        text-align: right;\n",
       "    }\n",
       "\n",
       "    .dataframe thead th {\n",
       "        text-align: left;\n",
       "    }\n",
       "\n",
       "    .dataframe tbody tr th {\n",
       "        vertical-align: top;\n",
       "    }\n",
       "</style>\n",
       "<table border=\"1\" class=\"dataframe\">\n",
       "  <thead>\n",
       "    <tr style=\"text-align: right;\">\n",
       "      <th></th>\n",
       "      <th></th>\n",
       "      <th>Count</th>\n",
       "    </tr>\n",
       "    <tr>\n",
       "      <th>Customer</th>\n",
       "      <th>Id</th>\n",
       "      <th></th>\n",
       "    </tr>\n",
       "  </thead>\n",
       "  <tbody>\n",
       "    <tr>\n",
       "      <th rowspan=\"5\" valign=\"top\">A3UN6WX5RRO2AG</th>\n",
       "      <th>534758</th>\n",
       "      <td>1193</td>\n",
       "    </tr>\n",
       "    <tr>\n",
       "      <th>546219</th>\n",
       "      <td>1191</td>\n",
       "    </tr>\n",
       "    <tr>\n",
       "      <th>195904</th>\n",
       "      <td>1191</td>\n",
       "    </tr>\n",
       "    <tr>\n",
       "      <th>528497</th>\n",
       "      <td>1190</td>\n",
       "    </tr>\n",
       "    <tr>\n",
       "      <th>507654</th>\n",
       "      <td>1188</td>\n",
       "    </tr>\n",
       "  </tbody>\n",
       "</table>\n",
       "</div>"
      ],
      "text/plain": [
       "                        Count\n",
       "Customer        Id           \n",
       "A3UN6WX5RRO2AG  534758   1193\n",
       "                546219   1191\n",
       "                195904   1191\n",
       "                528497   1190\n",
       "                507654   1188"
      ]
     },
     "execution_count": 34,
     "metadata": {},
     "output_type": "execute_result"
    }
   ],
   "source": [
    "# Examine the highest number of reviews from a given customer for a given product\n",
    "t.head()"
   ]
  },
  {
   "cell_type": "markdown",
   "metadata": {},
   "source": [
    "### Find the proportion of records that have more than 1 review per customer"
   ]
  },
  {
   "cell_type": "code",
   "execution_count": 35,
   "metadata": {},
   "outputs": [
    {
     "data": {
      "text/plain": [
       "0.046069761802697264"
      ]
     },
     "execution_count": 35,
     "metadata": {},
     "output_type": "execute_result"
    }
   ],
   "source": [
    "len(t[t['Count'] > 1])/len(t)"
   ]
  },
  {
   "cell_type": "markdown",
   "metadata": {},
   "source": [
    "From the cell above we can see that roughly 4.6% of the reviews have multiple reviews per customer. While some of the reviews for the same product may be for different purchases of the same product by the same customer, its hard to believe that the same customer would have bought a given product over 1,000 times (the most extreme example). This means that the reviews are not completely trustworthy."
   ]
  },
  {
   "cell_type": "markdown",
   "metadata": {
    "collapsed": true
   },
   "source": [
    "### 2. Category bloat\n",
    "Consider the product group named 'Books'. Each product in this group is associated with\n",
    "categories. Naturally, with categorization, there are tradeoffs between how broad or\n",
    "specific the categories must be. "
   ]
  },
  {
   "cell_type": "markdown",
   "metadata": {},
   "source": [
    "From above it was clear from the first cells that the group attribute is more or less the same as the first element in the categories though in the categories there is either a category index or a total count for a given category, most likely the later. The total count could be calculated as needed as so the first element may not be needed. See below for an example. "
   ]
  },
  {
   "cell_type": "code",
   "execution_count": 46,
   "metadata": {},
   "outputs": [
    {
     "data": {
      "text/plain": [
       "'Id:   1\\nASIN: 0827229534\\n  title: Patterns of Preaching: A Sermon Sampler\\n  group: Book\\n  salesrank: 396585\\n  similar: 5  0804215715  156101074X  0687023955  0687074231  082721619X\\n  categories: 2\\n   |Books[283155]|Subjects[1000]|Religion & Spirituality[22]|Christianity[12290]|Clergy[12360]|Preaching[12368]\\n   |Books[283155]|Subjects[1000]|Religion & Spirituality[22]|Christianity[12290]|Clergy[12360]|Sermons[12370]\\n  reviews: total: 2  downloaded: 2  avg rating: 5\\n    2000-7-28  cutomer: A2JW67OY8U6HHK  rating: 5  votes:  10  helpful:   9\\n    2003-12-14  cutomer: A2VE83MZF98ITY  rating: 5  votes:   6  helpful:   5'"
      ]
     },
     "execution_count": 46,
     "metadata": {},
     "output_type": "execute_result"
    }
   ],
   "source": [
    "ProductPerLine[2]"
   ]
  },
  {
   "cell_type": "markdown",
   "metadata": {},
   "source": [
    "Above we can see that the first element in the category label is |Books[283155]| with minus the count is the same as the group. Also we could also potentially combine related categories such as religion, christianity, clergy, and sermons into just a religious category if we don't need the granularity. Next we will make sure that this reduces at least 10% of the data from that column."
   ]
  },
  {
   "cell_type": "code",
   "execution_count": 60,
   "metadata": {},
   "outputs": [
    {
     "data": {
      "text/plain": [
       "393560"
      ]
     },
     "execution_count": 60,
     "metadata": {},
     "output_type": "execute_result"
    }
   ],
   "source": [
    "# first find the total number of products that are books\n",
    "len(Products[Products['Group'] == 'Book'])"
   ]
  },
  {
   "cell_type": "code",
   "execution_count": 62,
   "metadata": {},
   "outputs": [
    {
     "data": {
      "text/plain": [
       "1440329.0"
      ]
     },
     "execution_count": 62,
     "metadata": {},
     "output_type": "execute_result"
    }
   ],
   "source": [
    "# Calculate the sum of all of the categories for books\n",
    "Products[Products['Group'] == 'Book'].CatCount.sum()"
   ]
  },
  {
   "cell_type": "markdown",
   "metadata": {},
   "source": [
    "Since each book has at least one category, Books, we can subtract the length of the book group dataframe from the sum."
   ]
  },
  {
   "cell_type": "code",
   "execution_count": 63,
   "metadata": {
    "collapsed": true
   },
   "outputs": [],
   "source": [
    "NewCatCountTotal = Products[Products['Group'] == 'Book'].CatCount.sum()-len(Products[Products['Group'] == 'Book'])"
   ]
  },
  {
   "cell_type": "markdown",
   "metadata": {
    "collapsed": true
   },
   "source": [
    "Next Calculate the percentage difference between the sum having disgarded the books category count."
   ]
  },
  {
   "cell_type": "code",
   "execution_count": 64,
   "metadata": {},
   "outputs": [
    {
     "data": {
      "text/plain": [
       "0.7267568729088979"
      ]
     },
     "execution_count": 64,
     "metadata": {},
     "output_type": "execute_result"
    }
   ],
   "source": [
    "NewCatCountTotal/Products[Products['Group'] == 'Book'].CatCount.sum()"
   ]
  },
  {
   "cell_type": "markdown",
   "metadata": {},
   "source": [
    "Here we can see that removing the first category tag for books results in a roughly 27% decrease in category records."
   ]
  },
  {
   "cell_type": "markdown",
   "metadata": {
    "collapsed": true
   },
   "source": [
    "### 1. Algorithm thinking\n",
    "How would build the product categorization from scratch, using similar/co-purchased\n",
    "information? "
   ]
  },
  {
   "cell_type": "markdown",
   "metadata": {},
   "source": [
    "To build the categorization from scratch, the similarity values could be clustered using Kmeans or a similar algorithm to group the similar items in an unsupervised manar."
   ]
  },
  {
   "cell_type": "markdown",
   "metadata": {},
   "source": [
    "### 2. Product thinking\n",
    "Now, put on your 'product thinking' hat.\n",
    "\n",
    " 1. Is it a good idea to show users the categorization hierarchy for items?\n",
    " 2. Is it a good idea to show users similar/co-purchased items?\n",
    " 3. Is it a good idea to show users reviews and ratings for items?\n",
    " 4. For each of the above, why? How will you establish the same?"
   ]
  },
  {
   "cell_type": "markdown",
   "metadata": {},
   "source": [
    "1. Showing the hierarchy for the categories is likely overkill. The similar items is probably a better solution than the categories.\n",
    "\n",
    "2. Yes, it is a good idea to show similar/co-purchased items to the user, that's why Amazon is already doing that! The advantage is much like putting convenience items in a grocery que, people are likely to buy things impulsively if shown recommendations. Also, people might not realize that a given product is missing an iteam in order to function, like a toy that does not have batteries included. If a given user see that was a co-purchased iteam then they are more likely to realize it is not included and make the additional purchase.\n",
    "\n",
    "3. Yes it is a good idea to show customers other users ratings (as long as they aren't biased like what was found in the trustworthy section), this can help eleviate any skepticism about a product.\n",
    "\n",
    "4. For the similar products we could use an item based recommender solution, all other metrics would just need to be grouped, not derived."
   ]
  }
 ],
 "metadata": {
  "kernelspec": {
   "display_name": "Python 3",
   "language": "python",
   "name": "python3"
  },
  "language_info": {
   "codemirror_mode": {
    "name": "ipython",
    "version": 3
   },
   "file_extension": ".py",
   "mimetype": "text/x-python",
   "name": "python",
   "nbconvert_exporter": "python",
   "pygments_lexer": "ipython3",
   "version": "3.6.1"
  }
 },
 "nbformat": 4,
 "nbformat_minor": 1
}
