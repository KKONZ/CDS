{
 "cells": [
  {
   "cell_type": "markdown",
   "metadata": {},
   "source": [
    "# What is the True Normal Human Body Temperature? \n",
    "\n",
    "#### Background\n",
    "\n",
    "The mean normal body temperature was held to be 37$^{\\circ}$C or 98.6$^{\\circ}$F for more than 120 years since it was first conceptualized and reported by Carl Wunderlich in a famous 1868 book. But, is this value statistically correct?"
   ]
  },
  {
   "cell_type": "markdown",
   "metadata": {},
   "source": [
    "<div class=\"span5 alert alert-info\">\n",
    "<h3>Exercises</h3>\n",
    "\n",
    "<p>In this exercise, you will analyze a dataset of human body temperatures and employ the concepts of hypothesis testing, confidence intervals, and statistical significance.</p>\n",
    "\n",
    "<p>Answer the following questions <b>in this notebook below and submit to your Github account</b>.</p> \n",
    "\n",
    "<ol>\n",
    "<li>  Is the distribution of body temperatures normal? \n",
    "    <ul>\n",
    "    <li> Although this is not a requirement for CLT to hold (read CLT carefully), it gives us some peace of mind that the population may also be normally distributed if we assume that this sample is representative of the population.\n",
    "    </ul>\n",
    "<li>  Is the sample size large? Are the observations independent?\n",
    "    <ul>\n",
    "    <li> Remember that this is a condition for the CLT, and hence the statistical tests we are using, to apply.\n",
    "    </ul>\n",
    "<li>  Is the true population mean really 98.6 degrees F?\n",
    "    <ul>\n",
    "    <li> Would you use a one-sample or two-sample test? Why?\n",
    "    <li> In this situation, is it appropriate to use the $t$ or $z$ statistic? \n",
    "    <li> Now try using the other test. How is the result be different? Why?\n",
    "    </ul>\n",
    "<li>  At what temperature should we consider someone's temperature to be \"abnormal\"?\n",
    "    <ul>\n",
    "    <li> Start by computing the margin of error and confidence interval.\n",
    "    </ul>\n",
    "<li>  Is there a significant difference between males and females in normal temperature?\n",
    "    <ul>\n",
    "    <li> What test did you use and why?\n",
    "    <li> Write a story with your conclusion in the context of the original problem.\n",
    "    </ul>\n",
    "</ol>\n",
    "\n",
    "You can include written notes in notebook cells using Markdown: \n",
    "   - In the control panel at the top, choose Cell > Cell Type > Markdown\n",
    "   - Markdown syntax: http://nestacms.com/docs/creating-content/markdown-cheat-sheet\n",
    "\n",
    "#### Resources\n",
    "\n",
    "+ Information and data sources: http://www.amstat.org/publications/jse/datasets/normtemp.txt, http://www.amstat.org/publications/jse/jse_data_archive.htm\n",
    "+ Markdown syntax: http://nestacms.com/docs/creating-content/markdown-cheat-sheet\n",
    "\n",
    "****\n",
    "</div>"
   ]
  },
  {
   "cell_type": "code",
   "execution_count": 1,
   "metadata": {
    "collapsed": true
   },
   "outputs": [],
   "source": [
    "import pandas as pd\n",
    "\n",
    "df = pd.read_csv('data/human_body_temperature.csv')"
   ]
  },
  {
   "cell_type": "markdown",
   "metadata": {},
   "source": [
    "# 1) Is the distribution of body temperatures normal? \n"
   ]
  },
  {
   "cell_type": "markdown",
   "metadata": {},
   "source": [
    "### First let's visualize the distribution of attribute with a density plot."
   ]
  },
  {
   "cell_type": "code",
   "execution_count": 2,
   "metadata": {},
   "outputs": [
    {
     "name": "stderr",
     "output_type": "stream",
     "text": [
      "C:\\Users\\karlk\\Anaconda3\\lib\\site-packages\\statsmodels\\compat\\pandas.py:56: FutureWarning: The pandas.core.datetools module is deprecated and will be removed in a future version. Please use the pandas.tseries module instead.\n",
      "  from pandas.core import datetools\n"
     ]
    }
   ],
   "source": [
    "import numpy as np\n",
    "import pandas as pd\n",
    "from scipy import stats, integrate\n",
    "import matplotlib.pyplot as plt\n",
    "import seaborn as sns\n",
    "import statsmodels.api as sm\n",
    "from IPython.display import SVG, display\n",
    "import math"
   ]
  },
  {
   "cell_type": "code",
   "execution_count": 3,
   "metadata": {},
   "outputs": [
    {
     "data": {
      "image/png": "[encoded data removed]",
      "text/plain": [
       "<matplotlib.figure.Figure at 0x153052fa128>"
      ]
     },
     "metadata": {},
     "output_type": "display_data"
    }
   ],
   "source": [
    "sns.distplot(df.temperature,label='Sample Distribution');\n",
    "x=np.linspace(min(df.temperature),max(df.temperature),100)\n",
    "pdf=stats.norm.pdf(x,loc=df.temperature.mean(),scale=df.temperature.std())\n",
    "plt.plot(x,pdf,label='Normal Distribution')\n",
    "plt.legend()\n",
    "plt.show()"
   ]
  },
  {
   "cell_type": "markdown",
   "metadata": {},
   "source": [
    "### One method we can use to test the normailty of our data is the sharpiro normality test. The null hypothesis of which is that there is a lack of statistical evidence of a difference in the distribution of the sample data and a normal distribution.\n",
    "The Shapiro test can be conducted via scipy stats.sharpiro. Below is an svg of the shapiro test referenced from its wikipedia page. An svg is a quality graphic that scales to any browser zooming dimension.\n"
   ]
  },
  {
   "cell_type": "code",
   "execution_count": 4,
   "metadata": {},
   "outputs": [
    {
     "data": {
      "image/svg+xml": [
       "<svg height=\"7.676ex\" style=\"vertical-align: -2.838ex;\" viewBox=\"0 -2083 9377.3 3304.9\" width=\"21.78ex\" xmlns=\"http://www.w3.org/2000/svg\" xmlns:xlink=\"http://www.w3.org/1999/xlink\">\n",
       "<defs>\n",
       "<path d=\"M436 683Q450 683 486 682T553 680Q604 680 638 681T677 682Q695 682 695 674Q695 670 692 659Q687 641 683 639T661 637Q636 636 621 632T600 624T597 615Q597 603 613 377T629 138L631 141Q633 144 637 151T649 170T666 200T690 241T720 295T759 362Q863 546 877 572T892 604Q892 619 873 628T831 637Q817 637 817 647Q817 650 819 660Q823 676 825 679T839 682Q842 682 856 682T895 682T949 681Q1015 681 1034 683Q1048 683 1048 672Q1048 666 1045 655T1038 640T1028 637Q1006 637 988 631T958 617T939 600T927 584L923 578L754 282Q586 -14 585 -15Q579 -22 561 -22Q546 -22 542 -17Q539 -14 523 229T506 480L494 462Q472 425 366 239Q222 -13 220 -15T215 -19Q210 -22 197 -22Q178 -22 176 -15Q176 -12 154 304T131 622Q129 631 121 633T82 637H58Q51 644 51 648Q52 671 64 683H76Q118 680 176 680Q301 680 313 683H323Q329 677 329 674T327 656Q322 641 318 637H297Q236 634 232 620Q262 160 266 136L501 550L499 587Q496 629 489 632Q483 636 447 637Q428 637 422 639T416 648Q416 650 418 660Q419 664 420 669T421 676T424 680T428 682T436 683Z\" id=\"E1-MJMATHI-57\" stroke-width=\"10\"/>\n",
       "<path d=\"M56 347Q56 360 70 367H707Q722 359 722 347Q722 336 708 328L390 327H72Q56 332 56 347ZM56 153Q56 168 72 173H708Q722 163 722 153Q722 140 707 133H70Q56 140 56 153Z\" id=\"E1-MJMAIN-3D\" stroke-width=\"10\"/>\n",
       "<path d=\"M94 250Q94 319 104 381T127 488T164 576T202 643T244 695T277 729T302 750H315H319Q333 750 333 741Q333 738 316 720T275 667T226 581T184 443T167 250T184 58T225 -81T274 -167T316 -220T333 -241Q333 -250 318 -250H315H302L274 -226Q180 -141 137 -14T94 250Z\" id=\"E1-MJMAIN-28\" stroke-width=\"10\"/>\n",
       "<path d=\"M61 748Q64 750 489 750H913L954 640Q965 609 976 579T993 533T999 516H979L959 517Q936 579 886 621T777 682Q724 700 655 705T436 710H319Q183 710 183 709Q186 706 348 484T511 259Q517 250 513 244L490 216Q466 188 420 134T330 27L149 -187Q149 -188 362 -188Q388 -188 436 -188T506 -189Q679 -189 778 -162T936 -43Q946 -27 959 6H999L913 -249L489 -250Q65 -250 62 -248Q56 -246 56 -239Q56 -234 118 -161Q186 -81 245 -11L428 206Q428 207 242 462L57 717L56 728Q56 744 61 748Z\" id=\"E1-MJSZ1-2211\" stroke-width=\"10\"/>\n",
       "<path d=\"M21 287Q22 293 24 303T36 341T56 388T89 425T135 442Q171 442 195 424T225 390T231 369Q231 367 232 367L243 378Q304 442 382 442Q436 442 469 415T503 336T465 179T427 52Q427 26 444 26Q450 26 453 27Q482 32 505 65T540 145Q542 153 560 153Q580 153 580 145Q580 144 576 130Q568 101 554 73T508 17T439 -10Q392 -10 371 17T350 73Q350 92 386 193T423 345Q423 404 379 404H374Q288 404 229 303L222 291L189 157Q156 26 151 16Q138 -11 108 -11Q95 -11 87 -5T76 7T74 17Q74 30 112 180T152 343Q153 348 153 366Q153 405 129 405Q91 405 66 305Q60 285 60 284Q58 278 41 278H27Q21 284 21 287Z\" id=\"E1-MJMATHI-6E\" stroke-width=\"10\"/>\n",
       "<path d=\"M184 600Q184 624 203 642T247 661Q265 661 277 649T290 619Q290 596 270 577T226 557Q211 557 198 567T184 600ZM21 287Q21 295 30 318T54 369T98 420T158 442Q197 442 223 419T250 357Q250 340 236 301T196 196T154 83Q149 61 149 51Q149 26 166 26Q175 26 185 29T208 43T235 78T260 137Q263 149 265 151T282 153Q302 153 302 143Q302 135 293 112T268 61T223 11T161 -11Q129 -11 102 10T74 74Q74 91 79 106T122 220Q160 321 166 341T173 380Q173 404 156 404H154Q124 404 99 371T61 287Q60 286 59 284T58 281T56 279T53 278T49 278T41 278H27Q21 284 21 287Z\" id=\"E1-MJMATHI-69\" stroke-width=\"10\"/>\n",
       "<path d=\"M213 578L200 573Q186 568 160 563T102 556H83V602H102Q149 604 189 617T245 641T273 663Q275 666 285 666Q294 666 302 660V361L303 61Q310 54 315 52T339 48T401 46H427V0H416Q395 3 257 3Q121 3 100 0H88V46H114Q136 46 152 46T177 47T193 50T201 52T207 57T213 61V578Z\" id=\"E1-MJMAIN-31\" stroke-width=\"10\"/>\n",
       "<path d=\"M33 157Q33 258 109 349T280 441Q331 441 370 392Q386 422 416 422Q429 422 439 414T449 394Q449 381 412 234T374 68Q374 43 381 35T402 26Q411 27 422 35Q443 55 463 131Q469 151 473 152Q475 153 483 153H487Q506 153 506 144Q506 138 501 117T481 63T449 13Q436 0 417 -8Q409 -10 393 -10Q359 -10 336 5T306 36L300 51Q299 52 296 50Q294 48 292 46Q233 -10 172 -10Q117 -10 75 30T33 157ZM351 328Q351 334 346 350T323 385T277 405Q242 405 210 374T160 293Q131 214 119 129Q119 126 119 118T118 106Q118 61 136 44T179 26Q217 26 254 59T298 110Q300 114 325 217T351 328Z\" id=\"E1-MJMATHI-61\" stroke-width=\"10\"/>\n",
       "<path d=\"M52 289Q59 331 106 386T222 442Q257 442 286 424T329 379Q371 442 430 442Q467 442 494 420T522 361Q522 332 508 314T481 292T458 288Q439 288 427 299T415 328Q415 374 465 391Q454 404 425 404Q412 404 406 402Q368 386 350 336Q290 115 290 78Q290 50 306 38T341 26Q378 26 414 59T463 140Q466 150 469 151T485 153H489Q504 153 504 145Q504 144 502 134Q486 77 440 33T333 -11Q263 -11 227 52Q186 -10 133 -10H127Q78 -10 57 16T35 71Q35 103 54 123T99 143Q142 143 142 101Q142 81 130 66T107 46T94 41L91 40Q91 39 97 36T113 29T132 26Q168 26 194 71Q203 87 217 139T245 247T261 313Q266 340 266 352Q266 380 251 392T217 404Q177 404 142 372T93 290Q91 281 88 280T72 278H58Q52 284 52 289Z\" id=\"E1-MJMATHI-78\" stroke-width=\"10\"/>\n",
       "<path d=\"M60 749L64 750Q69 750 74 750H86L114 726Q208 641 251 514T294 250Q294 182 284 119T261 12T224 -76T186 -143T145 -194T113 -227T90 -246Q87 -249 86 -250H74Q66 -250 63 -250T58 -247T55 -238Q56 -237 66 -225Q221 -64 221 250T66 725Q56 737 55 738Q55 746 60 749Z\" id=\"E1-MJMAIN-29\" stroke-width=\"10\"/>\n",
       "<path d=\"M152 251Q152 646 388 850H416Q422 844 422 841Q422 837 403 816T357 753T302 649T255 482T236 250Q236 124 255 19T301 -147T356 -251T403 -315T422 -340Q422 -343 416 -349H388Q359 -325 332 -296T271 -213T212 -97T170 56T152 251Z\" id=\"E1-MJSZ1-28\" stroke-width=\"10\"/>\n",
       "<path d=\"M305 251Q305 -145 69 -349H56Q43 -349 39 -347T35 -338Q37 -333 60 -307T108 -239T160 -136T204 27T221 250T204 473T160 636T108 740T60 807T35 839Q35 850 50 850H56H69Q197 743 256 566Q305 425 305 251Z\" id=\"E1-MJSZ1-29\" stroke-width=\"10\"/>\n",
       "<path d=\"M109 429Q82 429 66 447T50 491Q50 562 103 614T235 666Q326 666 387 610T449 465Q449 422 429 383T381 315T301 241Q265 210 201 149L142 93L218 92Q375 92 385 97Q392 99 409 186V189H449V186Q448 183 436 95T421 3V0H50V19V31Q50 38 56 46T86 81Q115 113 136 137Q145 147 170 174T204 211T233 244T261 278T284 308T305 340T320 369T333 401T340 431T343 464Q343 527 309 573T212 619Q179 619 154 602T119 569T109 550Q109 549 114 549Q132 549 151 535T170 489Q170 464 154 447T109 429Z\" id=\"E1-MJMAIN-32\" stroke-width=\"10\"/>\n",
       "<path d=\"M84 237T84 250T98 270H679Q694 262 694 250T679 230H98Q84 237 84 250Z\" id=\"E1-MJMAIN-2212\" stroke-width=\"10\"/>\n",
       "<path d=\"M69 544V590H430V544H69Z\" id=\"E1-MJMAIN-AF\" stroke-width=\"10\"/>\n",
       "<path d=\"M78 35T78 60T94 103T137 121Q165 121 187 96T210 8Q210 -27 201 -60T180 -117T154 -158T130 -185T117 -194Q113 -194 104 -185T95 -172Q95 -168 106 -156T131 -126T157 -76T173 -3V9L172 8Q170 7 167 6T161 3T152 1T140 0Q113 0 96 17Z\" id=\"E1-MJMAIN-2C\" stroke-width=\"10\"/>\n",
       "</defs>\n",
       "<g fill=\"currentColor\" stroke=\"currentColor\" stroke-width=\"0\" transform=\"matrix(1 0 0 -1 0 0)\">\n",
       " <use x=\"0\" xlink:href=\"#E1-MJMATHI-57\" y=\"0\"/>\n",
       " <use x=\"1330\" xlink:href=\"#E1-MJMAIN-3D\" y=\"0\"/>\n",
       "<g transform=\"translate(2391,0)\">\n",
       "<g transform=\"translate(120,0)\">\n",
       "<rect height=\"60\" stroke=\"none\" width=\"6462\" x=\"0\" y=\"220\"/>\n",
       "<g transform=\"translate(115,896)\">\n",
       " <use xlink:href=\"#E1-MJSZ1-28\"/>\n",
       "<g transform=\"translate(463,0)\">\n",
       " <use x=\"0\" xlink:href=\"#E1-MJSZ1-2211\" y=\"0\"/>\n",
       " <use transform=\"scale(0.707)\" x=\"1500\" xlink:href=\"#E1-MJMATHI-6E\" y=\"688\"/>\n",
       "<g transform=\"translate(1061,-296)\">\n",
       " <use transform=\"scale(0.707)\" x=\"0\" xlink:href=\"#E1-MJMATHI-69\" y=\"0\"/>\n",
       " <use transform=\"scale(0.707)\" x=\"350\" xlink:href=\"#E1-MJMAIN-3D\" y=\"0\"/>\n",
       " <use transform=\"scale(0.707)\" x=\"1133\" xlink:href=\"#E1-MJMAIN-31\" y=\"0\"/>\n",
       "</g>\n",
       "</g>\n",
       "<g transform=\"translate(2948,0)\">\n",
       " <use x=\"0\" xlink:href=\"#E1-MJMATHI-61\" y=\"0\"/>\n",
       " <use transform=\"scale(0.707)\" x=\"755\" xlink:href=\"#E1-MJMATHI-69\" y=\"-213\"/>\n",
       "</g>\n",
       "<g transform=\"translate(3830,0)\">\n",
       " <use x=\"0\" xlink:href=\"#E1-MJMATHI-78\" y=\"0\"/>\n",
       "<g transform=\"translate(577,-193)\">\n",
       " <use transform=\"scale(0.707)\" x=\"0\" xlink:href=\"#E1-MJMAIN-28\" y=\"0\"/>\n",
       " <use transform=\"scale(0.707)\" x=\"394\" xlink:href=\"#E1-MJMATHI-69\" y=\"0\"/>\n",
       " <use transform=\"scale(0.707)\" x=\"744\" xlink:href=\"#E1-MJMAIN-29\" y=\"0\"/>\n",
       "</g>\n",
       "</g>\n",
       " <use x=\"5312\" xlink:href=\"#E1-MJSZ1-29\" y=\"-1\"/>\n",
       " <use transform=\"scale(0.707)\" x=\"8167\" xlink:href=\"#E1-MJMAIN-32\" y=\"829\"/>\n",
       "</g>\n",
       "<g transform=\"translate(60,-827)\">\n",
       " <use x=\"0\" xlink:href=\"#E1-MJSZ1-2211\" y=\"0\"/>\n",
       " <use transform=\"scale(0.707)\" x=\"1500\" xlink:href=\"#E1-MJMATHI-6E\" y=\"688\"/>\n",
       "<g transform=\"translate(1061,-296)\">\n",
       " <use transform=\"scale(0.707)\" x=\"0\" xlink:href=\"#E1-MJMATHI-69\" y=\"0\"/>\n",
       " <use transform=\"scale(0.707)\" x=\"350\" xlink:href=\"#E1-MJMAIN-3D\" y=\"0\"/>\n",
       " <use transform=\"scale(0.707)\" x=\"1133\" xlink:href=\"#E1-MJMAIN-31\" y=\"0\"/>\n",
       "</g>\n",
       " <use x=\"2319\" xlink:href=\"#E1-MJMAIN-28\" y=\"0\"/>\n",
       "<g transform=\"translate(2713,0)\">\n",
       " <use x=\"0\" xlink:href=\"#E1-MJMATHI-78\" y=\"0\"/>\n",
       " <use transform=\"scale(0.707)\" x=\"816\" xlink:href=\"#E1-MJMATHI-69\" y=\"-213\"/>\n",
       "</g>\n",
       " <use x=\"3859\" xlink:href=\"#E1-MJMAIN-2212\" y=\"0\"/>\n",
       "<g transform=\"translate(4865,0)\">\n",
       " <use x=\"24\" xlink:href=\"#E1-MJMATHI-78\" y=\"0\"/>\n",
       "<g transform=\"translate(0,274)\">\n",
       " <use transform=\"scale(0.707)\" x=\"-74\" xlink:href=\"#E1-MJMAIN-AF\" y=\"0\"/>\n",
       "<g transform=\"translate(241.64034331370345,0) scale(0.26039120634148394,1)\">\n",
       " <use transform=\"scale(0.707)\" xlink:href=\"#E1-MJMAIN-AF\"/>\n",
       "</g>\n",
       " <use transform=\"scale(0.707)\" x=\"381\" xlink:href=\"#E1-MJMAIN-AF\" y=\"0\"/>\n",
       "</g>\n",
       "</g>\n",
       "<g transform=\"translate(5491,0)\">\n",
       " <use x=\"0\" xlink:href=\"#E1-MJMAIN-29\" y=\"0\"/>\n",
       " <use transform=\"scale(0.707)\" x=\"557\" xlink:href=\"#E1-MJMAIN-32\" y=\"408\"/>\n",
       "</g>\n",
       "</g>\n",
       "</g>\n",
       "</g>\n",
       " <use x=\"9094\" xlink:href=\"#E1-MJMAIN-2C\" y=\"0\"/>\n",
       "</g>\n",
       "</svg>"
      ],
      "text/plain": [
       "<IPython.core.display.SVG object>"
      ]
     },
     "metadata": {},
     "output_type": "display_data"
    }
   ],
   "source": [
    "url = \"https://wikimedia.org/api/rest_v1/media/math/render/svg/f34d67b2c658356c7deecdaaa42c67902e1669d1\"\n",
    "display(SVG(url=url))"
   ]
  },
  {
   "cell_type": "markdown",
   "metadata": {},
   "source": [
    "where"
   ]
  },
  {
   "cell_type": "code",
   "execution_count": 5,
   "metadata": {
    "scrolled": false
   },
   "outputs": [
    {
     "data": {
      "image/svg+xml": [
       "<svg height=\"6.676ex\" style=\"vertical-align: -2.838ex;\" viewBox=\"0 -1652.5 15057 2874.4\" width=\"34.971ex\" xmlns=\"http://www.w3.org/2000/svg\" xmlns:xlink=\"http://www.w3.org/1999/xlink\">\n",
       "<defs>\n",
       "<path d=\"M94 250Q94 319 104 381T127 488T164 576T202 643T244 695T277 729T302 750H315H319Q333 750 333 741Q333 738 316 720T275 667T226 581T184 443T167 250T184 58T225 -81T274 -167T316 -220T333 -241Q333 -250 318 -250H315H302L274 -226Q180 -141 137 -14T94 250Z\" id=\"E1-MJMAIN-28\" stroke-width=\"10\"/>\n",
       "<path d=\"M33 157Q33 258 109 349T280 441Q331 441 370 392Q386 422 416 422Q429 422 439 414T449 394Q449 381 412 234T374 68Q374 43 381 35T402 26Q411 27 422 35Q443 55 463 131Q469 151 473 152Q475 153 483 153H487Q506 153 506 144Q506 138 501 117T481 63T449 13Q436 0 417 -8Q409 -10 393 -10Q359 -10 336 5T306 36L300 51Q299 52 296 50Q294 48 292 46Q233 -10 172 -10Q117 -10 75 30T33 157ZM351 328Q351 334 346 350T323 385T277 405Q242 405 210 374T160 293Q131 214 119 129Q119 126 119 118T118 106Q118 61 136 44T179 26Q217 26 254 59T298 110Q300 114 325 217T351 328Z\" id=\"E1-MJMATHI-61\" stroke-width=\"10\"/>\n",
       "<path d=\"M213 578L200 573Q186 568 160 563T102 556H83V602H102Q149 604 189 617T245 641T273 663Q275 666 285 666Q294 666 302 660V361L303 61Q310 54 315 52T339 48T401 46H427V0H416Q395 3 257 3Q121 3 100 0H88V46H114Q136 46 152 46T177 47T193 50T201 52T207 57T213 61V578Z\" id=\"E1-MJMAIN-31\" stroke-width=\"10\"/>\n",
       "<path d=\"M78 35T78 60T94 103T137 121Q165 121 187 96T210 8Q210 -27 201 -60T180 -117T154 -158T130 -185T117 -194Q113 -194 104 -185T95 -172Q95 -168 106 -156T131 -126T157 -76T173 -3V9L172 8Q170 7 167 6T161 3T152 1T140 0Q113 0 96 17Z\" id=\"E1-MJMAIN-2C\" stroke-width=\"10\"/>\n",
       "<path d=\"M78 60Q78 84 95 102T138 120Q162 120 180 104T199 61Q199 36 182 18T139 0T96 17T78 60ZM525 60Q525 84 542 102T585 120Q609 120 627 104T646 61Q646 36 629 18T586 0T543 17T525 60ZM972 60Q972 84 989 102T1032 120Q1056 120 1074 104T1093 61Q1093 36 1076 18T1033 0T990 17T972 60Z\" id=\"E1-MJMAIN-2026\" stroke-width=\"10\"/>\n",
       "<path d=\"M21 287Q22 293 24 303T36 341T56 388T89 425T135 442Q171 442 195 424T225 390T231 369Q231 367 232 367L243 378Q304 442 382 442Q436 442 469 415T503 336T465 179T427 52Q427 26 444 26Q450 26 453 27Q482 32 505 65T540 145Q542 153 560 153Q580 153 580 145Q580 144 576 130Q568 101 554 73T508 17T439 -10Q392 -10 371 17T350 73Q350 92 386 193T423 345Q423 404 379 404H374Q288 404 229 303L222 291L189 157Q156 26 151 16Q138 -11 108 -11Q95 -11 87 -5T76 7T74 17Q74 30 112 180T152 343Q153 348 153 366Q153 405 129 405Q91 405 66 305Q60 285 60 284Q58 278 41 278H27Q21 284 21 287Z\" id=\"E1-MJMATHI-6E\" stroke-width=\"10\"/>\n",
       "<path d=\"M60 749L64 750Q69 750 74 750H86L114 726Q208 641 251 514T294 250Q294 182 284 119T261 12T224 -76T186 -143T145 -194T113 -227T90 -246Q87 -249 86 -250H74Q66 -250 63 -250T58 -247T55 -238Q56 -237 66 -225Q221 -64 221 250T66 725Q56 737 55 738Q55 746 60 749Z\" id=\"E1-MJMAIN-29\" stroke-width=\"10\"/>\n",
       "<path d=\"M56 347Q56 360 70 367H707Q722 359 722 347Q722 336 708 328L390 327H72Q56 332 56 347ZM56 153Q56 168 72 173H708Q722 163 722 153Q722 140 707 133H70Q56 140 56 153Z\" id=\"E1-MJMAIN-3D\" stroke-width=\"10\"/>\n",
       "<path d=\"M21 287Q22 293 24 303T36 341T56 388T88 425T132 442T175 435T205 417T221 395T229 376L231 369Q231 367 232 367L243 378Q303 442 384 442Q401 442 415 440T441 433T460 423T475 411T485 398T493 385T497 373T500 364T502 357L510 367Q573 442 659 442Q713 442 746 415T780 336Q780 285 742 178T704 50Q705 36 709 31T724 26Q752 26 776 56T815 138Q818 149 821 151T837 153Q857 153 857 145Q857 144 853 130Q845 101 831 73T785 17T716 -10Q669 -10 648 17T627 73Q627 92 663 193T700 345Q700 404 656 404H651Q565 404 506 303L499 291L466 157Q433 26 428 16Q415 -11 385 -11Q372 -11 364 -4T353 8T350 18Q350 29 384 161L420 307Q423 322 423 345Q423 404 379 404H374Q288 404 229 303L222 291L189 157Q156 26 151 16Q138 -11 108 -11Q95 -11 87 -5T76 7T74 17Q74 30 112 181Q151 335 151 342Q154 357 154 369Q154 405 129 405Q107 405 92 377T69 316T57 280Q55 278 41 278H27Q21 284 21 287Z\" id=\"E1-MJMATHI-6D\" stroke-width=\"10\"/>\n",
       "<path d=\"M36 608V688H644V608H518L392 609V0H288V609L162 608H36Z\" id=\"E1-MJSS-54\" stroke-width=\"10\"/>\n",
       "<path d=\"M52 648Q52 670 65 683H76Q118 680 181 680Q299 680 320 683H330Q336 677 336 674T334 656Q329 641 325 637H304Q282 635 274 635Q245 630 242 620Q242 618 271 369T301 118L374 235Q447 352 520 471T595 594Q599 601 599 609Q599 633 555 637Q537 637 537 648Q537 649 539 661Q542 675 545 679T558 683Q560 683 570 683T604 682T668 681Q737 681 755 683H762Q769 676 769 672Q769 655 760 640Q757 637 743 637Q730 636 719 635T698 630T682 623T670 615T660 608T652 599T645 592L452 282Q272 -9 266 -16Q263 -18 259 -21L241 -22H234Q216 -22 216 -15Q213 -9 177 305Q139 623 138 626Q133 637 76 637H59Q52 642 52 648Z\" id=\"E1-MJMATHI-56\" stroke-width=\"10\"/>\n",
       "<path d=\"M84 237T84 250T98 270H679Q694 262 694 250T679 230H98Q84 237 84 250Z\" id=\"E1-MJMAIN-2212\" stroke-width=\"10\"/>\n",
       "<path d=\"M423 750Q432 750 438 744T444 730Q444 725 271 248T92 -240Q85 -250 75 -250Q68 -250 62 -245T56 -231Q56 -221 230 257T407 740Q411 750 423 750Z\" id=\"E1-MJMAIN-2F\" stroke-width=\"10\"/>\n",
       "<path d=\"M109 429Q82 429 66 447T50 491Q50 562 103 614T235 666Q326 666 387 610T449 465Q449 422 429 383T381 315T301 241Q265 210 201 149L142 93L218 92Q375 92 385 97Q392 99 409 186V189H449V186Q448 183 436 95T421 3V0H50V19V31Q50 38 56 46T86 81Q115 113 136 137Q145 147 170 174T204 211T233 244T261 278T284 308T305 340T320 369T333 401T340 431T343 464Q343 527 309 573T212 619Q179 619 154 602T119 569T109 550Q109 549 114 549Q132 549 151 535T170 489Q170 464 154 447T109 429Z\" id=\"E1-MJMAIN-32\" stroke-width=\"10\"/>\n",
       "</defs>\n",
       "<g fill=\"currentColor\" stroke=\"currentColor\" stroke-width=\"0\" transform=\"matrix(1 0 0 -1 0 0)\">\n",
       " <use x=\"0\" xlink:href=\"#E1-MJMAIN-28\" y=\"0\"/>\n",
       "<g transform=\"translate(394,0)\">\n",
       " <use x=\"0\" xlink:href=\"#E1-MJMATHI-61\" y=\"0\"/>\n",
       " <use transform=\"scale(0.707)\" x=\"755\" xlink:href=\"#E1-MJMAIN-31\" y=\"-213\"/>\n",
       "</g>\n",
       " <use x=\"1385\" xlink:href=\"#E1-MJMAIN-2C\" y=\"0\"/>\n",
       " <use x=\"1834\" xlink:href=\"#E1-MJMAIN-2026\" y=\"0\"/>\n",
       " <use x=\"3178\" xlink:href=\"#E1-MJMAIN-2C\" y=\"0\"/>\n",
       "<g transform=\"translate(3628,0)\">\n",
       " <use x=\"0\" xlink:href=\"#E1-MJMATHI-61\" y=\"0\"/>\n",
       " <use transform=\"scale(0.707)\" x=\"755\" xlink:href=\"#E1-MJMATHI-6E\" y=\"-213\"/>\n",
       "</g>\n",
       " <use x=\"4689\" xlink:href=\"#E1-MJMAIN-29\" y=\"0\"/>\n",
       " <use x=\"5361\" xlink:href=\"#E1-MJMAIN-3D\" y=\"0\"/>\n",
       "<g transform=\"translate(6422,0)\">\n",
       "<g transform=\"translate(120,0)\">\n",
       "<rect height=\"60\" stroke=\"none\" width=\"8111\" x=\"0\" y=\"220\"/>\n",
       "<g transform=\"translate(2401,676)\">\n",
       " <use x=\"0\" xlink:href=\"#E1-MJMATHI-6D\" y=\"0\"/>\n",
       " <use transform=\"scale(0.707)\" x=\"1248\" xlink:href=\"#E1-MJSS-54\" y=\"513\"/>\n",
       "<g transform=\"translate(1468,0)\">\n",
       " <use x=\"0\" xlink:href=\"#E1-MJMATHI-56\" y=\"0\"/>\n",
       "<g transform=\"translate(829,362)\">\n",
       " <use transform=\"scale(0.707)\" x=\"0\" xlink:href=\"#E1-MJMAIN-2212\" y=\"0\"/>\n",
       " <use transform=\"scale(0.707)\" x=\"783\" xlink:href=\"#E1-MJMAIN-31\" y=\"0\"/>\n",
       "</g>\n",
       "</g>\n",
       "</g>\n",
       "<g transform=\"translate(60,-849)\">\n",
       " <use x=\"0\" xlink:href=\"#E1-MJMAIN-28\" y=\"0\"/>\n",
       "<g transform=\"translate(394,0)\">\n",
       " <use x=\"0\" xlink:href=\"#E1-MJMATHI-6D\" y=\"0\"/>\n",
       " <use transform=\"scale(0.707)\" x=\"1248\" xlink:href=\"#E1-MJSS-54\" y=\"408\"/>\n",
       "</g>\n",
       "<g transform=\"translate(1862,0)\">\n",
       " <use x=\"0\" xlink:href=\"#E1-MJMATHI-56\" y=\"0\"/>\n",
       "<g transform=\"translate(829,288)\">\n",
       " <use transform=\"scale(0.707)\" x=\"0\" xlink:href=\"#E1-MJMAIN-2212\" y=\"0\"/>\n",
       " <use transform=\"scale(0.707)\" x=\"783\" xlink:href=\"#E1-MJMAIN-31\" y=\"0\"/>\n",
       "</g>\n",
       "</g>\n",
       "<g transform=\"translate(3702,0)\">\n",
       " <use x=\"0\" xlink:href=\"#E1-MJMATHI-56\" y=\"0\"/>\n",
       "<g transform=\"translate(829,288)\">\n",
       " <use transform=\"scale(0.707)\" x=\"0\" xlink:href=\"#E1-MJMAIN-2212\" y=\"0\"/>\n",
       " <use transform=\"scale(0.707)\" x=\"783\" xlink:href=\"#E1-MJMAIN-31\" y=\"0\"/>\n",
       "</g>\n",
       "</g>\n",
       " <use x=\"5543\" xlink:href=\"#E1-MJMATHI-6D\" y=\"0\"/>\n",
       "<g transform=\"translate(6426,0)\">\n",
       " <use x=\"0\" xlink:href=\"#E1-MJMAIN-29\" y=\"0\"/>\n",
       "<g transform=\"translate(394,291)\">\n",
       " <use transform=\"scale(0.707)\" x=\"0\" xlink:href=\"#E1-MJMAIN-31\" y=\"0\"/>\n",
       " <use transform=\"scale(0.707)\" x=\"505\" xlink:href=\"#E1-MJMAIN-2F\" y=\"0\"/>\n",
       " <use transform=\"scale(0.707)\" x=\"1010\" xlink:href=\"#E1-MJMAIN-32\" y=\"0\"/>\n",
       "</g>\n",
       "</g>\n",
       "</g>\n",
       "</g>\n",
       "</g>\n",
       " <use x=\"14773\" xlink:href=\"#E1-MJMAIN-2C\" y=\"0\"/>\n",
       "</g>\n",
       "</svg>"
      ],
      "text/plain": [
       "<IPython.core.display.SVG object>"
      ]
     },
     "metadata": {},
     "output_type": "display_data"
    }
   ],
   "source": [
    "url = \"https://wikimedia.org/api/rest_v1/media/math/render/svg/889a9a9103d34a3491a5996bb2732a76f3504836\"\n",
    "display(SVG(url=url))"
   ]
  },
  {
   "cell_type": "markdown",
   "metadata": {},
   "source": [
    "$x_i$ is the /th order statistic, i.e. the /ith-smallest number in the sample.\n",
    "\n",
    "$\\overline{x}$ is the sample mean {$x_1$ ... $x_n$}\n",
    "and {$m_1$ , … , $m_n$} are the expected values of the order statistics of independent and identically distributed random variables sampled from the standard normal distribution, and $V$ is the covariance matrix of those order statistics."
   ]
  },
  {
   "cell_type": "code",
   "execution_count": 6,
   "metadata": {},
   "outputs": [
    {
     "data": {
      "text/plain": [
       "(0.9865769743919373, 0.2331680953502655)"
      ]
     },
     "execution_count": 6,
     "metadata": {},
     "output_type": "execute_result"
    }
   ],
   "source": [
    "from scipy import stats   \n",
    "stats.shapiro(df.temperature)"
   ]
  },
  {
   "cell_type": "markdown",
   "metadata": {},
   "source": [
    "From the results above we see that we fail to reject the null hypothesis in that there is a lack of statistically evidence of a difference between the distribution of our dataset and a normal distribution. This is based off of the p value being .23 (the test statistic = .99), had this value been .05 or less we would have evidence to reject the null. Thus the distribution of our data appears to be normal."
   ]
  },
  {
   "cell_type": "markdown",
   "metadata": {},
   "source": [
    "# 2) Is the sample size large? Are the observations independent? \n"
   ]
  },
  {
   "cell_type": "markdown",
   "metadata": {},
   "source": [
    "130 is larger than 30 so we can say this is sufficiently large. \n",
    "\n",
    "The second question is tricky without knowing the provenance of the data, but I will make the assumption that each individual is only measured once and is thus an independent observation. In addition to truely be independent, the individuals should probably included different ages, ethnic backgrounds, etc.. to be as diverse of sample individuals as possible."
   ]
  },
  {
   "cell_type": "markdown",
   "metadata": {
    "collapsed": true
   },
   "source": [
    "# 3) Is the true population mean really 98.6 degrees F? "
   ]
  },
  {
   "cell_type": "markdown",
   "metadata": {},
   "source": [
    "It is highly unlikely that it is possible to obtain this data in a reliable way for the entire human population. To test this we will estimbate for the population based on our sample data. Thus since we do not know the population standard deviation we should use the T-statistic, we do know the supposed population mean but not the SD. As the sample size approaches the true population size the z and t statistics become more similar. A one sample t test would make sense since we have 1 sample."
   ]
  },
  {
   "cell_type": "code",
   "execution_count": 7,
   "metadata": {},
   "outputs": [
    {
     "data": {
      "image/svg+xml": [
       "<svg height=\"6.676ex\" style=\"vertical-align: -2.838ex;\" viewBox=\"0 -1652.5 4983.6 2874.4\" width=\"11.575ex\" xmlns=\"http://www.w3.org/2000/svg\" xmlns:xlink=\"http://www.w3.org/1999/xlink\">\n",
       "<defs>\n",
       "<path d=\"M26 385Q19 392 19 395Q19 399 22 411T27 425Q29 430 36 430T87 431H140L159 511Q162 522 166 540T173 566T179 586T187 603T197 615T211 624T229 626Q247 625 254 615T261 596Q261 589 252 549T232 470L222 433Q222 431 272 431H323Q330 424 330 420Q330 398 317 385H210L174 240Q135 80 135 68Q135 26 162 26Q197 26 230 60T283 144Q285 150 288 151T303 153H307Q322 153 322 145Q322 142 319 133Q314 117 301 95T267 48T216 6T155 -11Q125 -11 98 4T59 56Q57 64 57 83V101L92 241Q127 382 128 383Q128 385 77 385H26Z\" id=\"E1-MJMATHI-74\" stroke-width=\"10\"/>\n",
       "<path d=\"M56 347Q56 360 70 367H707Q722 359 722 347Q722 336 708 328L390 327H72Q56 332 56 347ZM56 153Q56 168 72 173H708Q722 163 722 153Q722 140 707 133H70Q56 140 56 153Z\" id=\"E1-MJMAIN-3D\" stroke-width=\"10\"/>\n",
       "<path d=\"M52 289Q59 331 106 386T222 442Q257 442 286 424T329 379Q371 442 430 442Q467 442 494 420T522 361Q522 332 508 314T481 292T458 288Q439 288 427 299T415 328Q415 374 465 391Q454 404 425 404Q412 404 406 402Q368 386 350 336Q290 115 290 78Q290 50 306 38T341 26Q378 26 414 59T463 140Q466 150 469 151T485 153H489Q504 153 504 145Q504 144 502 134Q486 77 440 33T333 -11Q263 -11 227 52Q186 -10 133 -10H127Q78 -10 57 16T35 71Q35 103 54 123T99 143Q142 143 142 101Q142 81 130 66T107 46T94 41L91 40Q91 39 97 36T113 29T132 26Q168 26 194 71Q203 87 217 139T245 247T261 313Q266 340 266 352Q266 380 251 392T217 404Q177 404 142 372T93 290Q91 281 88 280T72 278H58Q52 284 52 289Z\" id=\"E1-MJMATHI-78\" stroke-width=\"10\"/>\n",
       "<path d=\"M69 544V590H430V544H69Z\" id=\"E1-MJMAIN-AF\" stroke-width=\"10\"/>\n",
       "<path d=\"M84 237T84 250T98 270H679Q694 262 694 250T679 230H98Q84 237 84 250Z\" id=\"E1-MJMAIN-2212\" stroke-width=\"10\"/>\n",
       "<path d=\"M58 -216Q44 -216 34 -208T23 -186Q23 -176 96 116T173 414Q186 442 219 442Q231 441 239 435T249 423T251 413Q251 401 220 279T187 142Q185 131 185 107V99Q185 26 252 26Q261 26 270 27T287 31T302 38T315 45T327 55T338 65T348 77T356 88T365 100L372 110L408 253Q444 395 448 404Q461 431 491 431Q504 431 512 424T523 412T525 402L449 84Q448 79 448 68Q448 43 455 35T476 26Q485 27 496 35Q517 55 537 131Q543 151 547 152Q549 153 557 153H561Q580 153 580 144Q580 138 575 117T555 63T523 13Q510 0 491 -8Q483 -10 467 -10Q446 -10 429 -4T402 11T385 29T376 44T374 51L368 45Q362 39 350 30T324 12T288 -4T246 -11Q199 -11 153 12L129 -85Q108 -167 104 -180T92 -202Q76 -216 58 -216Z\" id=\"E1-MJMATHI-3BC\" stroke-width=\"10\"/>\n",
       "<path d=\"M96 585Q152 666 249 666Q297 666 345 640T423 548Q460 465 460 320Q460 165 417 83Q397 41 362 16T301 -15T250 -22Q224 -22 198 -16T137 16T82 83Q39 165 39 320Q39 494 96 585ZM321 597Q291 629 250 629Q208 629 178 597Q153 571 145 525T137 333Q137 175 145 125T181 46Q209 16 250 16Q290 16 318 46Q347 76 354 130T362 333Q362 478 354 524T321 597Z\" id=\"E1-MJMAIN-30\" stroke-width=\"10\"/>\n",
       "<path d=\"M131 289Q131 321 147 354T203 415T300 442Q362 442 390 415T419 355Q419 323 402 308T364 292Q351 292 340 300T328 326Q328 342 337 354T354 372T367 378Q368 378 368 379Q368 382 361 388T336 399T297 405Q249 405 227 379T204 326Q204 301 223 291T278 274T330 259Q396 230 396 163Q396 135 385 107T352 51T289 7T195 -10Q118 -10 86 19T53 87Q53 126 74 143T118 160Q133 160 146 151T160 120Q160 94 142 76T111 58Q109 57 108 57T107 55Q108 52 115 47T146 34T201 27Q237 27 263 38T301 66T318 97T323 122Q323 150 302 164T254 181T195 196T148 231Q131 256 131 289Z\" id=\"E1-MJMATHI-73\" stroke-width=\"10\"/>\n",
       "<path d=\"M423 750Q432 750 438 744T444 730Q444 725 271 248T92 -240Q85 -250 75 -250Q68 -250 62 -245T56 -231Q56 -221 230 257T407 740Q411 750 423 750Z\" id=\"E1-MJMAIN-2F\" stroke-width=\"10\"/>\n",
       "<path d=\"M21 287Q22 293 24 303T36 341T56 388T89 425T135 442Q171 442 195 424T225 390T231 369Q231 367 232 367L243 378Q304 442 382 442Q436 442 469 415T503 336T465 179T427 52Q427 26 444 26Q450 26 453 27Q482 32 505 65T540 145Q542 153 560 153Q580 153 580 145Q580 144 576 130Q568 101 554 73T508 17T439 -10Q392 -10 371 17T350 73Q350 92 386 193T423 345Q423 404 379 404H374Q288 404 229 303L222 291L189 157Q156 26 151 16Q138 -11 108 -11Q95 -11 87 -5T76 7T74 17Q74 30 112 180T152 343Q153 348 153 366Q153 405 129 405Q91 405 66 305Q60 285 60 284Q58 278 41 278H27Q21 284 21 287Z\" id=\"E1-MJMATHI-6E\" stroke-width=\"10\"/>\n",
       "<path d=\"M95 178Q89 178 81 186T72 200T103 230T169 280T207 309Q209 311 212 311H213Q219 311 227 294T281 177Q300 134 312 108L397 -77Q398 -77 501 136T707 565T814 786Q820 800 834 800Q841 800 846 794T853 782V776L620 293L385 -193Q381 -200 366 -200Q357 -200 354 -197Q352 -195 256 15L160 225L144 214Q129 202 113 190T95 178Z\" id=\"E1-MJMAIN-221A\" stroke-width=\"10\"/>\n",
       "</defs>\n",
       "<g fill=\"currentColor\" stroke=\"currentColor\" stroke-width=\"0\" transform=\"matrix(1 0 0 -1 0 0)\">\n",
       " <use x=\"0\" xlink:href=\"#E1-MJMATHI-74\" y=\"0\"/>\n",
       " <use x=\"643\" xlink:href=\"#E1-MJMAIN-3D\" y=\"0\"/>\n",
       "<g transform=\"translate(1704,0)\">\n",
       "<g transform=\"translate(120,0)\">\n",
       "<rect height=\"60\" stroke=\"none\" width=\"3039\" x=\"0\" y=\"220\"/>\n",
       "<g transform=\"translate(60,745)\">\n",
       " <use x=\"24\" xlink:href=\"#E1-MJMATHI-78\" y=\"0\"/>\n",
       "<g transform=\"translate(0,274)\">\n",
       " <use transform=\"scale(0.707)\" x=\"-74\" xlink:href=\"#E1-MJMAIN-AF\" y=\"0\"/>\n",
       "<g transform=\"translate(241.64034331370345,0) scale(0.26039120634148394,1)\">\n",
       " <use transform=\"scale(0.707)\" xlink:href=\"#E1-MJMAIN-AF\"/>\n",
       "</g>\n",
       " <use transform=\"scale(0.707)\" x=\"381\" xlink:href=\"#E1-MJMAIN-AF\" y=\"0\"/>\n",
       "</g>\n",
       " <use x=\"848\" xlink:href=\"#E1-MJMAIN-2212\" y=\"0\"/>\n",
       "<g transform=\"translate(1853,0)\">\n",
       " <use x=\"0\" xlink:href=\"#E1-MJMATHI-3BC\" y=\"0\"/>\n",
       " <use transform=\"scale(0.707)\" x=\"859\" xlink:href=\"#E1-MJMAIN-30\" y=\"-213\"/>\n",
       "</g>\n",
       "</g>\n",
       "<g transform=\"translate(308,-812)\">\n",
       " <use x=\"0\" xlink:href=\"#E1-MJMATHI-73\" y=\"0\"/>\n",
       " <use x=\"474\" xlink:href=\"#E1-MJMAIN-2F\" y=\"0\"/>\n",
       "<g transform=\"translate(979,0)\">\n",
       " <use x=\"0\" xlink:href=\"#E1-MJMAIN-221A\" y=\"-78\"/>\n",
       "<rect height=\"60\" stroke=\"none\" width=\"605\" x=\"838\" y=\"672\"/>\n",
       " <use x=\"838\" xlink:href=\"#E1-MJMATHI-6E\" y=\"0\"/>\n",
       "</g>\n",
       "</g>\n",
       "</g>\n",
       "</g>\n",
       "</g>\n",
       "</svg>"
      ],
      "text/plain": [
       "<IPython.core.display.SVG object>"
      ]
     },
     "metadata": {},
     "output_type": "display_data"
    }
   ],
   "source": [
    "url = \"https://wikimedia.org/api/rest_v1/media/math/render/svg/1063f91f450e9fd0094a38f1856eb11bd201d232\"\n",
    "display(SVG(url=url))"
   ]
  },
  {
   "cell_type": "code",
   "execution_count": 8,
   "metadata": {},
   "outputs": [
    {
     "data": {
      "text/plain": [
       "Ttest_1sampResult(statistic=-5.4548232923645195, pvalue=2.4106320415561276e-07)"
      ]
     },
     "execution_count": 8,
     "metadata": {},
     "output_type": "execute_result"
    }
   ],
   "source": [
    "stats.ttest_1samp(df['temperature'], 98.6)"
   ]
  },
  {
   "cell_type": "code",
   "execution_count": 9,
   "metadata": {},
   "outputs": [
    {
     "data": {
      "image/svg+xml": [
       "<svg height=\"4.843ex\" style=\"vertical-align: -1.838ex;\" viewBox=\"0 -1293.7 4584 2085\" width=\"10.647ex\" xmlns=\"http://www.w3.org/2000/svg\" xmlns:xlink=\"http://www.w3.org/1999/xlink\">\n",
       "<defs>\n",
       "<path d=\"M347 338Q337 338 294 349T231 360Q211 360 197 356T174 346T162 335T155 324L153 320Q150 317 138 317Q117 317 117 325Q117 330 120 339Q133 378 163 406T229 440Q241 442 246 442Q271 442 291 425T329 392T367 375Q389 375 411 408T434 441Q435 442 449 442H462Q468 436 468 434Q468 430 463 420T449 399T432 377T418 358L411 349Q368 298 275 214T160 106L148 94L163 93Q185 93 227 82T290 71Q328 71 360 90T402 140Q406 149 409 151T424 153Q443 153 443 143Q443 138 442 134Q425 72 376 31T278 -11Q252 -11 232 6T193 40T155 57Q111 57 76 -3Q70 -11 59 -11H54H41Q35 -5 35 -2Q35 13 93 84Q132 129 225 214T340 322Q352 338 347 338Z\" id=\"E1-MJMATHI-7A\" stroke-width=\"10\"/>\n",
       "<path d=\"M56 347Q56 360 70 367H707Q722 359 722 347Q722 336 708 328L390 327H72Q56 332 56 347ZM56 153Q56 168 72 173H708Q722 163 722 153Q722 140 707 133H70Q56 140 56 153Z\" id=\"E1-MJMAIN-3D\" stroke-width=\"10\"/>\n",
       "<path d=\"M52 289Q59 331 106 386T222 442Q257 442 286 424T329 379Q371 442 430 442Q467 442 494 420T522 361Q522 332 508 314T481 292T458 288Q439 288 427 299T415 328Q415 374 465 391Q454 404 425 404Q412 404 406 402Q368 386 350 336Q290 115 290 78Q290 50 306 38T341 26Q378 26 414 59T463 140Q466 150 469 151T485 153H489Q504 153 504 145Q504 144 502 134Q486 77 440 33T333 -11Q263 -11 227 52Q186 -10 133 -10H127Q78 -10 57 16T35 71Q35 103 54 123T99 143Q142 143 142 101Q142 81 130 66T107 46T94 41L91 40Q91 39 97 36T113 29T132 26Q168 26 194 71Q203 87 217 139T245 247T261 313Q266 340 266 352Q266 380 251 392T217 404Q177 404 142 372T93 290Q91 281 88 280T72 278H58Q52 284 52 289Z\" id=\"E1-MJMATHI-78\" stroke-width=\"10\"/>\n",
       "<path d=\"M84 237T84 250T98 270H679Q694 262 694 250T679 230H98Q84 237 84 250Z\" id=\"E1-MJMAIN-2212\" stroke-width=\"10\"/>\n",
       "<path d=\"M58 -216Q44 -216 34 -208T23 -186Q23 -176 96 116T173 414Q186 442 219 442Q231 441 239 435T249 423T251 413Q251 401 220 279T187 142Q185 131 185 107V99Q185 26 252 26Q261 26 270 27T287 31T302 38T315 45T327 55T338 65T348 77T356 88T365 100L372 110L408 253Q444 395 448 404Q461 431 491 431Q504 431 512 424T523 412T525 402L449 84Q448 79 448 68Q448 43 455 35T476 26Q485 27 496 35Q517 55 537 131Q543 151 547 152Q549 153 557 153H561Q580 153 580 144Q580 138 575 117T555 63T523 13Q510 0 491 -8Q483 -10 467 -10Q446 -10 429 -4T402 11T385 29T376 44T374 51L368 45Q362 39 350 30T324 12T288 -4T246 -11Q199 -11 153 12L129 -85Q108 -167 104 -180T92 -202Q76 -216 58 -216Z\" id=\"E1-MJMATHI-3BC\" stroke-width=\"10\"/>\n",
       "<path d=\"M184 -11Q116 -11 74 34T31 147Q31 247 104 333T274 430Q275 431 414 431H552Q553 430 555 429T559 427T562 425T565 422T567 420T569 416T570 412T571 407T572 401Q572 357 507 357Q500 357 490 357T476 358H416L421 348Q439 310 439 263Q439 153 359 71T184 -11ZM361 278Q361 358 276 358Q152 358 115 184Q114 180 114 178Q106 141 106 117Q106 67 131 47T188 26Q242 26 287 73Q316 103 334 153T356 233T361 278Z\" id=\"E1-MJMATHI-3C3\" stroke-width=\"10\"/>\n",
       "</defs>\n",
       "<g fill=\"currentColor\" stroke=\"currentColor\" stroke-width=\"0\" transform=\"matrix(1 0 0 -1 0 0)\">\n",
       " <use x=\"0\" xlink:href=\"#E1-MJMATHI-7A\" y=\"0\"/>\n",
       " <use x=\"750\" xlink:href=\"#E1-MJMAIN-3D\" y=\"0\"/>\n",
       "<g transform=\"translate(1811,0)\">\n",
       "<g transform=\"translate(120,0)\">\n",
       "<rect height=\"60\" stroke=\"none\" width=\"2532\" x=\"0\" y=\"220\"/>\n",
       "<g transform=\"translate(60,745)\">\n",
       " <use x=\"0\" xlink:href=\"#E1-MJMATHI-78\" y=\"0\"/>\n",
       " <use x=\"799\" xlink:href=\"#E1-MJMAIN-2212\" y=\"0\"/>\n",
       " <use x=\"1804\" xlink:href=\"#E1-MJMATHI-3BC\" y=\"0\"/>\n",
       "</g>\n",
       " <use x=\"977\" xlink:href=\"#E1-MJMATHI-3C3\" y=\"-686\"/>\n",
       "</g>\n",
       "</g>\n",
       "</g>\n",
       "</svg>"
      ],
      "text/plain": [
       "<IPython.core.display.SVG object>"
      ]
     },
     "metadata": {},
     "output_type": "display_data"
    }
   ],
   "source": [
    "url = \"https://wikimedia.org/api/rest_v1/media/math/render/svg/5ceed701c4042bb34618535c9a902ca1a937a351\"\n",
    "display(SVG(url=url))\n"
   ]
  },
  {
   "cell_type": "code",
   "execution_count": 10,
   "metadata": {},
   "outputs": [
    {
     "data": {
      "text/plain": [
       "(-5.4548232923645195, 4.9021570141012155e-08)"
      ]
     },
     "execution_count": 10,
     "metadata": {},
     "output_type": "execute_result"
    }
   ],
   "source": [
    "sm.stats.ztest(df.temperature, value=98.6)"
   ]
  },
  {
   "cell_type": "markdown",
   "metadata": {
    "collapsed": true
   },
   "source": [
    "At smaller sample sizes the t statistic has wider tail than the z statistic so it makes sense that the p value would be larger than the z test p value. Both values are very close and we have evidence to reject the null hypothesis that there is not a statistically significant difference between the supposed true population mean and our sample mean."
   ]
  },
  {
   "cell_type": "markdown",
   "metadata": {},
   "source": [
    "# 4) At what temperature should we consider someone's temperature to be \"abnormal\"? "
   ]
  },
  {
   "cell_type": "markdown",
   "metadata": {},
   "source": [
    "To check this a confidence interval or margin of error should be calculated and then see if the 98.6 is within the confidence interval. The equation for the confidence interval is found below:"
   ]
  },
  {
   "cell_type": "code",
   "execution_count": 11,
   "metadata": {},
   "outputs": [
    {
     "data": {
      "image/svg+xml": [
       "<svg height=\"7.509ex\" style=\"vertical-align: -3.171ex;\" viewBox=\"0 -1867.7 10904.7 3233.2\" width=\"25.327ex\" xmlns=\"http://www.w3.org/2000/svg\" xmlns:xlink=\"http://www.w3.org/1999/xlink\">\n",
       "<defs>\n",
       "<path d=\"M94 250Q94 319 104 381T127 488T164 576T202 643T244 695T277 729T302 750H315H319Q333 750 333 741Q333 738 316 720T275 667T226 581T184 443T167 250T184 58T225 -81T274 -167T316 -220T333 -241Q333 -250 318 -250H315H302L274 -226Q180 -141 137 -14T94 250Z\" id=\"E1-MJMAIN-28\" stroke-width=\"10\"/>\n",
       "<path d=\"M52 289Q59 331 106 386T222 442Q257 442 286 424T329 379Q371 442 430 442Q467 442 494 420T522 361Q522 332 508 314T481 292T458 288Q439 288 427 299T415 328Q415 374 465 391Q454 404 425 404Q412 404 406 402Q368 386 350 336Q290 115 290 78Q290 50 306 38T341 26Q378 26 414 59T463 140Q466 150 469 151T485 153H489Q504 153 504 145Q504 144 502 134Q486 77 440 33T333 -11Q263 -11 227 52Q186 -10 133 -10H127Q78 -10 57 16T35 71Q35 103 54 123T99 143Q142 143 142 101Q142 81 130 66T107 46T94 41L91 40Q91 39 97 36T113 29T132 26Q168 26 194 71Q203 87 217 139T245 247T261 313Q266 340 266 352Q266 380 251 392T217 404Q177 404 142 372T93 290Q91 281 88 280T72 278H58Q52 284 52 289Z\" id=\"E1-MJMATHI-78\" stroke-width=\"10\"/>\n",
       "<path d=\"M69 544V590H430V544H69Z\" id=\"E1-MJMAIN-AF\" stroke-width=\"10\"/>\n",
       "<path d=\"M84 237T84 250T98 270H679Q694 262 694 250T679 230H98Q84 237 84 250Z\" id=\"E1-MJMAIN-2212\" stroke-width=\"10\"/>\n",
       "<path d=\"M26 385Q19 392 19 395Q19 399 22 411T27 425Q29 430 36 430T87 431H140L159 511Q162 522 166 540T173 566T179 586T187 603T197 615T211 624T229 626Q247 625 254 615T261 596Q261 589 252 549T232 470L222 433Q222 431 272 431H323Q330 424 330 420Q330 398 317 385H210L174 240Q135 80 135 68Q135 26 162 26Q197 26 230 60T283 144Q285 150 288 151T303 153H307Q322 153 322 145Q322 142 319 133Q314 117 301 95T267 48T216 6T155 -11Q125 -11 98 4T59 56Q57 64 57 83V101L92 241Q127 382 128 383Q128 385 77 385H26Z\" id=\"E1-MJMATHI-74\" stroke-width=\"10\"/>\n",
       "<path d=\"M229 286Q216 420 216 436Q216 454 240 464Q241 464 245 464T251 465Q263 464 273 456T283 436Q283 419 277 356T270 286L328 328Q384 369 389 372T399 375Q412 375 423 365T435 338Q435 325 425 315Q420 312 357 282T289 250L355 219L425 184Q434 175 434 161Q434 146 425 136T401 125Q393 125 383 131T328 171L270 213Q283 79 283 63Q283 53 276 44T250 35Q231 35 224 44T216 63Q216 80 222 143T229 213L171 171Q115 130 110 127Q106 124 100 124Q87 124 76 134T64 161Q64 166 64 169T67 175T72 181T81 188T94 195T113 204T138 215T170 230T210 250L74 315Q65 324 65 338Q65 353 74 363T98 374Q106 374 116 368T171 328L229 286Z\" id=\"E1-MJMAIN-2217\" stroke-width=\"10\"/>\n",
       "<path d=\"M131 289Q131 321 147 354T203 415T300 442Q362 442 390 415T419 355Q419 323 402 308T364 292Q351 292 340 300T328 326Q328 342 337 354T354 372T367 378Q368 378 368 379Q368 382 361 388T336 399T297 405Q249 405 227 379T204 326Q204 301 223 291T278 274T330 259Q396 230 396 163Q396 135 385 107T352 51T289 7T195 -10Q118 -10 86 19T53 87Q53 126 74 143T118 160Q133 160 146 151T160 120Q160 94 142 76T111 58Q109 57 108 57T107 55Q108 52 115 47T146 34T201 27Q237 27 263 38T301 66T318 97T323 122Q323 150 302 164T254 181T195 196T148 231Q131 256 131 289Z\" id=\"E1-MJMATHI-73\" stroke-width=\"10\"/>\n",
       "<path d=\"M21 287Q22 293 24 303T36 341T56 388T89 425T135 442Q171 442 195 424T225 390T231 369Q231 367 232 367L243 378Q304 442 382 442Q436 442 469 415T503 336T465 179T427 52Q427 26 444 26Q450 26 453 27Q482 32 505 65T540 145Q542 153 560 153Q580 153 580 145Q580 144 576 130Q568 101 554 73T508 17T439 -10Q392 -10 371 17T350 73Q350 92 386 193T423 345Q423 404 379 404H374Q288 404 229 303L222 291L189 157Q156 26 151 16Q138 -11 108 -11Q95 -11 87 -5T76 7T74 17Q74 30 112 180T152 343Q153 348 153 366Q153 405 129 405Q91 405 66 305Q60 285 60 284Q58 278 41 278H27Q21 284 21 287Z\" id=\"E1-MJMATHI-6E\" stroke-width=\"10\"/>\n",
       "<path d=\"M95 178Q89 178 81 186T72 200T103 230T169 280T207 309Q209 311 212 311H213Q219 311 227 294T281 177Q300 134 312 108L397 -77Q398 -77 501 136T707 565T814 786Q820 800 834 800Q841 800 846 794T853 782V776L620 293L385 -193Q381 -200 366 -200Q357 -200 354 -197Q352 -195 256 15L160 225L144 214Q129 202 113 190T95 178Z\" id=\"E1-MJMAIN-221A\" stroke-width=\"10\"/>\n",
       "<path d=\"M78 35T78 60T94 103T137 121Q165 121 187 96T210 8Q210 -27 201 -60T180 -117T154 -158T130 -185T117 -194Q113 -194 104 -185T95 -172Q95 -168 106 -156T131 -126T157 -76T173 -3V9L172 8Q170 7 167 6T161 3T152 1T140 0Q113 0 96 17Z\" id=\"E1-MJMAIN-2C\" stroke-width=\"10\"/>\n",
       "<path d=\"M56 237T56 250T70 270H369V420L370 570Q380 583 389 583Q402 583 409 568V270H707Q722 262 722 250T707 230H409V-68Q401 -82 391 -82H389H387Q375 -82 369 -68V230H70Q56 237 56 250Z\" id=\"E1-MJMAIN-2B\" stroke-width=\"10\"/>\n",
       "<path d=\"M60 749L64 750Q69 750 74 750H86L114 726Q208 641 251 514T294 250Q294 182 284 119T261 12T224 -76T186 -143T145 -194T113 -227T90 -246Q87 -249 86 -250H74Q66 -250 63 -250T58 -247T55 -238Q56 -237 66 -225Q221 -64 221 250T66 725Q56 737 55 738Q55 746 60 749Z\" id=\"E1-MJMAIN-29\" stroke-width=\"10\"/>\n",
       "<path d=\"M758 -1237T758 -1240T752 -1249H736Q718 -1249 717 -1248Q711 -1245 672 -1199Q237 -706 237 251T672 1700Q697 1730 716 1749Q718 1750 735 1750H752Q758 1744 758 1741Q758 1737 740 1713T689 1644T619 1537T540 1380T463 1176Q348 802 348 251Q348 -242 441 -599T744 -1218Q758 -1237 758 -1240Z\" id=\"E1-MJSZ4-28\" stroke-width=\"10\"/>\n",
       "<path d=\"M33 1741Q33 1750 51 1750H60H65Q73 1750 81 1743T119 1700Q554 1207 554 251Q554 -707 119 -1199Q76 -1250 66 -1250Q65 -1250 62 -1250T56 -1249Q55 -1249 53 -1249T49 -1250Q33 -1250 33 -1239Q33 -1236 50 -1214T98 -1150T163 -1052T238 -910T311 -727Q443 -335 443 251Q443 402 436 532T405 831T339 1142T224 1438T50 1716Q33 1737 33 1741Z\" id=\"E1-MJSZ4-29\" stroke-width=\"10\"/>\n",
       "</defs>\n",
       "<g fill=\"currentColor\" stroke=\"currentColor\" stroke-width=\"0\" transform=\"matrix(1 0 0 -1 0 0)\">\n",
       " <use xlink:href=\"#E1-MJSZ4-28\"/>\n",
       "<g transform=\"translate(797,0)\">\n",
       " <use x=\"0\" xlink:href=\"#E1-MJMATHI-78\" y=\"0\"/>\n",
       " <use x=\"63\" xlink:href=\"#E1-MJMAIN-AF\" y=\"25\"/>\n",
       "</g>\n",
       " <use x=\"1596\" xlink:href=\"#E1-MJMAIN-2212\" y=\"0\"/>\n",
       "<g transform=\"translate(2601,0)\">\n",
       " <use x=\"0\" xlink:href=\"#E1-MJMATHI-74\" y=\"0\"/>\n",
       " <use transform=\"scale(0.707)\" x=\"517\" xlink:href=\"#E1-MJMAIN-2217\" y=\"583\"/>\n",
       "</g>\n",
       "<g transform=\"translate(3424,0)\">\n",
       "<g transform=\"translate(120,0)\">\n",
       "<rect height=\"60\" stroke=\"none\" width=\"1563\" x=\"0\" y=\"220\"/>\n",
       " <use x=\"544\" xlink:href=\"#E1-MJMATHI-73\" y=\"676\"/>\n",
       "<g transform=\"translate(60,-812)\">\n",
       " <use x=\"0\" xlink:href=\"#E1-MJMAIN-221A\" y=\"-78\"/>\n",
       "<rect height=\"60\" stroke=\"none\" width=\"605\" x=\"838\" y=\"672\"/>\n",
       " <use x=\"838\" xlink:href=\"#E1-MJMATHI-6E\" y=\"0\"/>\n",
       "</g>\n",
       "</g>\n",
       "</g>\n",
       " <use x=\"5227\" xlink:href=\"#E1-MJMAIN-2C\" y=\"0\"/>\n",
       "<g transform=\"translate(5677,0)\">\n",
       " <use x=\"0\" xlink:href=\"#E1-MJMATHI-78\" y=\"0\"/>\n",
       " <use x=\"63\" xlink:href=\"#E1-MJMAIN-AF\" y=\"25\"/>\n",
       "</g>\n",
       " <use x=\"6476\" xlink:href=\"#E1-MJMAIN-2B\" y=\"0\"/>\n",
       "<g transform=\"translate(7481,0)\">\n",
       " <use x=\"0\" xlink:href=\"#E1-MJMATHI-74\" y=\"0\"/>\n",
       " <use transform=\"scale(0.707)\" x=\"517\" xlink:href=\"#E1-MJMAIN-2217\" y=\"583\"/>\n",
       "</g>\n",
       "<g transform=\"translate(8304,0)\">\n",
       "<g transform=\"translate(120,0)\">\n",
       "<rect height=\"60\" stroke=\"none\" width=\"1563\" x=\"0\" y=\"220\"/>\n",
       " <use x=\"544\" xlink:href=\"#E1-MJMATHI-73\" y=\"676\"/>\n",
       "<g transform=\"translate(60,-812)\">\n",
       " <use x=\"0\" xlink:href=\"#E1-MJMAIN-221A\" y=\"-78\"/>\n",
       "<rect height=\"60\" stroke=\"none\" width=\"605\" x=\"838\" y=\"672\"/>\n",
       " <use x=\"838\" xlink:href=\"#E1-MJMATHI-6E\" y=\"0\"/>\n",
       "</g>\n",
       "</g>\n",
       "</g>\n",
       " <use x=\"10107\" xlink:href=\"#E1-MJSZ4-29\" y=\"0\"/>\n",
       "</g>\n",
       "</svg>"
      ],
      "text/plain": [
       "<IPython.core.display.SVG object>"
      ]
     },
     "metadata": {},
     "output_type": "display_data"
    }
   ],
   "source": [
    "url = \"https://wikimedia.org/api/rest_v1/media/math/render/svg/953450702f09946ea8f70bc38628be8e3a39f6ae\"\n",
    "display(SVG(url=url))"
   ]
  },
  {
   "cell_type": "code",
   "execution_count": 12,
   "metadata": {},
   "outputs": [
    {
     "data": {
      "text/plain": [
       "(98.122002905608042, 98.376458632853513)"
      ]
     },
     "execution_count": 12,
     "metadata": {},
     "output_type": "execute_result"
    }
   ],
   "source": [
    "stats.t.interval(0.95, len(df.temperature)-1, \n",
    "                 loc=np.mean(df.temperature), \n",
    "                 scale=stats.sem(df.temperature))"
   ]
  },
  {
   "cell_type": "markdown",
   "metadata": {},
   "source": [
    "Above we can see that 98.6 does not fall within the confidence interval and can be considered abnormal."
   ]
  },
  {
   "cell_type": "markdown",
   "metadata": {},
   "source": [
    "# 5) Is there a significant difference between males and females in normal temperature? "
   ]
  },
  {
   "cell_type": "markdown",
   "metadata": {},
   "source": [
    "To test if there is a statistically significant difference in the means between men and women's temperature. This equation is found below:"
   ]
  },
  {
   "cell_type": "code",
   "execution_count": 16,
   "metadata": {},
   "outputs": [
    {
     "data": {
      "image/svg+xml": [
       "<svg height=\"7.176ex\" style=\"vertical-align: -3.338ex;\" viewBox=\"0 -1652.5 5920.2 3089.6\" width=\"13.75ex\" xmlns=\"http://www.w3.org/2000/svg\" xmlns:xlink=\"http://www.w3.org/1999/xlink\">\n",
       "<defs>\n",
       "<path d=\"M26 385Q19 392 19 395Q19 399 22 411T27 425Q29 430 36 430T87 431H140L159 511Q162 522 166 540T173 566T179 586T187 603T197 615T211 624T229 626Q247 625 254 615T261 596Q261 589 252 549T232 470L222 433Q222 431 272 431H323Q330 424 330 420Q330 398 317 385H210L174 240Q135 80 135 68Q135 26 162 26Q197 26 230 60T283 144Q285 150 288 151T303 153H307Q322 153 322 145Q322 142 319 133Q314 117 301 95T267 48T216 6T155 -11Q125 -11 98 4T59 56Q57 64 57 83V101L92 241Q127 382 128 383Q128 385 77 385H26Z\" id=\"E1-MJMATHI-74\" stroke-width=\"10\"/>\n",
       "<path d=\"M56 347Q56 360 70 367H707Q722 359 722 347Q722 336 708 328L390 327H72Q56 332 56 347ZM56 153Q56 168 72 173H708Q722 163 722 153Q722 140 707 133H70Q56 140 56 153Z\" id=\"E1-MJMAIN-3D\" stroke-width=\"10\"/>\n",
       "<path d=\"M42 0H40Q26 0 26 11Q26 15 29 27Q33 41 36 43T55 46Q141 49 190 98Q200 108 306 224T411 342Q302 620 297 625Q288 636 234 637H206Q200 643 200 645T202 664Q206 677 212 683H226Q260 681 347 681Q380 681 408 681T453 682T473 682Q490 682 490 671Q490 670 488 658Q484 643 481 640T465 637Q434 634 411 620L488 426L541 485Q646 598 646 610Q646 628 622 635Q617 635 609 637Q594 637 594 648Q594 650 596 664Q600 677 606 683H618Q619 683 643 683T697 681T738 680Q828 680 837 683H845Q852 676 852 672Q850 647 840 637H824Q790 636 763 628T722 611T698 593L687 584Q687 585 592 480L505 384Q505 383 536 304T601 142T638 56Q648 47 699 46Q734 46 734 37Q734 35 732 23Q728 7 725 4T711 1Q708 1 678 1T589 2Q528 2 496 2T461 1Q444 1 444 10Q444 11 446 25Q448 35 450 39T455 44T464 46T480 47T506 54Q523 62 523 64Q522 64 476 181L429 299Q241 95 236 84Q232 76 232 72Q232 53 261 47Q262 47 267 47T273 46Q276 46 277 46T280 45T283 42T284 35Q284 26 282 19Q279 6 276 4T261 1Q258 1 243 1T201 2T142 2Q64 2 42 0Z\" id=\"E1-MJMATHI-58\" stroke-width=\"10\"/>\n",
       "<path d=\"M69 544V590H430V544H69Z\" id=\"E1-MJMAIN-AF\" stroke-width=\"10\"/>\n",
       "<path d=\"M213 578L200 573Q186 568 160 563T102 556H83V602H102Q149 604 189 617T245 641T273 663Q275 666 285 666Q294 666 302 660V361L303 61Q310 54 315 52T339 48T401 46H427V0H416Q395 3 257 3Q121 3 100 0H88V46H114Q136 46 152 46T177 47T193 50T201 52T207 57T213 61V578Z\" id=\"E1-MJMAIN-31\" stroke-width=\"10\"/>\n",
       "<path d=\"M84 237T84 250T98 270H679Q694 262 694 250T679 230H98Q84 237 84 250Z\" id=\"E1-MJMAIN-2212\" stroke-width=\"10\"/>\n",
       "<path d=\"M109 429Q82 429 66 447T50 491Q50 562 103 614T235 666Q326 666 387 610T449 465Q449 422 429 383T381 315T301 241Q265 210 201 149L142 93L218 92Q375 92 385 97Q392 99 409 186V189H449V186Q448 183 436 95T421 3V0H50V19V31Q50 38 56 46T86 81Q115 113 136 137Q145 147 170 174T204 211T233 244T261 278T284 308T305 340T320 369T333 401T340 431T343 464Q343 527 309 573T212 619Q179 619 154 602T119 569T109 550Q109 549 114 549Q132 549 151 535T170 489Q170 464 154 447T109 429Z\" id=\"E1-MJMAIN-32\" stroke-width=\"10\"/>\n",
       "<path d=\"M131 289Q131 321 147 354T203 415T300 442Q362 442 390 415T419 355Q419 323 402 308T364 292Q351 292 340 300T328 326Q328 342 337 354T354 372T367 378Q368 378 368 379Q368 382 361 388T336 399T297 405Q249 405 227 379T204 326Q204 301 223 291T278 274T330 259Q396 230 396 163Q396 135 385 107T352 51T289 7T195 -10Q118 -10 86 19T53 87Q53 126 74 143T118 160Q133 160 146 151T160 120Q160 94 142 76T111 58Q109 57 108 57T107 55Q108 52 115 47T146 34T201 27Q237 27 263 38T301 66T318 97T323 122Q323 150 302 164T254 181T195 196T148 231Q131 256 131 289Z\" id=\"E1-MJMATHI-73\" stroke-width=\"10\"/>\n",
       "<path d=\"M23 287Q24 290 25 295T30 317T40 348T55 381T75 411T101 433T134 442Q209 442 230 378L240 387Q302 442 358 442Q423 442 460 395T497 281Q497 173 421 82T249 -10Q227 -10 210 -4Q199 1 187 11T168 28L161 36Q160 35 139 -51T118 -138Q118 -144 126 -145T163 -148H188Q194 -155 194 -157T191 -175Q188 -187 185 -190T172 -194Q170 -194 161 -194T127 -193T65 -192Q-5 -192 -24 -194H-32Q-39 -187 -39 -183Q-37 -156 -26 -148H-6Q28 -147 33 -136Q36 -130 94 103T155 350Q156 355 156 364Q156 405 131 405Q109 405 94 377T71 316T59 280Q57 278 43 278H29Q23 284 23 287ZM178 102Q200 26 252 26Q282 26 310 49T356 107Q374 141 392 215T411 325V331Q411 405 350 405Q339 405 328 402T306 393T286 380T269 365T254 350T243 336T235 326L232 322Q232 321 229 308T218 264T204 212Q178 106 178 102Z\" id=\"E1-MJMATHI-70\" stroke-width=\"10\"/>\n",
       "<path d=\"M423 750Q432 750 438 744T444 730Q444 725 271 248T92 -240Q85 -250 75 -250Q68 -250 62 -245T56 -231Q56 -221 230 257T407 740Q411 750 423 750Z\" id=\"E1-MJMAIN-2F\" stroke-width=\"10\"/>\n",
       "<path d=\"M21 287Q22 293 24 303T36 341T56 388T89 425T135 442Q171 442 195 424T225 390T231 369Q231 367 232 367L243 378Q304 442 382 442Q436 442 469 415T503 336T465 179T427 52Q427 26 444 26Q450 26 453 27Q482 32 505 65T540 145Q542 153 560 153Q580 153 580 145Q580 144 576 130Q568 101 554 73T508 17T439 -10Q392 -10 371 17T350 73Q350 92 386 193T423 345Q423 404 379 404H374Q288 404 229 303L222 291L189 157Q156 26 151 16Q138 -11 108 -11Q95 -11 87 -5T76 7T74 17Q74 30 112 180T152 343Q153 348 153 366Q153 405 129 405Q91 405 66 305Q60 285 60 284Q58 278 41 278H27Q21 284 21 287Z\" id=\"E1-MJMATHI-6E\" stroke-width=\"10\"/>\n",
       "<path d=\"M263 249Q264 249 315 130T417 -108T470 -228L725 302Q981 837 982 839Q989 850 1001 850Q1008 850 1013 844T1020 832V826L741 243Q645 43 540 -176Q479 -303 469 -324T453 -348Q449 -350 436 -350L424 -349L315 -96Q206 156 205 156L171 130Q138 104 137 104L111 130L263 249Z\" id=\"E1-MJSZ1-221A\" stroke-width=\"10\"/>\n",
       "</defs>\n",
       "<g fill=\"currentColor\" stroke=\"currentColor\" stroke-width=\"0\" transform=\"matrix(1 0 0 -1 0 0)\">\n",
       " <use x=\"0\" xlink:href=\"#E1-MJMATHI-74\" y=\"0\"/>\n",
       " <use x=\"643\" xlink:href=\"#E1-MJMAIN-3D\" y=\"0\"/>\n",
       "<g transform=\"translate(1704,0)\">\n",
       "<g transform=\"translate(120,0)\">\n",
       "<rect height=\"60\" stroke=\"none\" width=\"3975\" x=\"0\" y=\"220\"/>\n",
       "<g transform=\"translate(60,676)\">\n",
       " <use x=\"0\" xlink:href=\"#E1-MJMATHI-58\" y=\"0\"/>\n",
       " <use x=\"274\" xlink:href=\"#E1-MJMAIN-AF\" y=\"266\"/>\n",
       " <use transform=\"scale(0.707)\" x=\"1211\" xlink:href=\"#E1-MJMAIN-31\" y=\"-213\"/>\n",
       " <use x=\"1536\" xlink:href=\"#E1-MJMAIN-2212\" y=\"0\"/>\n",
       "<g transform=\"translate(2541,0)\">\n",
       " <use x=\"0\" xlink:href=\"#E1-MJMATHI-58\" y=\"0\"/>\n",
       " <use x=\"274\" xlink:href=\"#E1-MJMAIN-AF\" y=\"266\"/>\n",
       " <use transform=\"scale(0.707)\" x=\"1211\" xlink:href=\"#E1-MJMAIN-32\" y=\"-213\"/>\n",
       "</g>\n",
       "</g>\n",
       "<g transform=\"translate(211,-946)\">\n",
       " <use x=\"0\" xlink:href=\"#E1-MJMATHI-73\" y=\"0\"/>\n",
       " <use transform=\"scale(0.707)\" x=\"670\" xlink:href=\"#E1-MJMATHI-70\" y=\"-213\"/>\n",
       "<g transform=\"translate(933,0)\">\n",
       " <use x=\"0\" xlink:href=\"#E1-MJSZ1-221A\" y=\"6\"/>\n",
       "<rect height=\"60\" stroke=\"none\" width=\"1615\" x=\"1005\" y=\"806\"/>\n",
       "<g transform=\"translate(1005,0)\">\n",
       " <use x=\"0\" xlink:href=\"#E1-MJMAIN-32\" y=\"0\"/>\n",
       " <use x=\"505\" xlink:href=\"#E1-MJMAIN-2F\" y=\"0\"/>\n",
       " <use x=\"1010\" xlink:href=\"#E1-MJMATHI-6E\" y=\"0\"/>\n",
       "</g>\n",
       "</g>\n",
       "</g>\n",
       "</g>\n",
       "</g>\n",
       "</g>\n",
       "</svg>"
      ],
      "text/plain": [
       "<IPython.core.display.SVG object>"
      ]
     },
     "metadata": {},
     "output_type": "display_data"
    }
   ],
   "source": [
    "url = \"https://wikimedia.org/api/rest_v1/media/math/render/svg/cad0574bf2031d40d0194bfbe427567367aab4a8\"\n",
    "display(SVG(url=url))"
   ]
  },
  {
   "cell_type": "code",
   "execution_count": 13,
   "metadata": {},
   "outputs": [
    {
     "data": {
      "text/plain": [
       "Ttest_indResult(statistic=-2.2854345381656112, pvalue=0.023938264182934196)"
      ]
     },
     "execution_count": 13,
     "metadata": {},
     "output_type": "execute_result"
    }
   ],
   "source": [
    "m = df.temperature.loc[df.gender=='M']\n",
    "w = df.temperature.loc[df.gender=='F']\n",
    "\n",
    "stats.ttest_ind(m, w, equal_var=False)"
   ]
  },
  {
   "cell_type": "markdown",
   "metadata": {},
   "source": [
    "There is evidence of a statistically significant difference in mean temperature between men and women in this sample based on a non pooled ttest."
   ]
  },
  {
   "cell_type": "code",
   "execution_count": null,
   "metadata": {
    "collapsed": true
   },
   "outputs": [],
   "source": []
  }
 ],
 "metadata": {
  "kernelspec": {
   "display_name": "Python 3",
   "language": "python",
   "name": "python3"
  },
  "language_info": {
   "codemirror_mode": {
    "name": "ipython",
    "version": 3
   },
   "file_extension": ".py",
   "mimetype": "text/x-python",
   "name": "python",
   "nbconvert_exporter": "python",
   "pygments_lexer": "ipython3",
   "version": "3.6.1"
  }
 },
 "nbformat": 4,
 "nbformat_minor": 1
}
