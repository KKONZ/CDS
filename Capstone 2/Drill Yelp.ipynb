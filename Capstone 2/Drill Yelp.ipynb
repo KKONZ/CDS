{
 "cells": [
  {
   "cell_type": "code",
   "execution_count": 11,
   "metadata": {
    "collapsed": false
   },
   "outputs": [],
   "source": [
    "import pydrill\n",
    "\n"
   ]
  },
  {
   "cell_type": "code",
   "execution_count": 22,
   "metadata": {
    "collapsed": false
   },
   "outputs": [],
   "source": [
    "from pydrill.client import PyDrill\n",
    "from pydrill import *\n",
    "\n",
    "drill = PyDrill(host='localhost', port=8047)"
   ]
  },
  {
   "cell_type": "code",
   "execution_count": 23,
   "metadata": {
    "collapsed": false
   },
   "outputs": [
    {
     "data": {
      "text/plain": [
       "True"
      ]
     },
     "execution_count": 23,
     "metadata": {},
     "output_type": "execute_result"
    }
   ],
   "source": [
    "drill.is_active()"
   ]
  },
  {
   "cell_type": "code",
   "execution_count": 39,
   "metadata": {
    "collapsed": false
   },
   "outputs": [
    {
     "name": "stdout",
     "output_type": "stream",
     "text": [
      "business: Innovative Vapors: [\"Monday 11:0-21:0\",\"Tuesday 11:0-21:0\",\"Wednesday 11:0-21:0\",\"Thursday 11:0-21:0\",\"Friday 11:0-22:0\",\"Saturday 10:0-22:0\",\"Sunday 11:0-18:0\"]\n",
      "business: Cut and Taste: [\"Monday 0:0-0:0\",\"Tuesday 0:0-0:0\",\"Wednesday 0:0-0:0\",\"Thursday 0:0-0:0\",\"Friday 0:0-0:0\",\"Saturday 0:0-0:0\",\"Sunday 0:0-0:0\"]\n",
      "business: Pizza Pizza: [\"Monday 11:0-2:0\",\"Tuesday 11:0-2:0\",\"Wednesday 11:0-2:0\",\"Thursday 11:0-3:0\",\"Friday 11:0-3:0\",\"Saturday 11:0-3:0\",\"Sunday 11:0-2:0\"]\n",
      "business: Plush Salon and Spa: [\"Tuesday 10:0-21:0\",\"Wednesday 10:0-21:0\",\"Thursday 10:0-21:0\",\"Friday 10:0-18:0\",\"Saturday 9:0-16:0\"]\n",
      "business: Comfort Inn: []\n"
     ]
    }
   ],
   "source": [
    "yelp_reviews = drill.query('''\n",
    "  SELECT * FROM\n",
    "  `dfs.root`.`C:/Users/qh1444dd/Downloads/yelp_academic_dataset_business.json`\n",
    "  LIMIT 5\n",
    "''')\n",
    "\n",
    "for result in yelp_reviews:\n",
    "    print(\"%s: %s: %s\" %(result['type'], result['name'], result['hours']))"
   ]
  },
  {
   "cell_type": "code",
   "execution_count": 41,
   "metadata": {
    "collapsed": false
   },
   "outputs": [
    {
     "name": "stdout",
     "output_type": "stream",
     "text": [
      "                     address  \\\n",
      "0  227 E Baseline Rd, Ste J2   \n",
      "1   495 S Grand Central Pkwy   \n",
      "3     7014 Steubenville Pike   \n",
      "4          321 Jarvis Street   \n",
      "\n",
      "                                          attributes             business_id  \\\n",
      "0  [\"BikeParking: True\",\"BusinessAcceptsBitcoin: ...  0DI8Dt2PJp07XkVvIElIcQ   \n",
      "1  [\"BusinessAcceptsBitcoin: False\",\"BusinessAcce...  LTlCaCGZE14GuaUXUGbamg   \n",
      "3  [\"AcceptsInsurance: False\",\"BusinessAcceptsCre...  cnGIivYRLxpF7tBVR_JwWA   \n",
      "4  [\"BusinessAcceptsCreditCards: True\",\"Restauran...  cdk-qqJ71q6P7TJTww_DSA   \n",
      "\n",
      "                                          categories       city  \\\n",
      "0  [\"Tobacco Shops\",\"Nightlife\",\"Vape Shops\",\"Sho...      Tempe   \n",
      "1  [\"Caterers\",\"Grocery\",\"Food\",\"Event Planning &...  Las Vegas   \n",
      "3  [\"Hair Removal\",\"Beauty & Spas\",\"Blow Dry/Out ...    Oakdale   \n",
      "4  [\"Hotels & Travel\",\"Event Planning & Services\"...    Toronto   \n",
      "\n",
      "                                               hours is_open       latitude  \\\n",
      "0  [\"Monday 11:0-21:0\",\"Tuesday 11:0-21:0\",\"Wedne...       0     33.3782141   \n",
      "1  [\"Monday 0:0-0:0\",\"Tuesday 0:0-0:0\",\"Wednesday...       1     36.1922841   \n",
      "3  [\"Tuesday 10:0-21:0\",\"Wednesday 10:0-21:0\",\"Th...       1  40.4445439533   \n",
      "4                                                 []       1     43.6598286   \n",
      "\n",
      "        longitude                 name   neighborhood postal_code  \\\n",
      "0     -111.936102    Innovative Vapors                      85283   \n",
      "1    -115.1592718        Cut and Taste                      89106   \n",
      "3  -80.1745398943  Plush Salon and Spa                      15071   \n",
      "4     -79.3754006          Comfort Inn  Downtown Core     M5B 2C2   \n",
      "\n",
      "  review_count stars state      type  \n",
      "0           17   4.5    AZ  business  \n",
      "1            9   5.0    NV  business  \n",
      "3            4   4.0    PA  business  \n",
      "4            8   3.0    ON  business  \n"
     ]
    }
   ],
   "source": [
    "df = yelp_reviews.to_dataframe()\n",
    "print(df[df['stars'] > '3'])"
   ]
  },
  {
   "cell_type": "code",
   "execution_count": null,
   "metadata": {
    "collapsed": true
   },
   "outputs": [],
   "source": []
  }
 ],
 "metadata": {
  "kernelspec": {
   "display_name": "Python 3",
   "language": "python",
   "name": "python3"
  },
  "language_info": {
   "codemirror_mode": {
    "name": "ipython",
    "version": 3
   },
   "file_extension": ".py",
   "mimetype": "text/x-python",
   "name": "python",
   "nbconvert_exporter": "python",
   "pygments_lexer": "ipython3",
   "version": "3.5.1"
  }
 },
 "nbformat": 4,
 "nbformat_minor": 0
}
