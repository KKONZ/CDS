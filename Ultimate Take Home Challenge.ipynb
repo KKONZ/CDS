{
 "cells": [
  {
   "cell_type": "markdown",
   "metadata": {},
   "source": [
    "# Ultimate Take Home Challenge"
   ]
  },
  {
   "cell_type": "markdown",
   "metadata": {},
   "source": [
    "### Date: _12/18/2017_\n",
    "\n",
    "### Candidate: Karl Konz"
   ]
  },
  {
   "cell_type": "markdown",
   "metadata": {},
   "source": [
    "### Part 1 ‑ Exploratory data analysis\n",
    "\n",
    "The attached logins.json file contains (simulated) timestamps of user logins in a particular\n",
    "geographic location. Aggregate these login counts based on 15minute\n",
    "time intervals, and\n",
    "visualize and describe the resulting time series of login counts in ways that best characterize the\n",
    "underlying patterns of the demand. Please report/illustrate important features of the demand,\n",
    "such as daily cycles. If there are data quality issues, please report them."
   ]
  },
  {
   "cell_type": "markdown",
   "metadata": {},
   "source": [
    "### Strategy\n",
    "\n",
    "First import packages to work with the data, then open and load the login data."
   ]
  },
  {
   "cell_type": "code",
   "execution_count": 1,
   "metadata": {
    "collapsed": true
   },
   "outputs": [],
   "source": [
    "# import the appropriate packages to work with the data\n",
    "import json\n",
    "import pandas as pd\n",
    "from pandas.io.json import json_normalize"
   ]
  },
  {
   "cell_type": "code",
   "execution_count": 4,
   "metadata": {
    "collapsed": false
   },
   "outputs": [],
   "source": [
    "with open('c:/users/qh1444dd/Springboard/logins.json') as f:\n",
    "    logins = json.load(f)"
   ]
  },
  {
   "cell_type": "markdown",
   "metadata": {},
   "source": [
    "Next, make the logins data a pandas dataframe and create a count variable that will then be aggregated by 15 minute intervals and counted."
   ]
  },
  {
   "cell_type": "code",
   "execution_count": 5,
   "metadata": {
    "collapsed": false
   },
   "outputs": [],
   "source": [
    "# Create pandas dataframe\n",
    "logins = pd.DataFrame(logins)\n",
    "# Create count column\n",
    "logins['Count'] = 1"
   ]
  },
  {
   "cell_type": "markdown",
   "metadata": {},
   "source": [
    "Below we cast the login_time as a pandas DateTimeIndex and set as the index."
   ]
  },
  {
   "cell_type": "code",
   "execution_count": 6,
   "metadata": {
    "collapsed": true
   },
   "outputs": [],
   "source": [
    "# Cast login_time as date time index and set as the dataframe index\n",
    "logins = logins.set_index(pd.DatetimeIndex(logins['login_time']))"
   ]
  },
  {
   "cell_type": "markdown",
   "metadata": {},
   "source": [
    "Next aggregate the data set by 15 minute increments, sum the counts, and fill in null or missing values with 0."
   ]
  },
  {
   "cell_type": "code",
   "execution_count": 7,
   "metadata": {
    "collapsed": false
   },
   "outputs": [
    {
     "data": {
      "text/html": [
       "<div>\n",
       "<style scoped>\n",
       "    .dataframe tbody tr th:only-of-type {\n",
       "        vertical-align: middle;\n",
       "    }\n",
       "\n",
       "    .dataframe tbody tr th {\n",
       "        vertical-align: top;\n",
       "    }\n",
       "\n",
       "    .dataframe thead th {\n",
       "        text-align: right;\n",
       "    }\n",
       "</style>\n",
       "<table border=\"1\" class=\"dataframe\">\n",
       "  <thead>\n",
       "    <tr style=\"text-align: right;\">\n",
       "      <th></th>\n",
       "      <th>Count</th>\n",
       "    </tr>\n",
       "    <tr>\n",
       "      <th>login_time</th>\n",
       "      <th></th>\n",
       "    </tr>\n",
       "  </thead>\n",
       "  <tbody>\n",
       "    <tr>\n",
       "      <th>1970-01-01 20:00:00</th>\n",
       "      <td>2.0</td>\n",
       "    </tr>\n",
       "    <tr>\n",
       "      <th>1970-01-01 20:15:00</th>\n",
       "      <td>6.0</td>\n",
       "    </tr>\n",
       "    <tr>\n",
       "      <th>1970-01-01 20:30:00</th>\n",
       "      <td>9.0</td>\n",
       "    </tr>\n",
       "    <tr>\n",
       "      <th>1970-01-01 20:45:00</th>\n",
       "      <td>7.0</td>\n",
       "    </tr>\n",
       "    <tr>\n",
       "      <th>1970-01-01 21:00:00</th>\n",
       "      <td>1.0</td>\n",
       "    </tr>\n",
       "  </tbody>\n",
       "</table>\n",
       "</div>"
      ],
      "text/plain": [
       "                     Count\n",
       "login_time                \n",
       "1970-01-01 20:00:00    2.0\n",
       "1970-01-01 20:15:00    6.0\n",
       "1970-01-01 20:30:00    9.0\n",
       "1970-01-01 20:45:00    7.0\n",
       "1970-01-01 21:00:00    1.0"
      ]
     },
     "execution_count": 7,
     "metadata": {},
     "output_type": "execute_result"
    }
   ],
   "source": [
    "# Create a copy of the login counts pandas object\n",
    "loginsCount = logins.Count\n",
    "# Aggregate by 15 mins, sum the counts, and fill in na values with 0\n",
    "loginsCount = logins.resample('15T').sum().fillna(0)\n",
    "# Examine the first 5 rows of the new data set\n",
    "loginsCount.head()"
   ]
  },
  {
   "cell_type": "markdown",
   "metadata": {},
   "source": [
    "To get a better idea of utilization trends we will plot the loginsCount data with matplotlib."
   ]
  },
  {
   "cell_type": "code",
   "execution_count": 8,
   "metadata": {
    "collapsed": false
   },
   "outputs": [
    {
     "data": {
      "image/png": "[encoded data removed]",
      "text/plain": [
       "<matplotlib.figure.Figure at 0xfd4ddd8>"
      ]
     },
     "metadata": {},
     "output_type": "display_data"
    }
   ],
   "source": [
    "# inline matplot magic\n",
    "% matplotlib inline\n",
    "# import matplotlib package\n",
    "import matplotlib.pyplot as plt\n",
    "# increase the size of the plot\n",
    "plt.rcParams['figure.dpi'] = 150\n",
    "# add loginsCount data to the plt object\n",
    "plt.plot(loginsCount)\n",
    "# create the y label\n",
    "plt.ylabel('frequency')\n",
    "# create the x label\n",
    "plt.xlabel('login time')\n",
    "# create the title\n",
    "plt.title('15 min interval')\n",
    "# rotate the x-axis labels so they don't overlap\n",
    "plt.xticks(rotation=70)\n",
    "# Display the plt object\n",
    "plt.show()"
   ]
  },
  {
   "cell_type": "markdown",
   "metadata": {},
   "source": [
    "It is a bit difficult to see a clear pattern, so lets aggregate the logins by day next."
   ]
  },
  {
   "cell_type": "code",
   "execution_count": 10,
   "metadata": {
    "collapsed": false
   },
   "outputs": [
    {
     "data": {
      "image/png": "[encoded data removed]",
      "text/plain": [
       "<matplotlib.figure.Figure at 0x11fddc50>"
      ]
     },
     "metadata": {},
     "output_type": "display_data"
    }
   ],
   "source": [
    "# Create a copy of the login counts pandas object\n",
    "loginsCount = logins.Count\n",
    "# Aggregate by 1 day, sum the counts, and fill in na values with 0\n",
    "loginsCount = logins.resample('D').sum().fillna(0)\n",
    "# Set the size of the figure\n",
    "plt.rcParams['figure.dpi'] = 150\n",
    "# add loginsCount data to the plt object\n",
    "plt.plot(loginsCount)\n",
    "# create the y label\n",
    "plt.ylabel('frequency')\n",
    "# create the x label\n",
    "plt.xlabel('login time')\n",
    "# create the title\n",
    "plt.title('1 day interval')\n",
    "# rotate the x-axis labels so they don't overlap\n",
    "plt.xticks(rotation=70)\n",
    "# Display the plt object\n",
    "plt.show()"
   ]
  },
  {
   "cell_type": "code",
   "execution_count": 12,
   "metadata": {
    "collapsed": false
   },
   "outputs": [
    {
     "data": {
      "image/png": "[encoded data removed]",
      "text/plain": [
       "<matplotlib.figure.Figure at 0xd4a8470>"
      ]
     },
     "metadata": {},
     "output_type": "display_data"
    }
   ],
   "source": [
    "# Create a copy of the login counts pandas object\n",
    "loginsCount = logins.Count\n",
    "# Aggregate by business days, sum the counts, and fill in na values with 0\n",
    "loginsCount = logins.resample('B').sum().fillna(0)\n",
    "# Set the size of the figure\n",
    "plt.rcParams['figure.dpi'] = 150\n",
    "# add loginsCount data to the plt object\n",
    "plt.plot(loginsCount)\n",
    "# create the y label\n",
    "plt.ylabel('frequency')\n",
    "# create the x label\n",
    "plt.xlabel('login time')\n",
    "# create the title\n",
    "plt.title('1 business day interval')\n",
    "# rotate the x-axis labels so they don't overlap\n",
    "plt.xticks(rotation=70)\n",
    "# Display the plt object\n",
    "plt.show()"
   ]
  },
  {
   "cell_type": "markdown",
   "metadata": {},
   "source": [
    "This gives us a bit better idea of the user patterns. We can now see that the trend a bit better, but looks rather cyclical. If we only care about a smooth trend line then aggregating by month may be better."
   ]
  },
  {
   "cell_type": "code",
   "execution_count": 11,
   "metadata": {
    "collapsed": false
   },
   "outputs": [
    {
     "data": {
      "image/png": "[encoded data removed]",
      "text/plain": [
       "<matplotlib.figure.Figure at 0xd4432e8>"
      ]
     },
     "metadata": {},
     "output_type": "display_data"
    }
   ],
   "source": [
    "# Create a copy of the login counts pandas object\n",
    "loginsCount = logins.Count\n",
    "# Aggregate by 1 day, sum the counts, and fill in na values with 0\n",
    "loginsCount = logins.resample('M').sum().fillna(0)\n",
    "# Set the size of the figure\n",
    "plt.rcParams['figure.dpi'] = 150\n",
    "# add loginsCount data to the plt object\n",
    "plt.plot(loginsCount)\n",
    "# create the y label\n",
    "plt.ylabel('frequency')\n",
    "# create the x label\n",
    "plt.xlabel('login time')\n",
    "# create the title\n",
    "plt.title('1 Month interval')\n",
    "# rotate the x-axis labels so they don't overlap\n",
    "plt.xticks(rotation=70)\n",
    "# Display the plt object\n",
    "plt.show()"
   ]
  },
  {
   "cell_type": "markdown",
   "metadata": {},
   "source": [
    "By aggregating to the month we see that utilization increased up to April, but this plot is misleading since we only have data up to April 13th."
   ]
  },
  {
   "cell_type": "markdown",
   "metadata": {
    "collapsed": true
   },
   "source": [
    "## Part 2 ‑ Experiment and metrics design\n",
    "\n",
    "The neighboring cities of Gotham and Metropolis have complementary circadian rhythms: on\n",
    "weekdays, Ultimate Gotham is most active at night, and Ultimate Metropolis is most active\n",
    "during the day. On weekends, there is reasonable activity in both cities.\n",
    "However, a toll bridge, with a two way\n",
    "toll, between the two cities causes driver partners to tend\n",
    "to be exclusive to each city. The Ultimate managers of city operations for the two cities have\n",
    "proposed an experiment to encourage driver partners to be available in both cities, by\n",
    "reimbursing all toll costs.\n",
    "\n",
    "#### 1. What would you choose as the key measure of success of this experiment in\n",
    "#### encouraging driver partners to serve both cities, and why would you choose this metric?\n",
    "\n",
    "#### 2. Describe a practical experiment you would design to compare the effectiveness of the\n",
    "#### proposed change in relation to the key measure of success. Please provide details on:\n",
    "\n",
    " a. how you will implement the experiment\n",
    " \n",
    " b. what statistical test(s) you will conduct to verify the significance of the\n",
    " observation\n",
    " \n",
    " c. how you would interpret the results and provide recommendations to the city\n",
    " operations team along with any caveats."
   ]
  },
  {
   "cell_type": "markdown",
   "metadata": {},
   "source": [
    "1. To measure the effectiveness of the initiative, I would want to see a higher proportion of drivers with trips to both cities. I would chose this as a starting point because we would expect records in both cities for a given driver if they are actually using the bridge. However if ROI is an issue and we need to make sure that we are budgeting correctly, then we may want to examine the dollars lost from the program versus utilization."
   ]
  },
  {
   "cell_type": "markdown",
   "metadata": {},
   "source": [
    "2a. One possible test would be to you a traffic count across the bridge and measure how many cars drove over the traffic counter with the toll and when the toll was removed. Perhaps the finds would require further analysis."
   ]
  },
  {
   "cell_type": "markdown",
   "metadata": {},
   "source": [
    "2b. A z-test for measuring the proportion of records in both cities for each user before and after the tolls are lifted or a chi-sqaured test could work as well."
   ]
  },
  {
   "cell_type": "markdown",
   "metadata": {},
   "source": [
    "2c. First, we would want to make sure that there is evidence of a statistical difference between the 2 groups. A one tail test may be appropriate if we only care if there is an increase, though a 2 tailed test may work if we think for whatever reason the utilization may go down."
   ]
  },
  {
   "cell_type": "markdown",
   "metadata": {
    "collapsed": true
   },
   "source": [
    "## Part 3 ‑ Predictive modeling\n",
    "\n",
    "Ultimate is interested in predicting rider retention. To help explore this question, we have\n",
    "provided a sample dataset of a cohort of users who signed up for an Ultimate account in\n",
    "January 2014. The data was pulled several months later; we consider a user retained if they\n",
    "were “active” (i.e. took a trip) in the preceding 30 days.\n",
    "We would like you to use this data set to help understand what factors are the best predictors\n",
    "for retention, and offer suggestions to operationalize those insights to help Ultimate.\n",
    "The data is in the attached file ultimate_data_challenge.json. See below for a detailed\n",
    "description of the dataset. Please include any code you wrote for the analysis and delete the\n",
    "dataset when you have finished with the challenge.\n",
    "\n",
    "1. Perform any cleaning, exploratory analysis, and/or visualizations to use the provided\n",
    " data for this analysis (a few sentences/plots describing your approach will suffice). What\n",
    " fraction of the observed users were retained?\n",
    "\n",
    "2. Build a predictive model to help Ultimate determine whether or not a user will be active\n",
    " in their 6th month on the system. Discuss why you chose your approach, what\n",
    " alternatives you considered, and any concerns you have. How valid is your model?\n",
    " Include any key indicators of model performance.\n",
    "\n",
    "3. Briefly discuss how Ultimate might leverage the insights gained from the model to\n",
    " improve its longterm\n",
    " rider retention (again, a few sentences will suffice)."
   ]
  },
  {
   "cell_type": "markdown",
   "metadata": {},
   "source": [
    "First read open the ultimate data, load, and then process as a pandas dataframe."
   ]
  },
  {
   "cell_type": "code",
   "execution_count": 21,
   "metadata": {
    "collapsed": false
   },
   "outputs": [],
   "source": [
    "# Read the ultimate data\n",
    "with open('c:/users/qh1444dd/Springboard/ultimate_data_challenge.json') as f:\n",
    "    challenge = pd.DataFrame(json.load(f))"
   ]
  },
  {
   "cell_type": "code",
   "execution_count": 22,
   "metadata": {
    "collapsed": false,
    "scrolled": true
   },
   "outputs": [
    {
     "data": {
      "text/html": [
       "<div>\n",
       "<style scoped>\n",
       "    .dataframe tbody tr th:only-of-type {\n",
       "        vertical-align: middle;\n",
       "    }\n",
       "\n",
       "    .dataframe tbody tr th {\n",
       "        vertical-align: top;\n",
       "    }\n",
       "\n",
       "    .dataframe thead th {\n",
       "        text-align: right;\n",
       "    }\n",
       "</style>\n",
       "<table border=\"1\" class=\"dataframe\">\n",
       "  <thead>\n",
       "    <tr style=\"text-align: right;\">\n",
       "      <th></th>\n",
       "      <th>avg_dist</th>\n",
       "      <th>avg_rating_by_driver</th>\n",
       "      <th>avg_rating_of_driver</th>\n",
       "      <th>avg_surge</th>\n",
       "      <th>city</th>\n",
       "      <th>last_trip_date</th>\n",
       "      <th>phone</th>\n",
       "      <th>signup_date</th>\n",
       "      <th>surge_pct</th>\n",
       "      <th>trips_in_first_30_days</th>\n",
       "      <th>ultimate_black_user</th>\n",
       "      <th>weekday_pct</th>\n",
       "    </tr>\n",
       "  </thead>\n",
       "  <tbody>\n",
       "    <tr>\n",
       "      <th>0</th>\n",
       "      <td>3.67</td>\n",
       "      <td>5.0</td>\n",
       "      <td>4.7</td>\n",
       "      <td>1.10</td>\n",
       "      <td>King's Landing</td>\n",
       "      <td>2014-06-17</td>\n",
       "      <td>iPhone</td>\n",
       "      <td>2014-01-25</td>\n",
       "      <td>15.4</td>\n",
       "      <td>4</td>\n",
       "      <td>True</td>\n",
       "      <td>46.2</td>\n",
       "    </tr>\n",
       "    <tr>\n",
       "      <th>1</th>\n",
       "      <td>8.26</td>\n",
       "      <td>5.0</td>\n",
       "      <td>5.0</td>\n",
       "      <td>1.00</td>\n",
       "      <td>Astapor</td>\n",
       "      <td>2014-05-05</td>\n",
       "      <td>Android</td>\n",
       "      <td>2014-01-29</td>\n",
       "      <td>0.0</td>\n",
       "      <td>0</td>\n",
       "      <td>False</td>\n",
       "      <td>50.0</td>\n",
       "    </tr>\n",
       "    <tr>\n",
       "      <th>2</th>\n",
       "      <td>0.77</td>\n",
       "      <td>5.0</td>\n",
       "      <td>4.3</td>\n",
       "      <td>1.00</td>\n",
       "      <td>Astapor</td>\n",
       "      <td>2014-01-07</td>\n",
       "      <td>iPhone</td>\n",
       "      <td>2014-01-06</td>\n",
       "      <td>0.0</td>\n",
       "      <td>3</td>\n",
       "      <td>False</td>\n",
       "      <td>100.0</td>\n",
       "    </tr>\n",
       "    <tr>\n",
       "      <th>3</th>\n",
       "      <td>2.36</td>\n",
       "      <td>4.9</td>\n",
       "      <td>4.6</td>\n",
       "      <td>1.14</td>\n",
       "      <td>King's Landing</td>\n",
       "      <td>2014-06-29</td>\n",
       "      <td>iPhone</td>\n",
       "      <td>2014-01-10</td>\n",
       "      <td>20.0</td>\n",
       "      <td>9</td>\n",
       "      <td>True</td>\n",
       "      <td>80.0</td>\n",
       "    </tr>\n",
       "    <tr>\n",
       "      <th>4</th>\n",
       "      <td>3.13</td>\n",
       "      <td>4.9</td>\n",
       "      <td>4.4</td>\n",
       "      <td>1.19</td>\n",
       "      <td>Winterfell</td>\n",
       "      <td>2014-03-15</td>\n",
       "      <td>Android</td>\n",
       "      <td>2014-01-27</td>\n",
       "      <td>11.8</td>\n",
       "      <td>14</td>\n",
       "      <td>False</td>\n",
       "      <td>82.4</td>\n",
       "    </tr>\n",
       "  </tbody>\n",
       "</table>\n",
       "</div>"
      ],
      "text/plain": [
       "   avg_dist  avg_rating_by_driver  avg_rating_of_driver  avg_surge  \\\n",
       "0      3.67                   5.0                   4.7       1.10   \n",
       "1      8.26                   5.0                   5.0       1.00   \n",
       "2      0.77                   5.0                   4.3       1.00   \n",
       "3      2.36                   4.9                   4.6       1.14   \n",
       "4      3.13                   4.9                   4.4       1.19   \n",
       "\n",
       "             city last_trip_date    phone signup_date  surge_pct  \\\n",
       "0  King's Landing     2014-06-17   iPhone  2014-01-25       15.4   \n",
       "1         Astapor     2014-05-05  Android  2014-01-29        0.0   \n",
       "2         Astapor     2014-01-07   iPhone  2014-01-06        0.0   \n",
       "3  King's Landing     2014-06-29   iPhone  2014-01-10       20.0   \n",
       "4      Winterfell     2014-03-15  Android  2014-01-27       11.8   \n",
       "\n",
       "   trips_in_first_30_days  ultimate_black_user  weekday_pct  \n",
       "0                       4                 True         46.2  \n",
       "1                       0                False         50.0  \n",
       "2                       3                False        100.0  \n",
       "3                       9                 True         80.0  \n",
       "4                      14                False         82.4  "
      ]
     },
     "execution_count": 22,
     "metadata": {},
     "output_type": "execute_result"
    }
   ],
   "source": [
    "# Examine the head of the ultimate challenge data\n",
    "challenge.head()"
   ]
  },
  {
   "cell_type": "code",
   "execution_count": null,
   "metadata": {
    "collapsed": true
   },
   "outputs": [],
   "source": [
    "pd.to_datetime(logins.login_time.max()) - pd.Timedelta(30, unit='d')"
   ]
  },
  {
   "cell_type": "markdown",
   "metadata": {},
   "source": [
    "To measure retention we can take the length of the challenge data in which there were trips in the first 30 days divided by the len of the entire dataframe."
   ]
  },
  {
   "cell_type": "code",
   "execution_count": 53,
   "metadata": {
    "collapsed": false
   },
   "outputs": [
    {
     "data": {
      "text/plain": [
       "Timestamp('2014-06-01 00:00:00')"
      ]
     },
     "execution_count": 53,
     "metadata": {},
     "output_type": "execute_result"
    }
   ],
   "source": [
    "#retention \n",
    "\n",
    "ActiveInLast30Days = pd.to_datetime(challenge.last_trip_date.max())- pd.Timedelta(30, unit='d') \n",
    "ActiveInLast30Days\n"
   ]
  },
  {
   "cell_type": "markdown",
   "metadata": {},
   "source": [
    "It is unclear what 'in the last 30 days' means to me. I assumed the last recorded trip was the start of the period and subtracted 30 days from that date"
   ]
  },
  {
   "cell_type": "code",
   "execution_count": 54,
   "metadata": {
    "collapsed": false
   },
   "outputs": [
    {
     "data": {
      "text/plain": [
       "0.37608"
      ]
     },
     "execution_count": 54,
     "metadata": {},
     "output_type": "execute_result"
    }
   ],
   "source": [
    "len(challenge[pd.to_datetime(challenge.last_trip_date) >= ActiveInLast30Days])/ len(challenge)"
   ]
  },
  {
   "cell_type": "markdown",
   "metadata": {},
   "source": [
    "Here we can see that roughly 38% of the users were retained."
   ]
  },
  {
   "cell_type": "markdown",
   "metadata": {},
   "source": [
    "Next create a column to indicate if a user utilized the service 6 months later"
   ]
  },
  {
   "cell_type": "code",
   "execution_count": 79,
   "metadata": {
    "collapsed": true
   },
   "outputs": [],
   "source": [
    "# import numpy package\n",
    "import numpy as np\n",
    "\n",
    "# convert signup date to date time\n",
    "challenge['signup_date'] = pd.to_datetime(challenge['signup_date'])\n",
    "# convert last trip date to date time\n",
    "challenge['last_trip_date'] = pd.to_datetime(challenge['last_trip_date'])\n",
    "# create a number of months used column by month\n",
    "challenge['nb_months'] = (challenge.last_trip_date - challenge.signup_date)/ np.timedelta64(1, 'M')\n",
    "# create a dummy variable for if nb_months is greater then or equal to 6 months\n",
    "challenge['ret6months'] = np.where(challenge['nb_months'] >=6, 1, 0)"
   ]
  },
  {
   "cell_type": "markdown",
   "metadata": {
    "collapsed": true
   },
   "source": [
    "Check the number of records that have been active up to 6 months "
   ]
  },
  {
   "cell_type": "code",
   "execution_count": 80,
   "metadata": {
    "collapsed": false
   },
   "outputs": [
    {
     "data": {
      "text/plain": [
       "0"
      ]
     },
     "execution_count": 80,
     "metadata": {},
     "output_type": "execute_result"
    }
   ],
   "source": [
    "len(challenge[challenge['ret6months'] == 1])"
   ]
  },
  {
   "cell_type": "markdown",
   "metadata": {},
   "source": [
    "If we literally measure 6 months or greater the data does not show any hits! This is obviously a concern and would need to be addressed.\n",
    "For now we will round nb_monts which should then give us some hits."
   ]
  },
  {
   "cell_type": "code",
   "execution_count": 81,
   "metadata": {
    "collapsed": false
   },
   "outputs": [
    {
     "data": {
      "text/plain": [
       "0    4.698248\n",
       "1    3.154069\n",
       "2    0.032855\n",
       "3    5.585330\n",
       "4    1.544180\n",
       "Name: nb_months, dtype: float64"
      ]
     },
     "execution_count": 81,
     "metadata": {},
     "output_type": "execute_result"
    }
   ],
   "source": [
    "challenge['nb_months'].head()"
   ]
  },
  {
   "cell_type": "code",
   "execution_count": 82,
   "metadata": {
    "collapsed": true
   },
   "outputs": [],
   "source": [
    "challenge['ret6monthsRounded'] = np.where(np.round(challenge['nb_months']) >=6, 1, 0)"
   ]
  },
  {
   "cell_type": "markdown",
   "metadata": {},
   "source": [
    "Next we will calculate the proportion of 6 month retained users, if this is less than .3 we will need to consider SMOTE or over/under sampling"
   ]
  },
  {
   "cell_type": "code",
   "execution_count": 83,
   "metadata": {
    "collapsed": false
   },
   "outputs": [
    {
     "data": {
      "text/plain": [
       "0.07036"
      ]
     },
     "execution_count": 83,
     "metadata": {},
     "output_type": "execute_result"
    }
   ],
   "source": [
    "len(challenge[challenge['ret6monthsRounded'] == 1])/len(challenge)"
   ]
  },
  {
   "cell_type": "markdown",
   "metadata": {},
   "source": [
    "Here we can see that the proportion of riders retained after 6 months is imbalanced."
   ]
  },
  {
   "cell_type": "code",
   "execution_count": 84,
   "metadata": {
    "collapsed": true
   },
   "outputs": [],
   "source": [
    "# load appropriate packages\n",
    "from sklearn.ensemble import RandomForestClassifier\n",
    "from sklearn.model_selection import train_test_split\n",
    "from sklearn.metrics import recall_score\n",
    "from imblearn.over_sampling import SMOTE"
   ]
  },
  {
   "cell_type": "markdown",
   "metadata": {},
   "source": [
    "Now we will input any missing values with the mean"
   ]
  },
  {
   "cell_type": "code",
   "execution_count": 85,
   "metadata": {
    "collapsed": true
   },
   "outputs": [],
   "source": [
    "challenge['avg_dist'] = challenge.fillna((challenge['avg_dist'].mean()), inplace=True)\n",
    "challenge.fillna((challenge['avg_rating_by_driver'].mean()), inplace=True)\n",
    "challenge.fillna((challenge['avg_surge'].mean()), inplace=True)\n",
    "challenge.fillna((challenge['surge_pct'].mean()), inplace=True)"
   ]
  },
  {
   "cell_type": "markdown",
   "metadata": {},
   "source": [
    "First transform the categorical variables into one encodings so we can model the data"
   ]
  },
  {
   "cell_type": "code",
   "execution_count": 86,
   "metadata": {
    "collapsed": true
   },
   "outputs": [],
   "source": [
    "challenge_enconded = pd.get_dummies(challenge[['avg_dist', \n",
    "                                               'avg_rating_by_driver',\n",
    "                                               'avg_surge',\n",
    "                                               'surge_pct',\n",
    "                                               'city',\n",
    "                                               'phone',\n",
    "                                               'surge_pct',\n",
    "                                               'trips_in_first_30_days',\n",
    "                                               'ultimate_black_user',\n",
    "                                               'weekday_pct',\n",
    "                                               'nb_months',\n",
    "                                               'ret6monthsRounded']])"
   ]
  },
  {
   "cell_type": "markdown",
   "metadata": {},
   "source": [
    "Next setup the data to be split and create the test and training data"
   ]
  },
  {
   "cell_type": "code",
   "execution_count": 88,
   "metadata": {
    "collapsed": true
   },
   "outputs": [],
   "source": [
    "# Set up the data to be split\n",
    "training_features, test_features, training_target, test_target, = train_test_split(challenge_enconded.drop(['ret6monthsRounded'], axis=1),\n",
    "                                               challenge_enconded['ret6monthsRounded'],\n",
    "                                               test_size = .1,\n",
    "                                               random_state=12)\n",
    "\n",
    "x_train, x_val, y_train, y_val = train_test_split(training_features, training_target,\n",
    "                                                  test_size = .1,\n",
    "                                                  random_state=12)\n"
   ]
  },
  {
   "cell_type": "markdown",
   "metadata": {},
   "source": [
    "Use SMOTE to balance the data"
   ]
  },
  {
   "cell_type": "code",
   "execution_count": 103,
   "metadata": {
    "collapsed": false
   },
   "outputs": [
    {
     "name": "stderr",
     "output_type": "stream",
     "text": [
      "C:\\Users\\karlk\\Anaconda3\\lib\\site-packages\\sklearn\\utils\\deprecation.py:77: DeprecationWarning: Function _ratio_float is deprecated; Use a float for 'ratio' is deprecated from version 0.2. The support will be removed in 0.4. Use a dict, str, or a callable instead.\n",
      "  warnings.warn(msg, category=DeprecationWarning)\n"
     ]
    }
   ],
   "source": [
    "sm = SMOTE(random_state=12, ratio = 1)\n",
    "x_train_res, y_train_res = sm.fit_sample(x_train, y_train)"
   ]
  },
  {
   "cell_type": "code",
   "execution_count": 104,
   "metadata": {
    "collapsed": false
   },
   "outputs": [
    {
     "data": {
      "text/plain": [
       "RandomForestClassifier(bootstrap=True, class_weight=None, criterion='gini',\n",
       "            max_depth=None, max_features='auto', max_leaf_nodes=None,\n",
       "            min_impurity_decrease=0.0, min_impurity_split=None,\n",
       "            min_samples_leaf=1, min_samples_split=2,\n",
       "            min_weight_fraction_leaf=0.0, n_estimators=25, n_jobs=1,\n",
       "            oob_score=False, random_state=12, verbose=0, warm_start=False)"
      ]
     },
     "execution_count": 104,
     "metadata": {},
     "output_type": "execute_result"
    }
   ],
   "source": [
    "clf_rf = RandomForestClassifier(n_estimators=25, random_state=12)\n",
    "clf_rf.fit(x_train_res, y_train_res)\n"
   ]
  },
  {
   "cell_type": "code",
   "execution_count": 105,
   "metadata": {
    "collapsed": false
   },
   "outputs": [
    {
     "name": "stdout",
     "output_type": "stream",
     "text": [
      "Validation Results\n",
      "1.0\n",
      "1.0\n",
      "\n",
      "Test Results\n",
      "1.0\n",
      "1.0\n"
     ]
    }
   ],
   "source": [
    "print('Validation Results')\n",
    "print(clf_rf.score(x_val, y_val))\n",
    "print(recall_score(y_val, clf_rf.predict(x_val)))\n",
    "print('\\nTest Results')\n",
    "print(clf_rf.score(test_features, test_target))\n",
    "print(recall_score(test_target, clf_rf.predict(test_features)))\n"
   ]
  },
  {
   "cell_type": "markdown",
   "metadata": {},
   "source": [
    "Hmm well that is suspicious, I highly doubt we can generalize this model. Let's take a step back and just use a decision tree instead"
   ]
  },
  {
   "cell_type": "code",
   "execution_count": 106,
   "metadata": {
    "collapsed": true
   },
   "outputs": [],
   "source": [
    "from sklearn import tree\n",
    "from sklearn.metrics import accuracy_score, confusion_matrix\n",
    "clf = tree.DecisionTreeClassifier()\n",
    "clf = clf.fit(x_train_res, y_train_res)\n",
    "Pred= clf.predict(x_val)"
   ]
  },
  {
   "cell_type": "code",
   "execution_count": 107,
   "metadata": {
    "collapsed": false
   },
   "outputs": [
    {
     "name": "stdout",
     "output_type": "stream",
     "text": [
      "Confusion matrix for Decision Tree Classifier with criterion gini index\n",
      "[[4181    0]\n",
      " [   0  319]]\n",
      "Test accuracy: 1.0\n"
     ]
    }
   ],
   "source": [
    "print('Confusion matrix for Decision Tree')\n",
    "print(confusion_matrix(y_val, Pred))\n",
    "print('Test accuracy: '+str(accuracy_score(y_val, Pred)))"
   ]
  },
  {
   "cell_type": "markdown",
   "metadata": {},
   "source": [
    "Wow, still 100% accuracy. Let's take one more step back and calculate a logistic regression."
   ]
  },
  {
   "cell_type": "code",
   "execution_count": 108,
   "metadata": {
    "collapsed": true
   },
   "outputs": [],
   "source": [
    "from sklearn.linear_model import LogisticRegression"
   ]
  },
  {
   "cell_type": "code",
   "execution_count": 109,
   "metadata": {
    "collapsed": true
   },
   "outputs": [],
   "source": [
    "LR = LogisticRegression()\n",
    "LR.fit(x_train, y_train)\n",
    "Pred= LR.predict(x_val)"
   ]
  },
  {
   "cell_type": "code",
   "execution_count": 110,
   "metadata": {
    "collapsed": false
   },
   "outputs": [
    {
     "name": "stdout",
     "output_type": "stream",
     "text": [
      "Confusion matrix for Decision Tree Classifier with criterion gini index\n",
      "[[4178    3]\n",
      " [   2  317]]\n",
      "Test accuracy: 0.998888888889\n"
     ]
    }
   ],
   "source": [
    "print('Confusion matrix for Log Regression')\n",
    "print(confusion_matrix(y_val, Pred))\n",
    "\n",
    "print('Test accuracy: '+str(accuracy_score(y_val, Pred)))"
   ]
  },
  {
   "cell_type": "markdown",
   "metadata": {},
   "source": [
    "## Conclusion"
   ]
  },
  {
   "cell_type": "markdown",
   "metadata": {},
   "source": [
    "After addressing the imbalanced issue it seems we may have created some useful models, although the random forest, decision tree, and logistic regression may all be overfitting the data.\n",
    "The proportion of 6 month retention is very small in comparison to the non-6 month retained users. The next step would be to monitor the results of the model(s) in real time. Another strategy may be to use an ensemble of different models."
   ]
  },
  {
   "cell_type": "code",
   "execution_count": null,
   "metadata": {
    "collapsed": true
   },
   "outputs": [],
   "source": []
  }
 ],
 "metadata": {
  "kernelspec": {
   "display_name": "Python 3",
   "language": "python",
   "name": "python3"
  },
  "language_info": {
   "codemirror_mode": {
    "name": "ipython",
    "version": 3
   },
   "file_extension": ".py",
   "mimetype": "text/x-python",
   "name": "python",
   "nbconvert_exporter": "python",
   "pygments_lexer": "ipython3",
   "version": "3.5.1"
  }
 },
 "nbformat": 4,
 "nbformat_minor": 2
}
