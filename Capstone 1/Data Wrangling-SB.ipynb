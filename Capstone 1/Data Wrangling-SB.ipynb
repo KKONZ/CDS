{
 "cells": [
  {
   "cell_type": "markdown",
   "metadata": {},
   "source": [
    "## Data Wrangling for Beethoven String Quartet midi files."
   ]
  },
  {
   "cell_type": "markdown",
   "metadata": {},
   "source": [
    "### After the midi files have been downloaded, all of the quartets with more or less than 4 voices will need to be removed. We will need the OS, time, music21, and Pandas packages, the code block below imports those packages."
   ]
  },
  {
   "cell_type": "code",
   "execution_count": null,
   "metadata": {
    "collapsed": false
   },
   "outputs": [],
   "source": [
    "from selenium import webdriver\n",
    "from selenium.webdriver.common.by import By\n",
    "from selenium.webdriver.common.keys import Keys\n",
    "import os\n",
    "import time\n",
    "from music21 import stream\n",
    "from music21 import corpus\n",
    "from music21 import midi\n",
    "from music21 import converter\n",
    "from collections import Counter\n",
    "import pandas as pd\n",
    "#import wget"
   ]
  },
  {
   "cell_type": "markdown",
   "metadata": {},
   "source": [
    "### Now that the packages have been loaded, they will need to be chopped into smaller sections. For this project the files will be split into 20 measure sequences. "
   ]
  },
  {
   "cell_type": "code",
   "execution_count": null,
   "metadata": {
    "collapsed": false,
    "scrolled": true
   },
   "outputs": [],
   "source": [
    "# TODO add logic to move non 4 voiced parts to a separate location or remove from folder\n",
    "NonFourVoices = []\n",
    "\n",
    "# Loop through the custom_data set folder to find which files do not contain exactly 4 voices.\n",
    "for filename in os.listdir(\"C:\\\\Users\\\\qh1444dd\\\\DeepBach\\\\datasets\\\\custom_dataset\"):\n",
    "    # parse each file in the directory\n",
    "    myBeeth = corpus.parse(filename)\n",
    "    # check if the # of voices equals\n",
    "    if len(myBach) != 4:\n",
    "        # append the NonFourVocies array\n",
    "        NonFourVoices.append(filename)\n",
    "        # print the file names that do not have 4 voices\n",
    "        print(filename)"
   ]
  },
  {
   "cell_type": "markdown",
   "metadata": {},
   "source": [
    "### Chop each midi file into 20 measure sequences."
   ]
  },
  {
   "cell_type": "code",
   "execution_count": null,
   "metadata": {
    "collapsed": false
   },
   "outputs": [],
   "source": [
    "# Set the number of measures per sequence into an object called SeqMeasureLen \n",
    "SeqMeasureLen = 20\n",
    "\n",
    "# Create a loop to go through all of the files in the KunstDerFuge folder\n",
    "for filename in os.listdir(\"C:\\\\Users\\\\qh1444dd\\\\Desktop\\\\KunstDerFuge2\"):\n",
    "    # Filter out files that are not .mid\n",
    "    if filename[-4:] in {'.mid'}: \n",
    "        # j corresponds to the start of the sequence, here it is set to the first measure\n",
    "        j = 1\n",
    "        # k corresponds to the end of the sequence, here it is set to the 20th measure\n",
    "        k = SeqMeasureLen\n",
    "        # capture the file name and remove the .mid file extension\n",
    "        fn = filename[:-4]\n",
    "        # path for the files that need to be parsed\n",
    "        File2Parse = \"C:\\\\Users\\\\qh1444dd\\\\Desktop\\\\KunstDerFuge2\\\\\" + filename\n",
    "        # parse the files \n",
    "        myBach = converter.parse(File2Parse)\n",
    "        # find the total length of each file\n",
    "        TotalMeasures = len(myBach.parts[0].measures(0, 5000))\n",
    "        # capture the last remaining measure\n",
    "        Mod = TotalMeasures % SeqMeasureLen\n",
    "        # select the mod measures\n",
    "        TotalNonMod = TotalMeasures - Mod\n",
    "        # find the number of 20 measure sequences\n",
    "        NumberOfSeq = int(TotalNonMod/SeqMeasureLen)\n",
    "        # for each file loop through each sequence\n",
    "        for i in range(1, NumberOfSeq + 1):\n",
    "            # subset the file into a given sequence\n",
    "            section = myBach.measures(j,k)\n",
    "            # create a file name to be used for each sequence\n",
    "            choppedSection = fn + str(\"_ChoppedSection_\") + str(i) + '.mid'\n",
    "            # path for each new file\n",
    "            path = 'C:/Users/qh1444dd/Desktop/ChoppedCleanedTracks/' + choppedSection\n",
    "            # convert stream score into a midi file\n",
    "            mf = midi.translate.streamToMidiFile(section)\n",
    "            # open file\n",
    "            mf.open(path, 'wb')\n",
    "            # write file\n",
    "            mf.write()\n",
    "            # close file\n",
    "            mf.close()\n",
    "            # add 20 measures to the start measure object\n",
    "            j += SeqMeasureLen\n",
    "            # add 20 measures to the end measure object\n",
    "            k += SeqMeasureLen\n",
    "         \n",
    "        # find the number of measures in the last chunk\n",
    "        LastChunk = TotalMeasures - Mod\n",
    "        # parse the modulous section\n",
    "        section = myBach.measures(LastChunk,TotalMeasures)\n",
    "        # create a mod file name\n",
    "        ModSection = fn + str('ChoppedSection_mod') + '.mid'\n",
    "        # create a path for the mod file\n",
    "        path = 'C:/Users/qh1444dd/Desktop/ChoppedCleanedTracks/' + ModSection\n",
    "        # convert the stream score into a midi file\n",
    "        mf = midi.translate.streamToMidiFile(section)\n",
    "        # open file\n",
    "        mf.open(path, 'wb')\n",
    "        # write file\n",
    "        mf.write()\n",
    "        # close file\n",
    "        mf.close()"
   ]
  },
  {
   "cell_type": "code",
   "execution_count": null,
   "metadata": {
    "collapsed": false
   },
   "outputs": [],
   "source": [
    "# TODO: Move this to the storytelling notebook\n",
    "Keys = []\n",
    "\n",
    "# Iterate through the custom data set directory for each of the midi files.\n",
    "for filename in os.listdir(\"C:\\\\Users\\\\qh1444dd\\\\DeepBach\\\\datasets\\\\custom_dataset\"):\n",
    "    # Check that the file in the folder is a midi file\n",
    "    if filename[-4:] in {'.mid'}: \n",
    "        # Parse the midi file\n",
    "        myBach = corpus.parse(filename)\n",
    "        # append the key array with the key from the given file\n",
    "        Keys.append(myBach.analyze('key'))"
   ]
  },
  {
   "cell_type": "code",
   "execution_count": null,
   "metadata": {
    "collapsed": false
   },
   "outputs": [],
   "source": [
    "key_counts = Counter(Keys)\n",
    "df = pd.DataFrame.from_dict(key_counts, orient='index')\n",
    "df.plot(kind='bar')"
   ]
  },
  {
   "cell_type": "code",
   "execution_count": null,
   "metadata": {
    "collapsed": true
   },
   "outputs": [],
   "source": [
    "# TODO add a loop to determine the meter of each of the segments."
   ]
  },
  {
   "cell_type": "code",
   "execution_count": null,
   "metadata": {
    "collapsed": true
   },
   "outputs": [],
   "source": []
  },
  {
   "cell_type": "code",
   "execution_count": 1,
   "metadata": {
    "collapsed": true
   },
   "outputs": [],
   "source": [
    "# not sure if the loop below is needed anymore with the music21 patch"
   ]
  },
  {
   "cell_type": "code",
   "execution_count": null,
   "metadata": {
    "collapsed": false
   },
   "outputs": [],
   "source": [
    "from music21 import midi\n",
    "from music21 import instrument\n",
    "\n",
    "s = stream.Score(id='mainScore')\n",
    "for filename in os.listdir(\"C:\\\\Users\\\\qh1444dd\\\\Desktop\\\\EdwardsBeethoven\"):\n",
    "    #print(filename) \n",
    "    os_path = \"C:\\\\Users\\\\qh1444dd\\\\Desktop\\\\EdwardsBeethoven\"\n",
    "    myBach = converter.parse(os_path  + \"\\\\\" + filename)\n",
    "    #print(myBach.analyze('key'))\n",
    "    #print(len(myBach))\n",
    "    #time.sleep(1)\n",
    "    \n",
    "    for thisInstrument in myBach[0].getElementsByClass(instrument.Instrument):\n",
    "        myBach[0].remove(thisInstrument)\n",
    "\n",
    "    for thisMetro in myBach[0].getElementsByClass(stream.tempo.MetronomeMark):\n",
    "        myBach[0].remove(thisMetro)\n",
    "\n",
    "    #for thisVoice in myBach[0].getElementsByClass(stream.Voice):\n",
    "    #    myBach[0].remove(thisVoice) \n",
    "\n",
    "    for thisInstrument in myBach[1].getElementsByClass(instrument.Instrument):\n",
    "        myBach[1].remove(thisInstrument)\n",
    "\n",
    "    for thisMetro in myBach[1].getElementsByClass(stream.tempo.MetronomeMark):\n",
    "        myBach[1].remove(thisMetro)\n",
    "\n",
    "    #for thisVoice in myBach[1].getElementsByClass(stream.Voice):\n",
    "    #    myBach[1].remove(thisVoice) \n",
    "        \n",
    "    for thisInstrument in myBach[2].getElementsByClass(instrument.Instrument):\n",
    "        myBach[2].remove(thisInstrument)\n",
    "\n",
    "    for thisMetro in myBach[2].getElementsByClass(stream.tempo.MetronomeMark):\n",
    "        myBach[2].remove(thisMetro)\n",
    "\n",
    "    #for thisVoice in myBach[2].getElementsByClass(stream.Voice):\n",
    "    #    myBach[2].remove(thisVoice) \n",
    "        \n",
    "    for thisInstrument in myBach[3].getElementsByClass(instrument.Instrument):\n",
    "        myBach[3].remove(thisInstrument)\n",
    "\n",
    "    for thisMetro in myBach[3].getElementsByClass(stream.tempo.MetronomeMark):\n",
    "        myBach[3].remove(thisMetro)\n",
    "\n",
    "    #for thisVoice in myBach[3].getElementsByClass(stream.Voice):\n",
    "    #    myBach[3].remove(thisVoice) \n",
    "    #time.sleep(1)\n",
    "    choppedSection = filename[:-4] + str(\"_StrippedInstrument\")\n",
    "    path = 'C:/Users/qh1444dd/Desktop/NoInst_Beethoven' + '/' + choppedSection + '.mid'\n",
    "    mf = midi.translate.streamToMidiFile(myBach)\n",
    "    mf.open(path, 'wb')\n",
    "    mf.write()\n",
    "    mf.close()\n",
    "    "
   ]
  },
  {
   "cell_type": "code",
   "execution_count": null,
   "metadata": {
    "collapsed": true
   },
   "outputs": [],
   "source": []
  }
 ],
 "metadata": {
  "kernelspec": {
   "display_name": "Python 3",
   "language": "python",
   "name": "python3"
  },
  "language_info": {
   "codemirror_mode": {
    "name": "ipython",
    "version": 3
   },
   "file_extension": ".py",
   "mimetype": "text/x-python",
   "name": "python",
   "nbconvert_exporter": "python",
   "pygments_lexer": "ipython3",
   "version": "3.5.1"
  }
 },
 "nbformat": 4,
 "nbformat_minor": 2
}
