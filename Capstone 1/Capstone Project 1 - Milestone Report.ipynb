{
 "cells": [
  {
   "cell_type": "markdown",
   "metadata": {},
   "source": [
    "# Capstone Project 1 - Milestone Report\n",
    "## Overview\n",
    "\n",
    "_The project milestone is an opportunity for you to practice your data story skills. You will reach the milestone when you have produced an early draft of the final Capstone Project 1 report.\n",
    "Learning Objectives_\n",
    "\n",
    "__Write a draft of your Capstone project 1 milestone report with the following included:__\n",
    "\n",
    "    1) Define the problem\n",
    "    2) Identify your client\n",
    "    3) Describe your data set, and how you cleaned/wrangled it\n",
    "    4) List other potential data sets you could use\n",
    "    5) Explain your initial findings\n",
    "    6) Share the Capstone Project 1 code and milestone report related to Github repository\n",
    "\n",
    "Prior Knowledge Recap\n",
    "\n",
    "You have proposed a project, collected a data set, wrangled and cleaned up the data, and explored it with descriptive + inferential statistics techniques.\n",
    "Key Terms & Concepts\n",
    "\n",
    "    * Client: name of the individual or business you are working with for your Capstone Project 1. The client can be real or hypothetical.\n",
    "    * Business problem: The questions or issue you are looking to answer/solve through the proposed project\n",
    "\n",
    "Submission for this chapter\n",
    "\n",
    "    1) Submit Capstone Project 1 Milestone Report\n",
    "    2) Share Capstone Project 1 related code and report on Github repository\n"
   ]
  },
  {
   "cell_type": "markdown",
   "metadata": {},
   "source": [
    "1) This Capstone Project creates a custom dataset for String Quartets and creates a Deep Neural Network to produce new String Quartet music. Also, this data will be combined with the Bach Music21 corpus to create a much larger model than what has previously been done using this technique."
   ]
  },
  {
   "cell_type": "markdown",
   "metadata": {},
   "source": [
    "2) The Client of this Project would be any company that engages in personalized video marketing. The modeling technique will be able to automate the music composition process for marketing videos. "
   ]
  },
  {
   "cell_type": "markdown",
   "metadata": {},
   "source": [
    "3) The dataset is string quartets scrapped using the Python handle for Selenium. The entire files are trainable, but ideally I would like to find a solution to chop up each of the files into small sections. This approach seemed to reduce the noise and created more compelling output than with the full files. I first hand cleaned about 100 files by hand, then used Music21 to chop up the files but was running into bugs. I fixed one of the main bugs and pushed to the main repo for the translate module in the midi class, but there are still issues with note durations created by the package. \n",
    "\n",
    "I also reached out to Ole who maintains the Mido Python package for working with midi data. He stated his package was probaby too low level and that I may have more sucess with the Pretty-Midi package.\n",
    "I am nervous about meta data with key, time, and voice assignments when chopping up files though. At least for now will use full files as the model output is still very compelling."
   ]
  },
  {
   "cell_type": "markdown",
   "metadata": {},
   "source": [
    "4) I would love to find quartet files that were for whatever reason not included in the KunstDerFuge.com website. There is another pay for service site called Classical Archives but pricing was too steep for me. Examples would be Mozart K. 173 in D Minor and all of the Bartok String Quartets."
   ]
  },
  {
   "cell_type": "markdown",
   "metadata": {},
   "source": [
    "5) Initial findings are incredibly exciting. It was a bit of a gamble to try a modeling technique designed for chorus and generalize the technique to strings. \n",
    "One concern I had was that a single voice, say a violin, could be polyphonic in that it has much more chords per voice then in a chorus. However this did not appear to be an issue."
   ]
  },
  {
   "cell_type": "code",
   "execution_count": null,
   "metadata": {
    "collapsed": true
   },
   "outputs": [],
   "source": [
    "6) The "
   ]
  }
 ],
 "metadata": {
  "kernelspec": {
   "display_name": "Python 3",
   "language": "python",
   "name": "python3"
  },
  "language_info": {
   "codemirror_mode": {
    "name": "ipython",
    "version": 3
   },
   "file_extension": ".py",
   "mimetype": "text/x-python",
   "name": "python",
   "nbconvert_exporter": "python",
   "pygments_lexer": "ipython3",
   "version": "3.6.1"
  }
 },
 "nbformat": 4,
 "nbformat_minor": 2
}
