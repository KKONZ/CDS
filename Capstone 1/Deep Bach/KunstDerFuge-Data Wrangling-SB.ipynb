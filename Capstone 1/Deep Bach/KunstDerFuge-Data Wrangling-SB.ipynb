{
 "cells": [
  {
   "cell_type": "code",
   "execution_count": null,
   "metadata": {
    "collapsed": false
   },
   "outputs": [],
   "source": [
    "from selenium import webdriver\n",
    "from selenium.webdriver.common.by import By\n",
    "from selenium.webdriver.common.keys import Keys\n",
    "import os\n",
    "import time\n",
    "from music21 import stream\n",
    "from music21 import corpus\n",
    "from music21 import midi\n",
    "from music21 import converter\n",
    "from collections import Counter\n",
    "import pandas as pd\n",
    "#import wget"
   ]
  },
  {
   "cell_type": "code",
   "execution_count": null,
   "metadata": {
    "collapsed": false
   },
   "outputs": [],
   "source": [
    "aNewLocalCorpus = corpus.corpora.LocalCorpus('newCorpus')\n",
    "aNewLocalCorpus.existsInSettings\n",
    "\n",
    "aNewLocalCorpus.addPath(\"C:\\\\Users\\\\qh1444dd\\\\KunstDerFuge\")\n",
    "aNewLocalCorpus.directoryPaths\n",
    "aNewLocalCorpus.save()\n",
    "aNewLocalCorpus.existsInSettings"
   ]
  },
  {
   "cell_type": "code",
   "execution_count": null,
   "metadata": {
    "collapsed": false
   },
   "outputs": [],
   "source": [
    "SeqMeasureLen = 20\n",
    "\n",
    "for filename in os.listdir(\"C:\\\\Users\\\\qh1444dd\\\\Desktop\\\\KunstDerFuge2\"):\n",
    "    if filename[-4:] in {'.mid'}: \n",
    "        j = 1\n",
    "        k = SeqMeasureLen\n",
    "        fn = filename[:-4]\n",
    "        #ChoppedSeq = []\n",
    "        File2Parse = \"C:\\\\Users\\\\qh1444dd\\\\Desktop\\\\KunstDerFuge2\\\\\" + filename\n",
    "        myBach = converter.parse(File2Parse)\n",
    "        TotalMeasures = len(myBach.parts[0].measures(0, 5000))\n",
    "        Mod = TotalMeasures % SeqMeasureLen\n",
    "        TotalNonMod = TotalMeasures - Mod\n",
    "        NumberOfSeq = int(TotalNonMod/SeqMeasureLen)\n",
    "        for i in range(1, NumberOfSeq + 1):\n",
    "            section = myBach.measures(j,k)\n",
    "            choppedSection = fn + str(\"_ChoppedSection_\") + str(i) + '.mid'\n",
    "            path = 'C:/Users/qh1444dd/Desktop/ChoppedCleanedTracks/' + choppedSection\n",
    "            mf = midi.translate.streamToMidiFile(section)\n",
    "            mf.open(path, 'wb')\n",
    "            mf.write()\n",
    "            mf.close()\n",
    "            j += SeqMeasureLen\n",
    "            k += SeqMeasureLen\n",
    "            \n",
    "        LastChunk = TotalMeasures - Mod\n",
    "        section = myBach.measures(LastChunk,TotalMeasures)\n",
    "        ModSection = fn + str('ChoppedSection_mod') + '.mid'\n",
    "        path = 'C:/Users/qh1444dd/Desktop/ChoppedCleanedTracks/' + ModSection\n",
    "        mf = midi.translate.streamToMidiFile(section)\n",
    "        mf.open(path, 'wb')\n",
    "        mf.write()\n",
    "        mf.close()"
   ]
  },
  {
   "cell_type": "code",
   "execution_count": null,
   "metadata": {
    "collapsed": false,
    "scrolled": true
   },
   "outputs": [],
   "source": [
    "# TODO add logic to move non 4 voiced parts to a separate location or remove from folder\n",
    "NonFourVoices = []\n",
    "\n",
    "\n",
    "for filename in os.listdir(\"C:\\\\Users\\\\qh1444dd\\\\DeepBach\\\\datasets\\\\custom_dataset\"):\n",
    "#for filename in os.listdir(\"C:\\\\Users\\\\qh1444dd\\\\Desktop\\\\ChoppedTracks\"):\n",
    "    #time.sleep(1)\n",
    "    myBeeth = corpus.parse(filename)\n",
    "    if len(myBach) != 4:\n",
    "        NonFourVoices.append(filename)\n",
    "        print(filename)"
   ]
  },
  {
   "cell_type": "code",
   "execution_count": null,
   "metadata": {
    "collapsed": false
   },
   "outputs": [],
   "source": [
    "Keys = []\n",
    "#Meter = []\n",
    "\n",
    "for filename in os.listdir(\"C:\\\\Users\\\\qh1444dd\\\\DeepBach\\\\datasets\\\\custom_dataset\"):\n",
    "    #time.sleep(1)    C:\\Users\\qh1444dd\\DeepBach\\datasets\\custom_dataset\n",
    "    if filename[-4:] in {'.mid'}: \n",
    "        #time.sleep(1)\n",
    "        #print(filename)\n",
    "        myBach = corpus.parse(filename)\n",
    "        #time.sleep(1)\n",
    "        Keys.append(myBach.analyze('key'))\n",
    "        #Meter.append"
   ]
  },
  {
   "cell_type": "code",
   "execution_count": null,
   "metadata": {
    "collapsed": false
   },
   "outputs": [],
   "source": [
    "key_counts = Counter(Keys)\n",
    "df = pd.DataFrame.from_dict(key_counts, orient='index')\n",
    "df.plot(kind='bar')"
   ]
  },
  {
   "cell_type": "code",
   "execution_count": null,
   "metadata": {
    "collapsed": true
   },
   "outputs": [],
   "source": []
  },
  {
   "cell_type": "code",
   "execution_count": null,
   "metadata": {
    "collapsed": false
   },
   "outputs": [],
   "source": [
    "from music21 import midi\n",
    "from music21 import instrument\n",
    "\n",
    "s = stream.Score(id='mainScore')\n",
    "for filename in os.listdir(\"C:\\\\Users\\\\qh1444dd\\\\Desktop\\\\EdwardsBeethoven\"):\n",
    "    #print(filename) \n",
    "    os_path = \"C:\\\\Users\\\\qh1444dd\\\\Desktop\\\\EdwardsBeethoven\"\n",
    "    myBach = converter.parse(os_path  + \"\\\\\" + filename)\n",
    "    #print(myBach.analyze('key'))\n",
    "    #print(len(myBach))\n",
    "    #time.sleep(1)\n",
    "    \n",
    "    for thisInstrument in myBach[0].getElementsByClass(instrument.Instrument):\n",
    "        myBach[0].remove(thisInstrument)\n",
    "\n",
    "    for thisMetro in myBach[0].getElementsByClass(stream.tempo.MetronomeMark):\n",
    "        myBach[0].remove(thisMetro)\n",
    "\n",
    "    #for thisVoice in myBach[0].getElementsByClass(stream.Voice):\n",
    "    #    myBach[0].remove(thisVoice) \n",
    "\n",
    "    for thisInstrument in myBach[1].getElementsByClass(instrument.Instrument):\n",
    "        myBach[1].remove(thisInstrument)\n",
    "\n",
    "    for thisMetro in myBach[1].getElementsByClass(stream.tempo.MetronomeMark):\n",
    "        myBach[1].remove(thisMetro)\n",
    "\n",
    "    #for thisVoice in myBach[1].getElementsByClass(stream.Voice):\n",
    "    #    myBach[1].remove(thisVoice) \n",
    "        \n",
    "    for thisInstrument in myBach[2].getElementsByClass(instrument.Instrument):\n",
    "        myBach[2].remove(thisInstrument)\n",
    "\n",
    "    for thisMetro in myBach[2].getElementsByClass(stream.tempo.MetronomeMark):\n",
    "        myBach[2].remove(thisMetro)\n",
    "\n",
    "    #for thisVoice in myBach[2].getElementsByClass(stream.Voice):\n",
    "    #    myBach[2].remove(thisVoice) \n",
    "        \n",
    "    for thisInstrument in myBach[3].getElementsByClass(instrument.Instrument):\n",
    "        myBach[3].remove(thisInstrument)\n",
    "\n",
    "    for thisMetro in myBach[3].getElementsByClass(stream.tempo.MetronomeMark):\n",
    "        myBach[3].remove(thisMetro)\n",
    "\n",
    "    #for thisVoice in myBach[3].getElementsByClass(stream.Voice):\n",
    "    #    myBach[3].remove(thisVoice) \n",
    "    #time.sleep(1)\n",
    "    choppedSection = filename[:-4] + str(\"_StrippedInstrument\")\n",
    "    path = 'C:/Users/qh1444dd/Desktop/NoInst_Beethoven' + '/' + choppedSection + '.mid'\n",
    "    mf = midi.translate.streamToMidiFile(myBach)\n",
    "    mf.open(path, 'wb')\n",
    "    mf.write()\n",
    "    mf.close()\n",
    "    "
   ]
  },
  {
   "cell_type": "code",
   "execution_count": null,
   "metadata": {
    "collapsed": true
   },
   "outputs": [],
   "source": []
  }
 ],
 "metadata": {
  "kernelspec": {
   "display_name": "Python 3",
   "language": "python",
   "name": "python3"
  },
  "language_info": {
   "codemirror_mode": {
    "name": "ipython",
    "version": 3
   },
   "file_extension": ".py",
   "mimetype": "text/x-python",
   "name": "python",
   "nbconvert_exporter": "python",
   "pygments_lexer": "ipython3",
   "version": "3.5.1"
  }
 },
 "nbformat": 4,
 "nbformat_minor": 2
}
