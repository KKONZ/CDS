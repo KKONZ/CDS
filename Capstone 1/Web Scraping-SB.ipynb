{
 "cells": [
  {
   "cell_type": "markdown",
   "metadata": {},
   "source": [
    "## Advanced Web Scraping for Beethoven String Quartets\n",
    "\n",
    "To use the python selenium package you will need to download the package and download a driver. I chose to use geckodriver for the Firefox web browser. Selenium is a headless browser automation tool that can be used in a few other languages such as Java and C#."
   ]
  },
  {
   "cell_type": "code",
   "execution_count": 1,
   "metadata": {
    "collapsed": false
   },
   "outputs": [],
   "source": [
    "# import the webdriver, by, and keys modules for selenium\n",
    "from selenium import webdriver\n",
    "from selenium.webdriver.common.by import By\n",
    "from selenium.webdriver.common.keys import Keys\n",
    "# import the os package\n",
    "import os\n",
    "# import the time package\n",
    "import time\n",
    "# import the pandas package\n",
    "import pandas as pd"
   ]
  },
  {
   "cell_type": "markdown",
   "metadata": {},
   "source": [
    "The preferences can be adjusted in selenium. Below we change the path that the files are downloaded to and set that prompts to save are disabled"
   ]
  },
  {
   "cell_type": "code",
   "execution_count": 3,
   "metadata": {
    "collapsed": false
   },
   "outputs": [],
   "source": [
    "firefox_profile = webdriver.FirefoxProfile()\n",
    "path = \"C:/Users/qh1444dd/KunstDerFuge\"\n",
    "firefox_profile.set_preference(\"browser.helperApps.neverAsk.saveToDisk\", \"audio/midi\")\n",
    "firefox_profile.set_preference(\"browser.download.folderList\", 2)\n",
    "firefox_profile.set_preference(\"browser.download.dir\", \"C:\\\\Users\\\\qh1444dd\\\\KunstDerFuge\")\n",
    "firefox_profile.set_preference(\"browser.download.manager.showWhenStarting\",False)"
   ]
  },
  {
   "cell_type": "markdown",
   "metadata": {},
   "source": [
    "The code block below launches the firefox browser and opens the kusntderfuge.com authentication website "
   ]
  },
  {
   "cell_type": "code",
   "execution_count": 4,
   "metadata": {
    "collapsed": false
   },
   "outputs": [],
   "source": [
    "driver = webdriver.Firefox(firefox_profile=firefox_profile)\n",
    "driver.get('http://www.kunstderfuge.com/-/db/log-in.asp')"
   ]
  },
  {
   "cell_type": "markdown",
   "metadata": {},
   "source": [
    "The code below authenticates into the app. To obtain credentials you will need to subscribe for their services."
   ]
  },
  {
   "cell_type": "code",
   "execution_count": 6,
   "metadata": {
    "collapsed": true
   },
   "outputs": [],
   "source": [
    "username = driver.find_element_by_id(\"Email\")\n",
    "\n",
    "username.send_keys(\"xxxx\") #Enter username given by kunst der fuge after subscription\n",
    "password = driver.find_element_by_id(\"Password\")\n",
    "password.send_keys(\"xxxx\") # Enter password\n",
    "\n",
    "driver.find_element_by_name(\"Submit\").click()"
   ]
  },
  {
   "cell_type": "markdown",
   "metadata": {},
   "source": [
    "Next find all the midi elements"
   ]
  },
  {
   "cell_type": "code",
   "execution_count": 7,
   "metadata": {
    "collapsed": true
   },
   "outputs": [],
   "source": [
    "MIDI = driver.find_elements_by_xpath(\"//*[text()='MIDI']\")"
   ]
  },
  {
   "cell_type": "markdown",
   "metadata": {},
   "source": [
    "Extract the links from the midi related elements"
   ]
  },
  {
   "cell_type": "code",
   "execution_count": 8,
   "metadata": {
    "collapsed": true
   },
   "outputs": [],
   "source": [
    "for ii in MIDI:\n",
    "    link = ii.get_attribute('href')\n",
    "#time.sleep(4)"
   ]
  },
  {
   "cell_type": "markdown",
   "metadata": {},
   "source": [
    "Print the link for the midi data"
   ]
  },
  {
   "cell_type": "code",
   "execution_count": 9,
   "metadata": {
    "collapsed": false
   },
   "outputs": [
    {
     "name": "stdout",
     "output_type": "stream",
     "text": [
      "http://www.kunstderfuge.com/midi.htm\n"
     ]
    }
   ],
   "source": [
    "print(link)"
   ]
  },
  {
   "cell_type": "markdown",
   "metadata": {},
   "source": [
    "Open the midi link"
   ]
  },
  {
   "cell_type": "code",
   "execution_count": 10,
   "metadata": {
    "collapsed": false
   },
   "outputs": [],
   "source": [
    "driver.get(link)\n",
    "#time.sleep(7)"
   ]
  },
  {
   "cell_type": "markdown",
   "metadata": {},
   "source": [
    "The quickest link to the Beethoven quartets is to find the elements by xpath 'Chamber music'"
   ]
  },
  {
   "cell_type": "code",
   "execution_count": 11,
   "metadata": {
    "collapsed": true
   },
   "outputs": [],
   "source": [
    "BeethovenChamber = driver.find_elements_by_xpath(\"//*[text()='Chamber music']\")"
   ]
  },
  {
   "cell_type": "markdown",
   "metadata": {},
   "source": [
    "Loop through the BeethovenChamber object and get the hyper link"
   ]
  },
  {
   "cell_type": "code",
   "execution_count": 12,
   "metadata": {
    "collapsed": false
   },
   "outputs": [],
   "source": [
    "for ii in BeethovenChamber:\n",
    "    link = ii.get_attribute('href')\n",
    "#time.sleep(4)"
   ]
  },
  {
   "cell_type": "markdown",
   "metadata": {},
   "source": [
    "Print the link to the chamber music"
   ]
  },
  {
   "cell_type": "code",
   "execution_count": 13,
   "metadata": {
    "collapsed": false
   },
   "outputs": [
    {
     "name": "stdout",
     "output_type": "stream",
     "text": [
      "http://www.kunstderfuge.com/beethoven/chamber.htm\n"
     ]
    }
   ],
   "source": [
    "print(link)"
   ]
  },
  {
   "cell_type": "markdown",
   "metadata": {},
   "source": [
    "Naviagte to the link site"
   ]
  },
  {
   "cell_type": "code",
   "execution_count": 14,
   "metadata": {
    "collapsed": true
   },
   "outputs": [],
   "source": [
    "driver.get(link)\n",
    "#time.sleep(7)"
   ]
  },
  {
   "cell_type": "markdown",
   "metadata": {},
   "source": [
    "Extract quartet midi files for Beethoven"
   ]
  },
  {
   "cell_type": "code",
   "execution_count": 15,
   "metadata": {
    "collapsed": false
   },
   "outputs": [],
   "source": [
    "elems = driver.find_elements_by_xpath(\"//a[contains(@href, 'quartet')]\")\n",
    "for elem in elems:\n",
    "    elem.click()\n",
    "    time.sleep(3)"
   ]
  }
 ],
 "metadata": {
  "kernelspec": {
   "display_name": "Python 3",
   "language": "python",
   "name": "python3"
  },
  "language_info": {
   "codemirror_mode": {
    "name": "ipython",
    "version": 3
   },
   "file_extension": ".py",
   "mimetype": "text/x-python",
   "name": "python",
   "nbconvert_exporter": "python",
   "pygments_lexer": "ipython3",
   "version": "3.5.1"
  }
 },
 "nbformat": 4,
 "nbformat_minor": 2
}
