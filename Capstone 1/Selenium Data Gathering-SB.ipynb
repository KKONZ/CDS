{
 "cells": [
  {
   "cell_type": "code",
   "execution_count": 1,
   "metadata": {
    "collapsed": false
   },
   "outputs": [],
   "source": [
    "from selenium import webdriver\n",
    "from selenium.webdriver.common.by import By\n",
    "from selenium.webdriver.common.keys import Keys\n",
    "import os\n",
    "import time\n",
    "from music21 import stream\n",
    "from music21 import corpus\n",
    "from music21 import converter\n",
    "from collections import Counter\n",
    "import pandas as pd"
   ]
  },
  {
   "cell_type": "code",
   "execution_count": 3,
   "metadata": {
    "collapsed": false
   },
   "outputs": [],
   "source": [
    "firefox_profile = webdriver.FirefoxProfile()\n",
    "path = \"C:/Users/qh1444dd/KunstDerFuge\"\n",
    "firefox_profile.set_preference(\"browser.helperApps.neverAsk.saveToDisk\", \"audio/midi\")\n",
    "firefox_profile.set_preference(\"browser.download.folderList\", 2)\n",
    "firefox_profile.set_preference(\"browser.download.dir\", \"C:\\\\Users\\\\qh1444dd\\\\KunstDerFuge\")\n",
    "firefox_profile.set_preference(\"browser.download.manager.showWhenStarting\",False)"
   ]
  },
  {
   "cell_type": "code",
   "execution_count": 4,
   "metadata": {
    "collapsed": false
   },
   "outputs": [],
   "source": [
    "driver = webdriver.Firefox(firefox_profile=firefox_profile)\n",
    "driver.get('http://www.kunstderfuge.com/-/db/log-in.asp')"
   ]
  },
  {
   "cell_type": "code",
   "execution_count": 6,
   "metadata": {
    "collapsed": true
   },
   "outputs": [],
   "source": [
    "username = driver.find_element_by_id(\"Email\")\n",
    "\n",
    "username.send_keys(\"xxxx\") #Enter username given by kunst der fuge after subscription\n",
    "password = driver.find_element_by_id(\"Password\")\n",
    "password.send_keys(\"xxxx\") # Enter password\n",
    "\n",
    "driver.find_element_by_name(\"Submit\").click()"
   ]
  },
  {
   "cell_type": "code",
   "execution_count": 7,
   "metadata": {
    "collapsed": true
   },
   "outputs": [],
   "source": [
    "MIDI = driver.find_elements_by_xpath(\"//*[text()='MIDI']\")"
   ]
  },
  {
   "cell_type": "code",
   "execution_count": 8,
   "metadata": {
    "collapsed": true
   },
   "outputs": [],
   "source": [
    "for ii in MIDI:\n",
    "    link = ii.get_attribute('href')\n",
    "#time.sleep(4)"
   ]
  },
  {
   "cell_type": "code",
   "execution_count": 9,
   "metadata": {
    "collapsed": false
   },
   "outputs": [
    {
     "name": "stdout",
     "output_type": "stream",
     "text": [
      "http://www.kunstderfuge.com/midi.htm\n"
     ]
    }
   ],
   "source": [
    "print(link)"
   ]
  },
  {
   "cell_type": "code",
   "execution_count": 10,
   "metadata": {
    "collapsed": false
   },
   "outputs": [],
   "source": [
    "driver.get(link)\n",
    "#time.sleep(7)"
   ]
  },
  {
   "cell_type": "code",
   "execution_count": 11,
   "metadata": {
    "collapsed": true
   },
   "outputs": [],
   "source": [
    "BeethovenChamber = driver.find_elements_by_xpath(\"//*[text()='Chamber music']\")"
   ]
  },
  {
   "cell_type": "code",
   "execution_count": 12,
   "metadata": {
    "collapsed": false
   },
   "outputs": [],
   "source": [
    "for ii in BeethovenChamber:\n",
    "    link = ii.get_attribute('href')\n",
    "#time.sleep(4)"
   ]
  },
  {
   "cell_type": "code",
   "execution_count": 13,
   "metadata": {
    "collapsed": false
   },
   "outputs": [
    {
     "name": "stdout",
     "output_type": "stream",
     "text": [
      "http://www.kunstderfuge.com/beethoven/chamber.htm\n"
     ]
    }
   ],
   "source": [
    "print(link)"
   ]
  },
  {
   "cell_type": "code",
   "execution_count": 14,
   "metadata": {
    "collapsed": true
   },
   "outputs": [],
   "source": [
    "driver.get(link)\n",
    "#time.sleep(7)"
   ]
  },
  {
   "cell_type": "code",
   "execution_count": 15,
   "metadata": {
    "collapsed": false
   },
   "outputs": [],
   "source": [
    "elems = driver.find_elements_by_xpath(\"//a[contains(@href, 'quartet')]\")\n",
    "for elem in elems:\n",
    "    elem.click()\n",
    "    time.sleep(3)"
   ]
  }
 ],
 "metadata": {
  "kernelspec": {
   "display_name": "Python 3",
   "language": "python",
   "name": "python3"
  },
  "language_info": {
   "codemirror_mode": {
    "name": "ipython",
    "version": 3
   },
   "file_extension": ".py",
   "mimetype": "text/x-python",
   "name": "python",
   "nbconvert_exporter": "python",
   "pygments_lexer": "ipython3",
   "version": "3.5.1"
  }
 },
 "nbformat": 4,
 "nbformat_minor": 2
}
