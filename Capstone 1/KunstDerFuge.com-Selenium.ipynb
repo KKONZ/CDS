{
 "cells": [
  {
   "cell_type": "markdown",
   "metadata": {},
   "source": [
    "## Advanced Web Scraping for String Quartets\n",
    "\n",
    "In this notebook, midi files from Kunst Der Fuge will be scraped with the python wrapper for selenium. Kunst Der Fuge offers midi files. If you plan to download more than 5 files in a given day then you have to pay to get the files. Since authentication is required, a robust medium like Selenium is needed.\n",
    "To use the python selenium package you will need to download the package and download a driver. I chose to use geckodriver for the Firefox web browser. Selenium is a headless browser automation tool that can be used in a few other languages such as Java and C#."
   ]
  },
  {
   "cell_type": "code",
   "execution_count": 1,
   "metadata": {
    "collapsed": false
   },
   "outputs": [],
   "source": [
    "#import the appropriate packages\n",
    "from selenium import webdriver\n",
    "from selenium.webdriver.common.by import By\n",
    "from selenium.webdriver.common.keys import Keys"
   ]
  },
  {
   "cell_type": "markdown",
   "metadata": {},
   "source": [
    "The preferences can be adjusted in selenium. Below we change the path that the files are downloaded to and set that prompts to save are disabled and launch the Firefox browser."
   ]
  },
  {
   "cell_type": "code",
   "execution_count": 36,
   "metadata": {
    "collapsed": false
   },
   "outputs": [],
   "source": [
    "## Set up the selenium browser\n",
    "\n",
    "# Create a preference object for the Firefox browser\n",
    "firefox_profile = webdriver.FirefoxProfile()\n",
    "# Set the save to disk prompt to never ask, otherwise the files won't download\n",
    "firefox_profile.set_preference(\"browser.helperApps.neverAsk.saveToDisk\", \"audio/midi\")\n",
    "# Set the download path\n",
    "firefox_profile.set_preference(\"browser.download.folderList\", 2)\n",
    "firefox_profile.set_preference(\"browser.download.dir\", \"<your download path>\")\n",
    "# Set the download to occur in the background\n",
    "firefox_profile.set_preference(\"browser.download.manager.showWhenStarting\",False)\n",
    "# Create a firefox browser object\n",
    "driver = webdriver.Firefox(firefox_profile=firefox_profile)\n",
    "# Navigate to the login screen\n",
    "driver.get('http://www.kunstderfuge.com/-/db/log-in.asp')"
   ]
  },
  {
   "cell_type": "markdown",
   "metadata": {},
   "source": [
    "Next we will need to authenticate into the site to get access to the desired files."
   ]
  },
  {
   "cell_type": "code",
   "execution_count": 38,
   "metadata": {
    "collapsed": true
   },
   "outputs": [],
   "source": [
    "## Authenticate into the Kunst Der Fuge site\n",
    "\n",
    "# Find the email element\n",
    "username = driver.find_element_by_id(\"Email\")\n",
    "# Send your email value to the email field\n",
    "username.send_keys(\"<your email>\")\n",
    "# Find the password element\n",
    "password = driver.find_element_by_id(\"Password\")\n",
    "password.send_keys(\"<your password>\")\n",
    "# Click the submit button\n",
    "driver.find_element_by_name(\"Submit\").click()"
   ]
  },
  {
   "cell_type": "markdown",
   "metadata": {},
   "source": [
    "Next we will need to navigate to the section of the website that contains the midi files. Note, that if I wasn't concerned with saving money I would have opted to pay a bit more and download the whole database.\n",
    "Since I know how to scrape these files, I will just do that. This way I can just pull the files I am interested in."
   ]
  },
  {
   "cell_type": "code",
   "execution_count": 39,
   "metadata": {
    "collapsed": true
   },
   "outputs": [],
   "source": [
    "# create a midi object to find all the midi related xpaths\n",
    "MIDI = driver.find_elements_by_xpath(\"//*[text()='MIDI']\")\n",
    "# loop through the site to find relevant xpaths\n",
    "for ii in MIDI:\n",
    "    link = ii.get_attribute('href')\n",
    "# Next navigate to the midi section of the site\n",
    "driver.get(link)"
   ]
  },
  {
   "cell_type": "markdown",
   "metadata": {},
   "source": [
    "The first composer that we will aquire midi tracks for will be __Beethoven__. Since he is a popular composer, his links show on the main midi page. We will just need to navigate to the chamber music section of the site"
   ]
  },
  {
   "cell_type": "code",
   "execution_count": 10,
   "metadata": {
    "collapsed": true
   },
   "outputs": [],
   "source": [
    "# Find the chamber music xpath \n",
    "BeethovenChamber = driver.find_elements_by_xpath(\"//*[text()='Chamber music']\")\n",
    "# Navigate through the site to find the relevant link(s)\n",
    "for ii in BeethovenChamber:\n",
    "    link = ii.get_attribute('href')\n",
    "# navigate to the Beethoven chamber music\n",
    "driver.get(link)\n",
    "# Next find all of the quartet related xpaths and store in the elems object\n",
    "elems = driver.find_elements_by_xpath(\"//a[contains(@href, 'quartet')]\")\n",
    "# Finally loop through the elems object and click on each of the download links.\n",
    "for elem in elems:\n",
    "    elem.click()\n",
    "    time.sleep(3)\n"
   ]
  },
  {
   "cell_type": "markdown",
   "metadata": {
    "collapsed": false
   },
   "source": [
    "Next we will download the desired midi tracks from __Mozart__."
   ]
  },
  {
   "cell_type": "code",
   "execution_count": 10,
   "metadata": {
    "collapsed": true
   },
   "outputs": [],
   "source": [
    "# Find the Mozart related xpaths\n",
    "Mozart = driver.find_elements_by_xpath(\"//*[text()='Mozart']\")\n",
    "# Loop through the Mozart object to get the relevant links\n",
    "for ii in Mozart:\n",
    "    link = ii.get_attribute('href')\n",
    "# Navigate to the Mozart midi page\n",
    "driver.get(link)"
   ]
  },
  {
   "cell_type": "markdown",
   "metadata": {
    "collapsed": false
   },
   "source": [
    "It did take a bit of manual inspection to find which Mozart files I could use. The modeling technique I am going to use requires the files to have 4 voices, so we just want the quartet files. Unlike Beethoven, the word quartet is not included in the actual download tags."
   ]
  },
  {
   "cell_type": "code",
   "execution_count": 17,
   "metadata": {
    "collapsed": true
   },
   "outputs": [],
   "source": [
    "# Find the harfesoft copy writted files, these are for string quartets\n",
    "elems = driver.find_elements_by_xpath(\"//a[contains(@href, 'harfesoft')]\")\n",
    "# Loop through the links and click each one to download\n",
    "for elem in elems:\n",
    "    elem.click()\n",
    "    time.sleep(3)\n",
    "    \n",
    "# Find the mutopia copy writted files, these are for string quartets\n",
    "elems = driver.find_elements_by_xpath(\"//a[contains(@href, 'mutopia')]\")\n",
    "# Loop through the links and click each one to download\n",
    "for elem in elems:\n",
    "    elem.click()\n",
    "    time.sleep(3)"
   ]
  },
  {
   "cell_type": "markdown",
   "metadata": {},
   "source": [
    "The format is generally te same for the rest of the composers. Below we gather tracks from Schubert, Shostakovich, Brahms, Dvořák, and Haydn."
   ]
  },
  {
   "cell_type": "code",
   "execution_count": 13,
   "metadata": {
    "collapsed": true
   },
   "outputs": [],
   "source": [
    "## Schubert\n",
    "# Find the Schubert related xpaths\n",
    "Schubert = driver.find_elements_by_xpath(\"//*[text()='Schubert']\")\n",
    "# Loop through the links and click each one to download\n",
    "for ii in Schubert:\n",
    "    link = ii.get_attribute('href')\n",
    "# Navigate to the Schubert midi page\n",
    "driver.get(link)\n",
    "# Here we only need to look for xpaths within the Schubert page that contain strings\n",
    "elems = driver.find_elements_by_xpath(\"//a[contains(@href, 'strings')]\")\n",
    "# Loop through the links and click each one to download\n",
    "for elem in elems:\n",
    "    elem.click()\n",
    "    time.sleep(3)\n",
    "    \n",
    "## Shostakovich\n",
    "# gather xpaths for Shostakovich\n",
    "Shostakovich = driver.find_elements_by_xpath(\"//*[text()='Shostakovich']\")\n",
    "# get the link for the Shostakovich site\n",
    "for ii in Shostakovich:\n",
    "    link = ii.get_attribute('href')\n",
    "# navigate to the Shostakovich page\n",
    "driver.get(link)\n",
    "# Find the string quartet xpaths\n",
    "elems = driver.find_elements_by_xpath(\"//a[contains(@href, 'string')]\")\n",
    "# Click on the links to download the Shostakovich files\n",
    "for elem in elems:\n",
    "    elem.click()\n",
    "    time.sleep(3)\n",
    "\n",
    "## Brahms\n",
    "# gather xpaths for Brahms\n",
    "Brahms = driver.find_elements_by_xpath(\"//*[text()='Brahms']\")\n",
    "# get the link for the Brahms page\n",
    "for ii in Brahms:\n",
    "    link = ii.get_attribute('href')\n",
    "# navigate to the Brahms page\n",
    "driver.get(link)\n",
    "# Find the download links for quartets\n",
    "elems = driver.find_elements_by_xpath(\"//a[contains(@href, 'quartet')]\")\n",
    "# Click and download the midi files\n",
    "for elem in elems:\n",
    "    elem.click()\n",
    "    time.sleep(3)\n",
    "\n",
    "## Dvorak\n",
    "# gather xpaths for Dvorak\n",
    "Dvorak = driver.find_elements_by_xpath(\"//*[text()='Dvořák']\")\n",
    "# get the link for the Dvorak site\n",
    "for ii in Dvorak:\n",
    "    link = ii.get_attribute('href')\n",
    "# navigate to the Dvorak page\n",
    "driver.get(link)\n",
    "# find the Dvorak quartet xpaths\n",
    "elems = driver.find_elements_by_xpath(\"//a[contains(@href, 'quartet')]\")\n",
    "# Download the Dvorak string quartet files\n",
    "for elem in elems:\n",
    "    elem.click()\n",
    "    time.sleep(3)\n",
    "\n",
    "## Haydn\n",
    "# gather xpaths for Haydn\n",
    "Haydn = driver.find_elements_by_xpath(\"//*[text()='Haydn']\")\n",
    "# get the link for the Haydn site\n",
    "for ii in Haydn:\n",
    "    link = ii.get_attribute('href')\n",
    "# Download the Haydn string quartet files\n",
    "driver.get(link)\n",
    "# find the Haydn quartet xpaths\n",
    "quartet = driver.find_elements_by_xpath(\"//a[contains(@href, 'quartet')]\")\n",
    "# Download the Haydn string quartet files\n",
    "for elem in quartet:\n",
    "    elem.click()\n",
    "    time.sleep(3)"
   ]
  }
 ],
 "metadata": {
  "kernelspec": {
   "display_name": "Python 3",
   "language": "python",
   "name": "python3"
  },
  "language_info": {
   "codemirror_mode": {
    "name": "ipython",
    "version": 3
   },
   "file_extension": ".py",
   "mimetype": "text/x-python",
   "name": "python",
   "nbconvert_exporter": "python",
   "pygments_lexer": "ipython3",
   "version": "3.5.1"
  }
 },
 "nbformat": 4,
 "nbformat_minor": 2
}
