{
 "cells": [
  {
   "cell_type": "markdown",
   "metadata": {},
   "source": [
    "### Inferential Statistics\n",
    "Overview\n",
    "\n",
    "This unit teaches the basics of statistical inference, hypothesis testing, regression and correlation and their applications such as in A/B testing. Descriptive statistics are useful for discovering and communicating insights from data. Inferential statistics are useful for drawing conclusions and predicting outcomes. In this course, the focus is on inferential statistics. For students unfamiliar or rusty with the basics of probability and descriptive statistics, Khan Academy’s probability track is a good refresher. \n",
    "Learning Objectives\n",
    "\n",
    "    Understand the fundamentals of statistical inference and hypothesis testing\n",
    "    Perform hypothesis testing for numeric and categorical data to identify statistical significance\n",
    "    Understand how hypothesis testing is applied in real-world applications such as A/B testing\n",
    "\n",
    "Prior Learning Recap\n",
    "\n",
    "    Be familiar with basic probability and descriptive statistics\n",
    "    For a refresher use Khan Academy’s Probability track\n",
    "    Keep your Capstone project 1 cleaned and wrangled data ready for use in this unit\n",
    "\n",
    "Key Terms & Concepts\n",
    "\n",
    "    Hypothesis: An assumption made about the world that can be tested using the data\n",
    "    Statistical Inference: A branch of statistics dedicated to drawing conclusions about the world using smaller data samples.\n",
    "    Confidence Intervals: An interval estimate used to express the degree of uncertainty associated with a sample statistic. \n",
    "    Statistical Significance: An estimate of how likely an event might occur randomly - the smaller the number, the more likely that the observed event has some kind of real-world importance.\n",
    "\n",
    "Submissions for this unit\n",
    "\n",
    "    Exploratory Data Analysis Project\n",
    "    Short report on Applying inferential statistics methods to your Capstone Project 1 data\n"
   ]
  },
  {
   "cell_type": "markdown",
   "metadata": {},
   "source": [
    "### For this project, I will compare the mean note durations between Bach Chorales and Various Classical and Romantic String Quartet compositions to test if there is statistically significant evidence."
   ]
  },
  {
   "cell_type": "markdown",
   "metadata": {},
   "source": [
    "### Read in Bach data for the first time, replace the path to what ever you prefer"
   ]
  },
  {
   "cell_type": "markdown",
   "metadata": {},
   "source": [
    "Code below gathers the data, skip to data cell if data is already in directory. "
   ]
  },
  {
   "cell_type": "code",
   "execution_count": 1,
   "metadata": {},
   "outputs": [
    {
     "name": "stderr",
     "output_type": "stream",
     "text": [
      "C:\\Users\\qh1444dd\\AppData\\Local\\Continuum\\Anaconda3\\lib\\site-packages\\ipykernel\\__main__.py:31: Music21DeprecationWarning: Note._getPs was deprecated on May 2014 and will disappear at or after May 2016. use pitch.ps instead\n"
     ]
    }
   ],
   "source": [
    "from music21 import *\n",
    "from collections import Counter\n",
    "import pandas as pd\n",
    "import os\n",
    "\n",
    "s = 'chord'\n",
    "\n",
    "# It would be interesting to count the keys in the corpus\n",
    "Keys = []\n",
    "TimeSign = []\n",
    "\n",
    "# Note Lists\n",
    "NoteDuration = []\n",
    "NotePitches = []\n",
    "NoteStrPitches = []\n",
    "NoteFreq = []\n",
    "NoteAndDuration= []\n",
    "path = 'xxxx' \n",
    "# REPLACE PATH\n",
    "for filename in os.listdir(path):\n",
    "    midi = converter.parse(path + filename)\n",
    "    key = midi.analyze('key')\n",
    "    Keys.append(key)\n",
    "    time = midi.recurse().getElementsByClass(meter.TimeSignature)[0]\n",
    "    TimeSign.append(time)\n",
    "    for n in midi.flat.notes:\n",
    "        if not (\"chord\") in str(n):\n",
    "            NoteDuration.append(n.beatStrength)\n",
    "            NotePitches.append(n)\n",
    "            NoteStrPitches.append(str(n))\n",
    "            NoteFreq.append(n.ps)\n",
    "            NoteAndDuration.append([str(n), str(n.beatStrength)])\n",
    "    else:\n",
    "        pass"
   ]
  },
  {
   "cell_type": "code",
   "execution_count": 2,
   "metadata": {
    "collapsed": true
   },
   "outputs": [],
   "source": [
    "PitchData = pd.DataFrame.from_dict({'NoteDuration': NoteDuration,\n",
    "                          'NotePitches': NotePitches,\n",
    "                          'NoteFreq': NoteFreq,\n",
    "                          'NoteAndDuration': NoteAndDuration})"
   ]
  },
  {
   "cell_type": "code",
   "execution_count": 3,
   "metadata": {
    "collapsed": true
   },
   "outputs": [],
   "source": [
    "PitchData['str_NoteAndDuration'] = PitchData.NoteAndDuration.apply(', '.join)"
   ]
  },
  {
   "cell_type": "code",
   "execution_count": 4,
   "metadata": {
    "collapsed": true
   },
   "outputs": [],
   "source": [
    "PitchData.to_csv('PitchDataBach.csv')"
   ]
  },
  {
   "cell_type": "code",
   "execution_count": 1,
   "metadata": {
    "collapsed": true
   },
   "outputs": [],
   "source": [
    "import pandas as pd\n",
    "BachPD = pd.read_csv('PitchDataBach.csv')"
   ]
  },
  {
   "cell_type": "code",
   "execution_count": 2,
   "metadata": {},
   "outputs": [
    {
     "data": {
      "text/html": [
       "<div>\n",
       "<style>\n",
       "    .dataframe thead tr:only-child th {\n",
       "        text-align: right;\n",
       "    }\n",
       "\n",
       "    .dataframe thead th {\n",
       "        text-align: left;\n",
       "    }\n",
       "\n",
       "    .dataframe tbody tr th {\n",
       "        vertical-align: top;\n",
       "    }\n",
       "</style>\n",
       "<table border=\"1\" class=\"dataframe\">\n",
       "  <thead>\n",
       "    <tr style=\"text-align: right;\">\n",
       "      <th></th>\n",
       "      <th>Unnamed: 0</th>\n",
       "      <th>NoteAndDuration</th>\n",
       "      <th>NoteDuration</th>\n",
       "      <th>NoteFreq</th>\n",
       "      <th>NotePitches</th>\n",
       "      <th>str_NoteAndDuration</th>\n",
       "    </tr>\n",
       "  </thead>\n",
       "  <tbody>\n",
       "    <tr>\n",
       "      <th>0</th>\n",
       "      <td>0</td>\n",
       "      <td>['&lt;music21.note.Note F&gt;', '0.25']</td>\n",
       "      <td>0.25</td>\n",
       "      <td>65.0</td>\n",
       "      <td>&lt;music21.note.Note F&gt;</td>\n",
       "      <td>&lt;music21.note.Note F&gt;, 0.25</td>\n",
       "    </tr>\n",
       "    <tr>\n",
       "      <th>1</th>\n",
       "      <td>1</td>\n",
       "      <td>['&lt;music21.note.Note F&gt;', '0.25']</td>\n",
       "      <td>0.25</td>\n",
       "      <td>65.0</td>\n",
       "      <td>&lt;music21.note.Note F&gt;</td>\n",
       "      <td>&lt;music21.note.Note F&gt;, 0.25</td>\n",
       "    </tr>\n",
       "    <tr>\n",
       "      <th>2</th>\n",
       "      <td>2</td>\n",
       "      <td>['&lt;music21.note.Note C&gt;', '0.25']</td>\n",
       "      <td>0.25</td>\n",
       "      <td>60.0</td>\n",
       "      <td>&lt;music21.note.Note C&gt;</td>\n",
       "      <td>&lt;music21.note.Note C&gt;, 0.25</td>\n",
       "    </tr>\n",
       "    <tr>\n",
       "      <th>3</th>\n",
       "      <td>3</td>\n",
       "      <td>['&lt;music21.note.Note A&gt;', '0.25']</td>\n",
       "      <td>0.25</td>\n",
       "      <td>57.0</td>\n",
       "      <td>&lt;music21.note.Note A&gt;</td>\n",
       "      <td>&lt;music21.note.Note A&gt;, 0.25</td>\n",
       "    </tr>\n",
       "    <tr>\n",
       "      <th>4</th>\n",
       "      <td>4</td>\n",
       "      <td>['&lt;music21.note.Note F&gt;', '0.25']</td>\n",
       "      <td>0.25</td>\n",
       "      <td>53.0</td>\n",
       "      <td>&lt;music21.note.Note F&gt;</td>\n",
       "      <td>&lt;music21.note.Note F&gt;, 0.25</td>\n",
       "    </tr>\n",
       "  </tbody>\n",
       "</table>\n",
       "</div>"
      ],
      "text/plain": [
       "   Unnamed: 0                    NoteAndDuration  NoteDuration  NoteFreq  \\\n",
       "0           0  ['<music21.note.Note F>', '0.25']          0.25      65.0   \n",
       "1           1  ['<music21.note.Note F>', '0.25']          0.25      65.0   \n",
       "2           2  ['<music21.note.Note C>', '0.25']          0.25      60.0   \n",
       "3           3  ['<music21.note.Note A>', '0.25']          0.25      57.0   \n",
       "4           4  ['<music21.note.Note F>', '0.25']          0.25      53.0   \n",
       "\n",
       "             NotePitches          str_NoteAndDuration  \n",
       "0  <music21.note.Note F>  <music21.note.Note F>, 0.25  \n",
       "1  <music21.note.Note F>  <music21.note.Note F>, 0.25  \n",
       "2  <music21.note.Note C>  <music21.note.Note C>, 0.25  \n",
       "3  <music21.note.Note A>  <music21.note.Note A>, 0.25  \n",
       "4  <music21.note.Note F>  <music21.note.Note F>, 0.25  "
      ]
     },
     "execution_count": 2,
     "metadata": {},
     "output_type": "execute_result"
    }
   ],
   "source": [
    "BachPD.head()"
   ]
  },
  {
   "cell_type": "code",
   "execution_count": 3,
   "metadata": {
    "collapsed": true
   },
   "outputs": [],
   "source": [
    "StringsPD = pd.read_csv(\"PitchData.csv\")"
   ]
  },
  {
   "cell_type": "code",
   "execution_count": 4,
   "metadata": {},
   "outputs": [
    {
     "data": {
      "text/html": [
       "<div>\n",
       "<style>\n",
       "    .dataframe thead tr:only-child th {\n",
       "        text-align: right;\n",
       "    }\n",
       "\n",
       "    .dataframe thead th {\n",
       "        text-align: left;\n",
       "    }\n",
       "\n",
       "    .dataframe tbody tr th {\n",
       "        vertical-align: top;\n",
       "    }\n",
       "</style>\n",
       "<table border=\"1\" class=\"dataframe\">\n",
       "  <thead>\n",
       "    <tr style=\"text-align: right;\">\n",
       "      <th></th>\n",
       "      <th>NoteAndDuration</th>\n",
       "      <th>NoteDuration</th>\n",
       "      <th>NoteFreq</th>\n",
       "      <th>NotePitches</th>\n",
       "      <th>str_NoteAndDuration</th>\n",
       "    </tr>\n",
       "  </thead>\n",
       "  <tbody>\n",
       "    <tr>\n",
       "      <th>0</th>\n",
       "      <td>['&lt;music21.note.Note B-&gt;', '1.0']</td>\n",
       "      <td>1.000</td>\n",
       "      <td>58</td>\n",
       "      <td>&lt;music21.note.Note B-&gt;</td>\n",
       "      <td>&lt;music21.note.Note B-&gt;, 1.0</td>\n",
       "    </tr>\n",
       "    <tr>\n",
       "      <th>1</th>\n",
       "      <td>['&lt;music21.note.Note B-&gt;', '1.0']</td>\n",
       "      <td>1.000</td>\n",
       "      <td>58</td>\n",
       "      <td>&lt;music21.note.Note B-&gt;</td>\n",
       "      <td>&lt;music21.note.Note B-&gt;, 1.0</td>\n",
       "    </tr>\n",
       "    <tr>\n",
       "      <th>2</th>\n",
       "      <td>['&lt;music21.note.Note B-&gt;', '1.0']</td>\n",
       "      <td>1.000</td>\n",
       "      <td>58</td>\n",
       "      <td>&lt;music21.note.Note B-&gt;</td>\n",
       "      <td>&lt;music21.note.Note B-&gt;, 1.0</td>\n",
       "    </tr>\n",
       "    <tr>\n",
       "      <th>3</th>\n",
       "      <td>['&lt;music21.note.Note B-&gt;', '1.0']</td>\n",
       "      <td>1.000</td>\n",
       "      <td>46</td>\n",
       "      <td>&lt;music21.note.Note B-&gt;</td>\n",
       "      <td>&lt;music21.note.Note B-&gt;, 1.0</td>\n",
       "    </tr>\n",
       "    <tr>\n",
       "      <th>4</th>\n",
       "      <td>['&lt;music21.note.Note F&gt;', '0.125']</td>\n",
       "      <td>0.125</td>\n",
       "      <td>65</td>\n",
       "      <td>&lt;music21.note.Note F&gt;</td>\n",
       "      <td>&lt;music21.note.Note F&gt;, 0.125</td>\n",
       "    </tr>\n",
       "  </tbody>\n",
       "</table>\n",
       "</div>"
      ],
      "text/plain": [
       "                      NoteAndDuration  NoteDuration  NoteFreq  \\\n",
       "0   ['<music21.note.Note B->', '1.0']         1.000        58   \n",
       "1   ['<music21.note.Note B->', '1.0']         1.000        58   \n",
       "2   ['<music21.note.Note B->', '1.0']         1.000        58   \n",
       "3   ['<music21.note.Note B->', '1.0']         1.000        46   \n",
       "4  ['<music21.note.Note F>', '0.125']         0.125        65   \n",
       "\n",
       "              NotePitches           str_NoteAndDuration  \n",
       "0  <music21.note.Note B->   <music21.note.Note B->, 1.0  \n",
       "1  <music21.note.Note B->   <music21.note.Note B->, 1.0  \n",
       "2  <music21.note.Note B->   <music21.note.Note B->, 1.0  \n",
       "3  <music21.note.Note B->   <music21.note.Note B->, 1.0  \n",
       "4   <music21.note.Note F>  <music21.note.Note F>, 0.125  "
      ]
     },
     "execution_count": 4,
     "metadata": {},
     "output_type": "execute_result"
    }
   ],
   "source": [
    "StringsPD.head()"
   ]
  },
  {
   "cell_type": "code",
   "execution_count": 5,
   "metadata": {},
   "outputs": [
    {
     "name": "stdout",
     "output_type": "stream",
     "text": [
      "There are 1048575 notes from the new string quartets and\n",
      "126279 notes from the original Bach corpusand a 730.36 percent increase to the number of notes in the training corpus!\n"
     ]
    }
   ],
   "source": [
    "#find the length of both datasets\n",
    "\n",
    "StringsLen = len(StringsPD)\n",
    "BachLen = len(BachPD)\n",
    "PercentInc = round((len(StringsPD) -len(BachPD)  )/len(BachPD) * 100, 2)\n",
    "print('There are %s notes from the new string quartets and' \n",
    "      '\\n%s notes from the original Bach corpus' \n",
    "      'and a %s percent increase to the number of notes in the training corpus!'% (StringsLen, BachLen, PercentInc ))  "
   ]
  },
  {
   "cell_type": "markdown",
   "metadata": {},
   "source": [
    "### Compare the means of the 2 groups"
   ]
  },
  {
   "cell_type": "code",
   "execution_count": 6,
   "metadata": {
    "collapsed": true
   },
   "outputs": [],
   "source": [
    "StringsPD = StringsPD.groupby(['NoteDuration', 'NoteFreq'])['str_NoteAndDuration'].count()\n",
    "StringsPD = StringsPD.reset_index()\n",
    "StringsPD.columns = ['NoteDuration', 'NoteFreq', 'Count']"
   ]
  },
  {
   "cell_type": "code",
   "execution_count": 7,
   "metadata": {
    "collapsed": true
   },
   "outputs": [],
   "source": [
    "StringsPD.Count = StringsPD.Count.astype(int)"
   ]
  },
  {
   "cell_type": "code",
   "execution_count": 8,
   "metadata": {
    "collapsed": true
   },
   "outputs": [],
   "source": [
    "BachPD = BachPD.groupby(['NoteDuration', 'NoteFreq'])['str_NoteAndDuration'].count()\n",
    "BachPD = BachPD.reset_index()\n",
    "BachPD.columns = ['NoteDuration', 'NoteFreq', 'Count']"
   ]
  },
  {
   "cell_type": "code",
   "execution_count": 9,
   "metadata": {
    "collapsed": true
   },
   "outputs": [],
   "source": [
    "BachPD.Count = BachPD.Count.astype(int)"
   ]
  },
  {
   "cell_type": "code",
   "execution_count": 10,
   "metadata": {},
   "outputs": [
    {
     "data": {
      "text/plain": [
       "pandas.core.series.Series"
      ]
     },
     "execution_count": 10,
     "metadata": {},
     "output_type": "execute_result"
    }
   ],
   "source": [
    "type(StringsPD.Count)"
   ]
  },
  {
   "cell_type": "code",
   "execution_count": null,
   "metadata": {
    "collapsed": true
   },
   "outputs": [],
   "source": []
  },
  {
   "cell_type": "code",
   "execution_count": null,
   "metadata": {
    "collapsed": true
   },
   "outputs": [],
   "source": []
  },
  {
   "cell_type": "code",
   "execution_count": null,
   "metadata": {
    "scrolled": true
   },
   "outputs": [],
   "source": [
    "import seaborn as sns\n",
    "import matplotlib.pyplot as plt\n",
    "%matplotlib inline\n",
    "plt.rcParams['figure.figsize'] = (20.0, 10.0)\n",
    "\n",
    "plt.subplot(1, 2, 1)\n",
    "points = plt.scatter(StringsPD['NoteDuration']\n",
    "            , StringsPD['NoteFreq']\n",
    "            , c = StringsPD['Count']\n",
    "            , s = (StringsPD['Count']/4))\n",
    "#plt.legend(['Count'], loc='upper right')\n",
    "plt.colorbar(points)\n",
    "plt.title(\"String Quartet Note Duration by Pitch Frequncy\")\n",
    "plt.xlabel('Note Duration')\n",
    "plt.ylabel('Note Frequency')\n",
    "\n",
    "plt.subplot(1, 2, 2)\n",
    "points = plt.scatter(BachPD['NoteDuration']\n",
    "            , BachPD['NoteFreq']\n",
    "            , c = BachPD['Count']\n",
    "            , s = (BachPD['Count']/4))\n",
    "\n",
    "plt.colorbar(points)\n",
    "plt.title(\"Bach Note Duration by Pitch Frequncy\")\n",
    "plt.xlabel('Note Duration')\n",
    "plt.ylabel('Note Frequency')\n",
    "\n",
    "\n",
    "plt.set_size_inches(18.5, 10.5)\n",
    "#plt.savefig('test2png.png')\n",
    "plt.savefig('FreqDurationCompare.png', dpi=100)"
   ]
  },
  {
   "cell_type": "code",
   "execution_count": 16,
   "metadata": {},
   "outputs": [
    {
     "name": "stderr",
     "output_type": "stream",
     "text": [
      "C:\\Users\\karlk\\Anaconda3\\lib\\site-packages\\statsmodels\\compat\\pandas.py:56: FutureWarning: The pandas.core.datetools module is deprecated and will be removed in a future version. Please use the pandas.tseries module instead.\n",
      "  from pandas.core import datetools\n"
     ]
    },
    {
     "data": {
      "text/plain": [
       "(2.0300738444884221, 0.04234903371791305)"
      ]
     },
     "execution_count": 16,
     "metadata": {},
     "output_type": "execute_result"
    }
   ],
   "source": [
    "import numpy as np\n",
    "import statsmodels.api as sm\n",
    "sm.stats.ztest(StringsPD['NoteFreq'], BachPD['NoteFreq'])"
   ]
  },
  {
   "cell_type": "code",
   "execution_count": 17,
   "metadata": {},
   "outputs": [
    {
     "data": {
      "text/plain": [
       "(0.19385697366446819, 0.84628787455890331)"
      ]
     },
     "execution_count": 17,
     "metadata": {},
     "output_type": "execute_result"
    }
   ],
   "source": [
    "sm.stats.ztest(StringsPD['NoteDuration'], BachPD['NoteDuration'])"
   ]
  },
  {
   "cell_type": "code",
   "execution_count": 18,
   "metadata": {},
   "outputs": [
    {
     "data": {
      "text/plain": [
       "(13.725221027838378, 7.1710115159729887e-43)"
      ]
     },
     "execution_count": 18,
     "metadata": {},
     "output_type": "execute_result"
    }
   ],
   "source": [
    "sm.stats.ztest(StringsPD['Count'], BachPD['Count'])"
   ]
  },
  {
   "cell_type": "markdown",
   "metadata": {},
   "source": [
    "### Conculsion"
   ]
  },
  {
   "cell_type": "markdown",
   "metadata": {},
   "source": [
    "First I checked if there was a statistical difference in the proportions of the note frequencies between the Bach chorales and the String Quartets and the note durations individually. The note frequencies alone showed evidence of a statistical difference in the proportions of the 2 samples. However, most likely due to the lack of triplet subdivisions, there was lack of evidence to show a statistically significant difference in durations between the Back compositions and the string quartets.\n",
    "\n",
    "Finally I ran another z test on the count of the combinations of a given frequency and duration to see if there was evidence of a statistically significant difference in the 2 samples proportions. After engineering the feature of 'Count' described above there was considerable evidence of a difference between the note propotions between the Bach Chorales and the String Quartets. This means that after training a DNN with either just the String Quartets or the combination of String Quartets and the Bach Chorales will yield stylistically new output. "
   ]
  },
  {
   "cell_type": "code",
   "execution_count": null,
   "metadata": {
    "collapsed": true
   },
   "outputs": [],
   "source": []
  }
 ],
 "metadata": {
  "kernelspec": {
   "display_name": "Python 3",
   "language": "python",
   "name": "python3"
  },
  "language_info": {
   "codemirror_mode": {
    "name": "ipython",
    "version": 3
   },
   "file_extension": ".py",
   "mimetype": "text/x-python",
   "name": "python",
   "nbconvert_exporter": "python",
   "pygments_lexer": "ipython3",
   "version": "3.6.1"
  }
 },
 "nbformat": 4,
 "nbformat_minor": 2
}
