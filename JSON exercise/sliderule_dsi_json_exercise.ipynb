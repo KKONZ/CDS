{
 "cells": [
  {
   "cell_type": "markdown",
   "metadata": {},
   "source": [
    "# JSON examples and exercise\n",
    "****\n",
    "+ get familiar with packages for dealing with JSON\n",
    "+ study examples with JSON strings and files \n",
    "+ work on exercise to be completed and submitted \n",
    "****\n",
    "+ reference: http://pandas.pydata.org/pandas-docs/stable/io.html#io-json-reader\n",
    "+ data source: http://jsonstudio.com/resources/\n",
    "****"
   ]
  },
  {
   "cell_type": "code",
   "execution_count": 1,
   "metadata": {
    "collapsed": true
   },
   "outputs": [],
   "source": [
    "#import pandas as pd"
   ]
  },
  {
   "cell_type": "markdown",
   "metadata": {},
   "source": [
    "## imports for Python, Pandas"
   ]
  },
  {
   "cell_type": "code",
   "execution_count": 146,
   "metadata": {
    "collapsed": true
   },
   "outputs": [],
   "source": [
    "#import json\n",
    "#from pandas.io.json import json_normalize"
   ]
  },
  {
   "cell_type": "markdown",
   "metadata": {},
   "source": [
    "## JSON example, with string\n",
    "\n",
    "+ demonstrates creation of normalized dataframes (tables) from nested json string\n",
    "+ source: http://pandas.pydata.org/pandas-docs/stable/io.html#normalization"
   ]
  },
  {
   "cell_type": "code",
   "execution_count": 147,
   "metadata": {
    "collapsed": true
   },
   "outputs": [],
   "source": [
    "# define json string\n",
    "data = [{'state': 'Florida', \n",
    "         'shortname': 'FL',\n",
    "         'info': {'governor': 'Rick Scott'},\n",
    "         'counties': [{'name': 'Dade', 'population': 12345},\n",
    "                      {'name': 'Broward', 'population': 40000},\n",
    "                      {'name': 'Palm Beach', 'population': 60000}]},\n",
    "        {'state': 'Ohio',\n",
    "         'shortname': 'OH',\n",
    "         'info': {'governor': 'John Kasich'},\n",
    "         'counties': [{'name': 'Summit', 'population': 1234},\n",
    "                      {'name': 'Cuyahoga', 'population': 1337}]}]"
   ]
  },
  {
   "cell_type": "code",
   "execution_count": 148,
   "metadata": {},
   "outputs": [],
   "source": [
    "# use normalization to create tables from nested element\n",
    "#json_normalize(data, 'counties')"
   ]
  },
  {
   "cell_type": "code",
   "execution_count": 149,
   "metadata": {},
   "outputs": [],
   "source": [
    "# further populate tables created from nested element\n",
    "#json_normalize(data, 'counties', ['state', 'shortname', ['info', 'governor']])"
   ]
  },
  {
   "cell_type": "markdown",
   "metadata": {},
   "source": [
    "****\n",
    "## JSON example, with file\n",
    "\n",
    "+ demonstrates reading in a json file as a string and as a table\n",
    "+ uses small sample file containing data about projects funded by the World Bank \n",
    "+ data source: http://jsonstudio.com/resources/"
   ]
  },
  {
   "cell_type": "code",
   "execution_count": 150,
   "metadata": {
    "collapsed": true
   },
   "outputs": [],
   "source": [
    "# load json as string\n",
    "#json.load((open('data/world_bank_projects_less.json')))"
   ]
  },
  {
   "cell_type": "code",
   "execution_count": 151,
   "metadata": {},
   "outputs": [],
   "source": [
    "# load as Pandas dataframe\n",
    "#sample_json_df = pd.read_json('data/world_bank_projects_less.json')\n",
    "#sample_json_df"
   ]
  },
  {
   "cell_type": "markdown",
   "metadata": {},
   "source": [
    "****\n",
    "## JSON exercise\n",
    "\n",
    "Using data in file 'data/world_bank_projects.json' and the techniques demonstrated above,\n",
    "1. Find the 10 countries with most projects\n",
    "2. Find the top 10 major project themes (using column 'mjtheme_namecode')\n",
    "3. In 2. above you will notice that some entries have only the code and the name is missing. Create a dataframe with the missing names filled in."
   ]
  },
  {
   "cell_type": "code",
   "execution_count": 152,
   "metadata": {
    "collapsed": true
   },
   "outputs": [],
   "source": [
    "import json\n",
    "import pandas as pd\n",
    "from pandas.io.json import json_normalize\n",
    "\n",
    "\n",
    "# load json as string\n",
    "df = pd.read_json('data/world_bank_projects.json')\n",
    "\n",
    "#type(df)\n",
    "\n",
    "#df.head()\n",
    "# normalize the json data set\n",
    "###json_normalize(data, 'counties')"
   ]
  },
  {
   "cell_type": "code",
   "execution_count": 154,
   "metadata": {},
   "outputs": [
    {
     "name": "stdout",
     "output_type": "stream",
     "text": [
      "['_id', 'approvalfy', 'board_approval_month', 'boardapprovaldate', 'borrower', 'closingdate', 'country_namecode', 'countrycode', 'countryname', 'countryshortname', 'docty', 'envassesmentcategorycode', 'grantamt', 'ibrdcommamt', 'id', 'idacommamt', 'impagency', 'lendinginstr', 'lendinginstrtype', 'lendprojectcost', 'majorsector_percent', 'mjsector_namecode', 'mjtheme', 'mjtheme_namecode', 'mjthemecode', 'prodline', 'prodlinetext', 'productlinetype', 'project_abstract', 'project_name', 'projectdocs', 'projectfinancialtype', 'projectstatusdisplay', 'regionname', 'sector', 'sector1', 'sector2', 'sector3', 'sector4', 'sector_namecode', 'sectorcode', 'source', 'status', 'supplementprojectflg', 'theme1', 'theme_namecode', 'themecode', 'totalamt', 'totalcommamt', 'url']\n"
     ]
    }
   ],
   "source": [
    "print(list(df.columns))"
   ]
  },
  {
   "cell_type": "code",
   "execution_count": 4,
   "metadata": {},
   "outputs": [
    {
     "data": {
      "text/plain": [
       "borrower\n",
       "MINISTRY OF FINANCE              30\n",
       "GOVERNMENT OF INDIA              13\n",
       "SOCIALIST REPUBLIC OF VIETNAM    10\n",
       "PEOPLE'S REPUBLIC OF CHINA        8\n",
       "GOVERNMENT OF NEPAL               8\n",
       "REPUBLIC OF INDONESIA             7\n",
       "GOVERNMENT OF INDONESIA           6\n",
       "GOVERNMENT OF BURKINA FASO        5\n",
       "REPUBLIC OF UZBEKISTAN            5\n",
       "GOVERNMENT OF MOZAMBIQUE          5\n",
       "Name: _id, dtype: int64"
      ]
     },
     "execution_count": 4,
     "metadata": {},
     "output_type": "execute_result"
    }
   ],
   "source": [
    "\n",
    "## Question 1\n",
    "\n",
    "# Find the top 10 countries with the most projects in the data set\n",
    "# To find this we can pivot the borrower by the id \n",
    "# The following analysis treats the data as 1 project per row\n",
    "\n",
    "# First use pivot_table with borrower as an index, aggregate by the count of projects instances with the given\n",
    "# borrower values\n",
    "pvt = df.pivot_table(index = 'borrower', aggfunc = 'count')\n",
    "\n",
    "# Sort the pvt table by _id in descending order and only store the top 10 borrowers\n",
    "pvtSorted = pvt.sort_values(by='_id', ascending = False).head(10)\n",
    "\n",
    "# display the pvtSorted table, only displaying the _id column\n",
    "pvtSorted['_id']"
   ]
  },
  {
   "cell_type": "code",
   "execution_count": 180,
   "metadata": {},
   "outputs": [
    {
     "data": {
      "text/plain": [
       "borrower\n",
       "GOVERNMENT OF INDIA              2185700000\n",
       "REPUBLIC OF INDONESIA            1616000000\n",
       "REPUBLIC OF POLAND               1307800000\n",
       "SOCIALIST REPUBLIC OF VIETNAM    1271760000\n",
       "MINISTRY OF FINANCE               980840000\n",
       "PEOPLE'S REPUBLIC OF CHINA        837280000\n",
       "REPUBLIC OF TURKEY                800000000\n",
       "GOVERNMENT OF BANGLADESH          662730000\n",
       "FED DEM REPUBLIC OF ETHIOPIA      600000000\n",
       "REPUBLIC OF COLOMBIA              600000000\n",
       "Name: totalcommamt, dtype: int64"
      ]
     },
     "execution_count": 180,
     "metadata": {},
     "output_type": "execute_result"
    }
   ],
   "source": [
    "# Above and beyond stuff, find the top 10 countries with the highest total commitment values\n",
    "\n",
    "pvtX = df.pivot_table(index = ['borrower'], aggfunc = 'sum')\n",
    "\n",
    "\n",
    "pvtX\n",
    "# Sort the pvt table by _id in descending order and only store the top 10 borrowers\n",
    "pvtXSorted = pvtX.sort_values(by = 'totalcommamt', ascending = False).head(10)\n",
    "\n",
    "# display the pvtSorted table, only displaying the _id column\n",
    "pvtXSorted['totalcommamt']\n"
   ]
  },
  {
   "cell_type": "code",
   "execution_count": 156,
   "metadata": {},
   "outputs": [],
   "source": [
    "## Question 2:\n",
    "\n",
    "# read in the json file without using pandas\n",
    "data = json.load((open('data/world_bank_projects.json')))"
   ]
  },
  {
   "cell_type": "code",
   "execution_count": 157,
   "metadata": {},
   "outputs": [],
   "source": [
    "# normalize the data based on the mjtheme_namecode column\n",
    "NormalThemes = json_normalize(data, ['mjtheme_namecode'])"
   ]
  },
  {
   "cell_type": "code",
   "execution_count": 158,
   "metadata": {},
   "outputs": [
    {
     "data": {
      "text/html": [
       "<div>\n",
       "<style>\n",
       "    .dataframe thead tr:only-child th {\n",
       "        text-align: right;\n",
       "    }\n",
       "\n",
       "    .dataframe thead th {\n",
       "        text-align: left;\n",
       "    }\n",
       "\n",
       "    .dataframe tbody tr th {\n",
       "        vertical-align: top;\n",
       "    }\n",
       "</style>\n",
       "<table border=\"1\" class=\"dataframe\">\n",
       "  <thead>\n",
       "    <tr style=\"text-align: right;\">\n",
       "      <th></th>\n",
       "      <th>name</th>\n",
       "    </tr>\n",
       "    <tr>\n",
       "      <th>code</th>\n",
       "      <th></th>\n",
       "    </tr>\n",
       "  </thead>\n",
       "  <tbody>\n",
       "    <tr>\n",
       "      <th>11</th>\n",
       "      <td>250</td>\n",
       "    </tr>\n",
       "    <tr>\n",
       "      <th>10</th>\n",
       "      <td>216</td>\n",
       "    </tr>\n",
       "    <tr>\n",
       "      <th>8</th>\n",
       "      <td>210</td>\n",
       "    </tr>\n",
       "    <tr>\n",
       "      <th>2</th>\n",
       "      <td>199</td>\n",
       "    </tr>\n",
       "    <tr>\n",
       "      <th>6</th>\n",
       "      <td>168</td>\n",
       "    </tr>\n",
       "    <tr>\n",
       "      <th>4</th>\n",
       "      <td>146</td>\n",
       "    </tr>\n",
       "    <tr>\n",
       "      <th>7</th>\n",
       "      <td>130</td>\n",
       "    </tr>\n",
       "    <tr>\n",
       "      <th>5</th>\n",
       "      <td>77</td>\n",
       "    </tr>\n",
       "    <tr>\n",
       "      <th>9</th>\n",
       "      <td>50</td>\n",
       "    </tr>\n",
       "    <tr>\n",
       "      <th>1</th>\n",
       "      <td>38</td>\n",
       "    </tr>\n",
       "    <tr>\n",
       "      <th>3</th>\n",
       "      <td>15</td>\n",
       "    </tr>\n",
       "  </tbody>\n",
       "</table>\n",
       "</div>"
      ],
      "text/plain": [
       "      name\n",
       "code      \n",
       "11     250\n",
       "10     216\n",
       "8      210\n",
       "2      199\n",
       "6      168\n",
       "4      146\n",
       "7      130\n",
       "5       77\n",
       "9       50\n",
       "1       38\n",
       "3       15"
      ]
     },
     "execution_count": 158,
     "metadata": {},
     "output_type": "execute_result"
    }
   ],
   "source": [
    "# pivot the normalized table NormalThemes by the code column, again aggregating by the count in descending\n",
    "# order by the count of the name columns in descending order\n",
    "NormalThemes.pivot_table(index = 'code', aggfunc = 'count').sort_values(by='name', ascending = False)"
   ]
  },
  {
   "cell_type": "code",
   "execution_count": 183,
   "metadata": {},
   "outputs": [
    {
     "name": "stdout",
     "output_type": "stream",
     "text": [
      "['1' '10' '11' '2' '3' '4' '5' '6' '7' '8' '9' 'Economic management'\n",
      " 'Environment and natural resources management'\n",
      " 'Financial and private sector development' 'Human development'\n",
      " 'Public sector governance' 'Rule of law' 'Rural development'\n",
      " 'Social dev/gender/inclusion' 'Social protection and risk management'\n",
      " 'Trade and integration' 'Urban development']\n"
     ]
    }
   ],
   "source": [
    "## Question 3\n",
    "\n",
    "# Create a lookup object to fill in the missing code name values\n",
    "LookUp = np.unique(NormalThemes[NormalThemes['name'] != ''])\n",
    "print(LookUp)"
   ]
  },
  {
   "cell_type": "code",
   "execution_count": 184,
   "metadata": {},
   "outputs": [],
   "source": [
    "# Fill in the missing code names\n",
    "NormalThemes[(NormalThemes['code'] == '11') & (NormalThemes['name'] == '')] = 'Environment and natural resources management'\n",
    "NormalThemes[(NormalThemes['code'] == '10') & (NormalThemes['name'] == '')] = 'Rural development'\n",
    "NormalThemes[(NormalThemes['code'] == '9') & (NormalThemes['name'] == '')] = 'Urban development'\n",
    "NormalThemes[(NormalThemes['code'] == '8') & (NormalThemes['name'] == '')] = 'Human development'\n",
    "NormalThemes[(NormalThemes['code'] == '7') & (NormalThemes['name'] == '')] = 'Social dev/gender/inclusion'\n",
    "NormalThemes[(NormalThemes['code'] == '6') & (NormalThemes['name'] == '')] = 'Social protection and risk management'\n",
    "NormalThemes[(NormalThemes['code'] == '5') & (NormalThemes['name'] == '')] = 'Trade and integration'\n",
    "NormalThemes[(NormalThemes['code'] == '4') & (NormalThemes['name'] == '')] = 'Financial and private sector development'\n",
    "NormalThemes[(NormalThemes['code'] == '3') & (NormalThemes['name'] == '')] = 'Rule of law'\n",
    "NormalThemes[(NormalThemes['code'] == '2') & (NormalThemes['name'] == '')] = 'Public sector governance'\n",
    "NormalThemes[(NormalThemes['code'] == '1') & (NormalThemes['name'] == '')] = 'Economic management'"
   ]
  },
  {
   "cell_type": "code",
   "execution_count": 185,
   "metadata": {},
   "outputs": [
    {
     "data": {
      "text/html": [
       "<div>\n",
       "<style>\n",
       "    .dataframe thead tr:only-child th {\n",
       "        text-align: right;\n",
       "    }\n",
       "\n",
       "    .dataframe thead th {\n",
       "        text-align: left;\n",
       "    }\n",
       "\n",
       "    .dataframe tbody tr th {\n",
       "        vertical-align: top;\n",
       "    }\n",
       "</style>\n",
       "<table border=\"1\" class=\"dataframe\">\n",
       "  <thead>\n",
       "    <tr style=\"text-align: right;\">\n",
       "      <th></th>\n",
       "      <th>code</th>\n",
       "    </tr>\n",
       "    <tr>\n",
       "      <th>name</th>\n",
       "      <th></th>\n",
       "    </tr>\n",
       "  </thead>\n",
       "  <tbody>\n",
       "    <tr>\n",
       "      <th>Environment and natural resources management</th>\n",
       "      <td>250</td>\n",
       "    </tr>\n",
       "    <tr>\n",
       "      <th>Rural development</th>\n",
       "      <td>216</td>\n",
       "    </tr>\n",
       "    <tr>\n",
       "      <th>Human development</th>\n",
       "      <td>210</td>\n",
       "    </tr>\n",
       "    <tr>\n",
       "      <th>Public sector governance</th>\n",
       "      <td>199</td>\n",
       "    </tr>\n",
       "    <tr>\n",
       "      <th>Social protection and risk management</th>\n",
       "      <td>168</td>\n",
       "    </tr>\n",
       "    <tr>\n",
       "      <th>Financial and private sector development</th>\n",
       "      <td>146</td>\n",
       "    </tr>\n",
       "    <tr>\n",
       "      <th>Social dev/gender/inclusion</th>\n",
       "      <td>130</td>\n",
       "    </tr>\n",
       "    <tr>\n",
       "      <th>Trade and integration</th>\n",
       "      <td>77</td>\n",
       "    </tr>\n",
       "    <tr>\n",
       "      <th>Urban development</th>\n",
       "      <td>50</td>\n",
       "    </tr>\n",
       "    <tr>\n",
       "      <th>Economic management</th>\n",
       "      <td>38</td>\n",
       "    </tr>\n",
       "  </tbody>\n",
       "</table>\n",
       "</div>"
      ],
      "text/plain": [
       "                                              code\n",
       "name                                              \n",
       "Environment and natural resources management   250\n",
       "Rural development                              216\n",
       "Human development                              210\n",
       "Public sector governance                       199\n",
       "Social protection and risk management          168\n",
       "Financial and private sector development       146\n",
       "Social dev/gender/inclusion                    130\n",
       "Trade and integration                           77\n",
       "Urban development                               50\n",
       "Economic management                             38"
      ]
     },
     "execution_count": 185,
     "metadata": {},
     "output_type": "execute_result"
    }
   ],
   "source": [
    "# Display the aggregated pivot table by name and code, showing that the values have been filled in.\n",
    "NamesPivot = NormalThemes.pivot_table(index = 'name', aggfunc = 'count').sort_values(by='code', ascending = False).head(10)NamesPivot"
   ]
  },
  {
   "cell_type": "code",
   "execution_count": 201,
   "metadata": {},
   "outputs": [
    {
     "data": {
      "text/plain": [
       "Index(['Environment and natural resources management', 'Rural development',\n",
       "       'Human development', 'Public sector governance',\n",
       "       'Social protection and risk management',\n",
       "       'Financial and private sector development',\n",
       "       'Social dev/gender/inclusion', 'Trade and integration',\n",
       "       'Urban development', 'Economic management'],\n",
       "      dtype='object', name='name')"
      ]
     },
     "execution_count": 201,
     "metadata": {},
     "output_type": "execute_result"
    }
   ],
   "source": [
    "NamesPivot.index"
   ]
  },
  {
   "cell_type": "code",
   "execution_count": 213,
   "metadata": {
    "collapsed": true
   },
   "outputs": [],
   "source": [
    "Count = NamesPivot[['code']]"
   ]
  },
  {
   "cell_type": "code",
   "execution_count": 220,
   "metadata": {},
   "outputs": [],
   "source": [
    "# Above and beyond \n",
    "## plot the normalized theme data frame in a horizontal bar chart\n",
    "import matplotlib.pyplot as plt\n",
    "\n",
    "#plt.barh(Count, NamesPivot.index,  align='center', alpha=0.5)"
   ]
  },
  {
   "cell_type": "code",
   "execution_count": 228,
   "metadata": {},
   "outputs": [],
   "source": [
    "listCount = (NamesPivot[['code']])"
   ]
  },
  {
   "cell_type": "code",
   "execution_count": 234,
   "metadata": {},
   "outputs": [
    {
     "data": {
      "image/png": "[encoded data removed]",
      "text/plain": [
       "<matplotlib.figure.Figure at 0x1e71b30e6d8>"
      ]
     },
     "metadata": {},
     "output_type": "display_data"
    }
   ],
   "source": [
    "NamesPivot.plot(kind='barh')\n",
    "plt.show()"
   ]
  },
  {
   "cell_type": "code",
   "execution_count": null,
   "metadata": {
    "collapsed": true
   },
   "outputs": [],
   "source": []
  }
 ],
 "metadata": {
  "kernelspec": {
   "display_name": "Python 3",
   "language": "python",
   "name": "python3"
  },
  "language_info": {
   "codemirror_mode": {
    "name": "ipython",
    "version": 3
   },
   "file_extension": ".py",
   "mimetype": "text/x-python",
   "name": "python",
   "nbconvert_exporter": "python",
   "pygments_lexer": "ipython3",
   "version": "3.6.1"
  }
 },
 "nbformat": 4,
 "nbformat_minor": 1
}
